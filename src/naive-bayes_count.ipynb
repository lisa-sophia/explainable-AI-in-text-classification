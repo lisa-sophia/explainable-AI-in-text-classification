{
 "cells": [
  {
   "cell_type": "code",
   "execution_count": 1,
   "metadata": {
    "colab": {
     "base_uri": "https://localhost:8080/"
    },
    "executionInfo": {
     "elapsed": 1337,
     "status": "ok",
     "timestamp": 1645568868864,
     "user": {
      "displayName": "Lisa Spahn Lundgren",
      "photoUrl": "https://lh3.googleusercontent.com/a/default-user=s64",
      "userId": "13266833213640265739"
     },
     "user_tz": -60
    },
    "id": "AawEopyLSAmU",
    "outputId": "08d66e4d-be16-471d-8d96-39617169eec0"
   },
   "outputs": [
    {
     "data": {
      "text/html": [
       "<div>\n",
       "<style scoped>\n",
       "    .dataframe tbody tr th:only-of-type {\n",
       "        vertical-align: middle;\n",
       "    }\n",
       "\n",
       "    .dataframe tbody tr th {\n",
       "        vertical-align: top;\n",
       "    }\n",
       "\n",
       "    .dataframe thead th {\n",
       "        text-align: right;\n",
       "    }\n",
       "</style>\n",
       "<table border=\"1\" class=\"dataframe\">\n",
       "  <thead>\n",
       "    <tr style=\"text-align: right;\">\n",
       "      <th></th>\n",
       "      <th>post</th>\n",
       "      <th>gender</th>\n",
       "      <th>tokenized</th>\n",
       "      <th>cleaned</th>\n",
       "      <th>cluster</th>\n",
       "    </tr>\n",
       "  </thead>\n",
       "  <tbody>\n",
       "    <tr>\n",
       "      <th>0</th>\n",
       "      <td>What? No escape? I thought that I would be ab...</td>\n",
       "      <td>1</td>\n",
       "      <td>['escape', 'thought', 'would', 'able', 'get', ...</td>\n",
       "      <td>['escape', 'thought', 'able', 'need', 'hear', ...</td>\n",
       "      <td>7</td>\n",
       "    </tr>\n",
       "    <tr>\n",
       "      <th>1</th>\n",
       "      <td>And all I can say is Thank You, Thank You!!!  ...</td>\n",
       "      <td>1</td>\n",
       "      <td>['say', 'thank', 'thank', 'think', 'look', 'an...</td>\n",
       "      <td>['thank', 'thank', 'think', 'look', 'surgical'...</td>\n",
       "      <td>7</td>\n",
       "    </tr>\n",
       "    <tr>\n",
       "      <th>2</th>\n",
       "      <td>She is a very very sweet girl :)\\n\\nIts hardly...</td>\n",
       "      <td>1</td>\n",
       "      <td>['sweet', 'girl', 'hardly', '2', 'month', 'sin...</td>\n",
       "      <td>['sweet', 'girl', 'hardly', 'month', 'start', ...</td>\n",
       "      <td>5</td>\n",
       "    </tr>\n",
       "    <tr>\n",
       "      <th>3</th>\n",
       "      <td>I love what Brooke had to say about the event,...</td>\n",
       "      <td>1</td>\n",
       "      <td>['love', 'brooke', 'say', 'event', 'also', 'ti...</td>\n",
       "      <td>['love', 'brooke', 'event', 'tidbit', 'advice'...</td>\n",
       "      <td>2</td>\n",
       "    </tr>\n",
       "    <tr>\n",
       "      <th>4</th>\n",
       "      <td>I have some photos I've been meaning to post f...</td>\n",
       "      <td>1</td>\n",
       "      <td>['photo', 'ive', 'mean', 'post', 'david', 'rei...</td>\n",
       "      <td>['photo', 'mean', 'post', 'david', 'reid', 'lo...</td>\n",
       "      <td>2</td>\n",
       "    </tr>\n",
       "    <tr>\n",
       "      <th>...</th>\n",
       "      <td>...</td>\n",
       "      <td>...</td>\n",
       "      <td>...</td>\n",
       "      <td>...</td>\n",
       "      <td>...</td>\n",
       "    </tr>\n",
       "    <tr>\n",
       "      <th>2569</th>\n",
       "      <td>So, on my long run of the week I like to conte...</td>\n",
       "      <td>1</td>\n",
       "      <td>['long', 'run', 'week', 'like', 'contemplate',...</td>\n",
       "      <td>['long', 'run', 'week', 'like', 'contemplate',...</td>\n",
       "      <td>7</td>\n",
       "    </tr>\n",
       "    <tr>\n",
       "      <th>2570</th>\n",
       "      <td>Contact lenses require a certain degree of car...</td>\n",
       "      <td>0</td>\n",
       "      <td>['contact', 'lenses', 'require', 'certain', 'd...</td>\n",
       "      <td>['contact', 'lense', 'require', 'certain', 'de...</td>\n",
       "      <td>2</td>\n",
       "    </tr>\n",
       "    <tr>\n",
       "      <th>2571</th>\n",
       "      <td>I didn't start watching AD until way after the...</td>\n",
       "      <td>1</td>\n",
       "      <td>['didnt', 'start', 'watch', 'ad', 'way', 'show...</td>\n",
       "      <td>['start', 'watch', 'way', 'late', 'know', 'beg...</td>\n",
       "      <td>2</td>\n",
       "    </tr>\n",
       "    <tr>\n",
       "      <th>2572</th>\n",
       "      <td>At Creation Moments, Ian Taylor starts by aski...</td>\n",
       "      <td>0</td>\n",
       "      <td>['creation', 'moment', 'ian', 'taylor', 'start...</td>\n",
       "      <td>['creation', 'moment', 'ian', 'taylor', 'start...</td>\n",
       "      <td>7</td>\n",
       "    </tr>\n",
       "    <tr>\n",
       "      <th>2573</th>\n",
       "      <td>In all my years of reading horror comics I've ...</td>\n",
       "      <td>0</td>\n",
       "      <td>['year', 'read', 'horror', 'comic', 'ive', 'le...</td>\n",
       "      <td>['year', 'read', 'horror', 'comic', 'learn', '...</td>\n",
       "      <td>2</td>\n",
       "    </tr>\n",
       "  </tbody>\n",
       "</table>\n",
       "<p>2574 rows × 5 columns</p>\n",
       "</div>"
      ],
      "text/plain": [
       "                                                   post  gender  \\\n",
       "0      What? No escape? I thought that I would be ab...       1   \n",
       "1     And all I can say is Thank You, Thank You!!!  ...       1   \n",
       "2     She is a very very sweet girl :)\\n\\nIts hardly...       1   \n",
       "3     I love what Brooke had to say about the event,...       1   \n",
       "4     I have some photos I've been meaning to post f...       1   \n",
       "...                                                 ...     ...   \n",
       "2569  So, on my long run of the week I like to conte...       1   \n",
       "2570  Contact lenses require a certain degree of car...       0   \n",
       "2571  I didn't start watching AD until way after the...       1   \n",
       "2572  At Creation Moments, Ian Taylor starts by aski...       0   \n",
       "2573  In all my years of reading horror comics I've ...       0   \n",
       "\n",
       "                                              tokenized  \\\n",
       "0     ['escape', 'thought', 'would', 'able', 'get', ...   \n",
       "1     ['say', 'thank', 'thank', 'think', 'look', 'an...   \n",
       "2     ['sweet', 'girl', 'hardly', '2', 'month', 'sin...   \n",
       "3     ['love', 'brooke', 'say', 'event', 'also', 'ti...   \n",
       "4     ['photo', 'ive', 'mean', 'post', 'david', 'rei...   \n",
       "...                                                 ...   \n",
       "2569  ['long', 'run', 'week', 'like', 'contemplate',...   \n",
       "2570  ['contact', 'lenses', 'require', 'certain', 'd...   \n",
       "2571  ['didnt', 'start', 'watch', 'ad', 'way', 'show...   \n",
       "2572  ['creation', 'moment', 'ian', 'taylor', 'start...   \n",
       "2573  ['year', 'read', 'horror', 'comic', 'ive', 'le...   \n",
       "\n",
       "                                                cleaned  cluster  \n",
       "0     ['escape', 'thought', 'able', 'need', 'hear', ...        7  \n",
       "1     ['thank', 'thank', 'think', 'look', 'surgical'...        7  \n",
       "2     ['sweet', 'girl', 'hardly', 'month', 'start', ...        5  \n",
       "3     ['love', 'brooke', 'event', 'tidbit', 'advice'...        2  \n",
       "4     ['photo', 'mean', 'post', 'david', 'reid', 'lo...        2  \n",
       "...                                                 ...      ...  \n",
       "2569  ['long', 'run', 'week', 'like', 'contemplate',...        7  \n",
       "2570  ['contact', 'lense', 'require', 'certain', 'de...        2  \n",
       "2571  ['start', 'watch', 'way', 'late', 'know', 'beg...        2  \n",
       "2572  ['creation', 'moment', 'ian', 'taylor', 'start...        7  \n",
       "2573  ['year', 'read', 'horror', 'comic', 'learn', '...        2  \n",
       "\n",
       "[2574 rows x 5 columns]"
      ]
     },
     "execution_count": 1,
     "metadata": {},
     "output_type": "execute_result"
    }
   ],
   "source": [
    "import numpy as np\n",
    "import pandas as pd\n",
    "\n",
    "df_train = pd.read_csv(r'../data/train_tokenized.csv')\n",
    "df_test = pd.read_csv(r'../data/test_tokenized.csv')\n",
    "\n",
    "df_train"
   ]
  },
  {
   "cell_type": "code",
   "execution_count": 2,
   "metadata": {},
   "outputs": [
    {
     "data": {
      "text/html": [
       "<div>\n",
       "<style scoped>\n",
       "    .dataframe tbody tr th:only-of-type {\n",
       "        vertical-align: middle;\n",
       "    }\n",
       "\n",
       "    .dataframe tbody tr th {\n",
       "        vertical-align: top;\n",
       "    }\n",
       "\n",
       "    .dataframe thead th {\n",
       "        text-align: right;\n",
       "    }\n",
       "</style>\n",
       "<table border=\"1\" class=\"dataframe\">\n",
       "  <thead>\n",
       "    <tr style=\"text-align: right;\">\n",
       "      <th></th>\n",
       "      <th>post</th>\n",
       "      <th>gender</th>\n",
       "      <th>tokenized</th>\n",
       "      <th>cleaned</th>\n",
       "      <th>cluster</th>\n",
       "    </tr>\n",
       "  </thead>\n",
       "  <tbody>\n",
       "    <tr>\n",
       "      <th>0</th>\n",
       "      <td>perfect epitome of demagogue ..jus too senitiv...</td>\n",
       "      <td>1</td>\n",
       "      <td>['perfect', 'epitome', 'demagogue', 'jus', 'se...</td>\n",
       "      <td>['perfect', 'epitome', 'demagogue', 'ju', 'sen...</td>\n",
       "      <td>5</td>\n",
       "    </tr>\n",
       "    <tr>\n",
       "      <th>1</th>\n",
       "      <td>Autistic Rights are Disability Rights are Huma...</td>\n",
       "      <td>1</td>\n",
       "      <td>['autistic', 'right', 'disability', 'right', '...</td>\n",
       "      <td>['autistic', 'right', 'disability', 'right', '...</td>\n",
       "      <td>7</td>\n",
       "    </tr>\n",
       "    <tr>\n",
       "      <th>2</th>\n",
       "      <td>Good news for U.S. territories; Del. Donna M. ...</td>\n",
       "      <td>1</td>\n",
       "      <td>['good', 'news', 'u', 'territories', 'del', 'd...</td>\n",
       "      <td>['good', 'news', 'territories', 'del', 'donna'...</td>\n",
       "      <td>6</td>\n",
       "    </tr>\n",
       "    <tr>\n",
       "      <th>3</th>\n",
       "      <td>The weather in this part of the globe is once ...</td>\n",
       "      <td>1</td>\n",
       "      <td>['weather', 'part', 'globe', 'change', 'slight...</td>\n",
       "      <td>['weather', 'globe', 'change', 'slight', 'chil...</td>\n",
       "      <td>2</td>\n",
       "    </tr>\n",
       "    <tr>\n",
       "      <th>4</th>\n",
       "      <td>I was the first one to arrive at the station. ...</td>\n",
       "      <td>1</td>\n",
       "      <td>['first', 'one', 'arrive', 'station', 'sit', '...</td>\n",
       "      <td>['arrive', 'station', 'sit', 'bench', 'wait', ...</td>\n",
       "      <td>2</td>\n",
       "    </tr>\n",
       "    <tr>\n",
       "      <th>...</th>\n",
       "      <td>...</td>\n",
       "      <td>...</td>\n",
       "      <td>...</td>\n",
       "      <td>...</td>\n",
       "      <td>...</td>\n",
       "    </tr>\n",
       "    <tr>\n",
       "      <th>639</th>\n",
       "      <td>Sorry, Charlie\\n\\nUntil recently, it was assu...</td>\n",
       "      <td>0</td>\n",
       "      <td>['sorry', 'charlie', 'recently', 'assume', 'ch...</td>\n",
       "      <td>['sorry', 'charlie', 'recently', 'assume', 'ch...</td>\n",
       "      <td>6</td>\n",
       "    </tr>\n",
       "    <tr>\n",
       "      <th>640</th>\n",
       "      <td>Feel Good….!!! :) Recently i have seen a video...</td>\n",
       "      <td>0</td>\n",
       "      <td>['feel', 'good…', 'recently', 'see', 'video', ...</td>\n",
       "      <td>['feel', 'good', 'recently', 'video', 'abt', '...</td>\n",
       "      <td>5</td>\n",
       "    </tr>\n",
       "    <tr>\n",
       "      <th>641</th>\n",
       "      <td>I've been working on some new material. \" When...</td>\n",
       "      <td>0</td>\n",
       "      <td>['ive', 'work', 'new', 'material', 'youre', 'b...</td>\n",
       "      <td>['work', 'new', 'material', 'blind', 'sen', 's...</td>\n",
       "      <td>2</td>\n",
       "    </tr>\n",
       "    <tr>\n",
       "      <th>642</th>\n",
       "      <td>vasoooool raani :P.. finally here goes a testi...</td>\n",
       "      <td>0</td>\n",
       "      <td>['vasoooool', 'raani', 'p', 'finally', 'go', '...</td>\n",
       "      <td>['vasoooool', 'raani', 'finally', 'testimonial...</td>\n",
       "      <td>5</td>\n",
       "    </tr>\n",
       "    <tr>\n",
       "      <th>643</th>\n",
       "      <td>In addition to orienting myself once I arrive ...</td>\n",
       "      <td>1</td>\n",
       "      <td>['addition', 'orient', 'arrive', 'city', 'usua...</td>\n",
       "      <td>['addition', 'orient', 'arrive', 'city', 'usua...</td>\n",
       "      <td>2</td>\n",
       "    </tr>\n",
       "  </tbody>\n",
       "</table>\n",
       "<p>644 rows × 5 columns</p>\n",
       "</div>"
      ],
      "text/plain": [
       "                                                  post  gender  \\\n",
       "0    perfect epitome of demagogue ..jus too senitiv...       1   \n",
       "1    Autistic Rights are Disability Rights are Huma...       1   \n",
       "2    Good news for U.S. territories; Del. Donna M. ...       1   \n",
       "3    The weather in this part of the globe is once ...       1   \n",
       "4    I was the first one to arrive at the station. ...       1   \n",
       "..                                                 ...     ...   \n",
       "639   Sorry, Charlie\\n\\nUntil recently, it was assu...       0   \n",
       "640  Feel Good….!!! :) Recently i have seen a video...       0   \n",
       "641  I've been working on some new material. \" When...       0   \n",
       "642  vasoooool raani :P.. finally here goes a testi...       0   \n",
       "643  In addition to orienting myself once I arrive ...       1   \n",
       "\n",
       "                                             tokenized  \\\n",
       "0    ['perfect', 'epitome', 'demagogue', 'jus', 'se...   \n",
       "1    ['autistic', 'right', 'disability', 'right', '...   \n",
       "2    ['good', 'news', 'u', 'territories', 'del', 'd...   \n",
       "3    ['weather', 'part', 'globe', 'change', 'slight...   \n",
       "4    ['first', 'one', 'arrive', 'station', 'sit', '...   \n",
       "..                                                 ...   \n",
       "639  ['sorry', 'charlie', 'recently', 'assume', 'ch...   \n",
       "640  ['feel', 'good…', 'recently', 'see', 'video', ...   \n",
       "641  ['ive', 'work', 'new', 'material', 'youre', 'b...   \n",
       "642  ['vasoooool', 'raani', 'p', 'finally', 'go', '...   \n",
       "643  ['addition', 'orient', 'arrive', 'city', 'usua...   \n",
       "\n",
       "                                               cleaned  cluster  \n",
       "0    ['perfect', 'epitome', 'demagogue', 'ju', 'sen...        5  \n",
       "1    ['autistic', 'right', 'disability', 'right', '...        7  \n",
       "2    ['good', 'news', 'territories', 'del', 'donna'...        6  \n",
       "3    ['weather', 'globe', 'change', 'slight', 'chil...        2  \n",
       "4    ['arrive', 'station', 'sit', 'bench', 'wait', ...        2  \n",
       "..                                                 ...      ...  \n",
       "639  ['sorry', 'charlie', 'recently', 'assume', 'ch...        6  \n",
       "640  ['feel', 'good', 'recently', 'video', 'abt', '...        5  \n",
       "641  ['work', 'new', 'material', 'blind', 'sen', 's...        2  \n",
       "642  ['vasoooool', 'raani', 'finally', 'testimonial...        5  \n",
       "643  ['addition', 'orient', 'arrive', 'city', 'usua...        2  \n",
       "\n",
       "[644 rows x 5 columns]"
      ]
     },
     "execution_count": 2,
     "metadata": {},
     "output_type": "execute_result"
    }
   ],
   "source": [
    "df_test"
   ]
  },
  {
   "cell_type": "code",
   "execution_count": 3,
   "metadata": {
    "id": "fahA2ZrIXKIc"
   },
   "outputs": [],
   "source": [
    "from sklearn.pipeline import Pipeline\n",
    "from sklearn.feature_extraction.text import CountVectorizer\n",
    "from sklearn.naive_bayes import MultinomialNB\n",
    "from sklearn.metrics import classification_report, accuracy_score, f1_score"
   ]
  },
  {
   "cell_type": "markdown",
   "metadata": {
    "id": "4KrczCMvbrzS"
   },
   "source": [
    "### Unigrams"
   ]
  },
  {
   "cell_type": "code",
   "execution_count": 4,
   "metadata": {
    "colab": {
     "base_uri": "https://localhost:8080/"
    },
    "executionInfo": {
     "elapsed": 620,
     "status": "ok",
     "timestamp": 1645569314715,
     "user": {
      "displayName": "Lisa Spahn Lundgren",
      "photoUrl": "https://lh3.googleusercontent.com/a/default-user=s64",
      "userId": "13266833213640265739"
     },
     "user_tz": -60
    },
    "id": "oDLixL2cKUCQ",
    "outputId": "242b5ebc-2826-47e7-b3ba-238aecc81a79"
   },
   "outputs": [
    {
     "name": "stdout",
     "output_type": "stream",
     "text": [
      "Accuracy = 0.6614906832298136\n",
      "F1 score = 0.6585753296850652\n"
     ]
    }
   ],
   "source": [
    "pipe1 = Pipeline([('vectorizer', CountVectorizer(ngram_range=(1,1))), ('naive', MultinomialNB())])\n",
    "pipe1.fit(X=df_train['tokenized'], y=df_train['gender'])\n",
    "\n",
    "pred1 = pipe1.predict(df_test['tokenized'])\n",
    "#print(classification_report(y_true=df_test['gender'], y_pred=pred1))\n",
    "print(\"Accuracy = \" + str(accuracy_score(y_true=df_test['gender'], y_pred=pred1)))\n",
    "print(\"F1 score = \" + str(f1_score(y_true=df_test['gender'], y_pred=pred1, average='weighted')))"
   ]
  },
  {
   "cell_type": "markdown",
   "metadata": {
    "id": "ml_H8KLNbuki"
   },
   "source": [
    "### Unigrams + Bigrams"
   ]
  },
  {
   "cell_type": "code",
   "execution_count": 13,
   "metadata": {
    "colab": {
     "base_uri": "https://localhost:8080/"
    },
    "executionInfo": {
     "elapsed": 464,
     "status": "ok",
     "timestamp": 1645568872827,
     "user": {
      "displayName": "Lisa Spahn Lundgren",
      "photoUrl": "https://lh3.googleusercontent.com/a/default-user=s64",
      "userId": "13266833213640265739"
     },
     "user_tz": -60
    },
    "id": "8dlOovEQLvEi",
    "outputId": "582a54ad-650f-46b9-849e-c7cd03837a2d"
   },
   "outputs": [
    {
     "name": "stdout",
     "output_type": "stream",
     "text": [
      "Accuracy = 0.6739130434782609\n",
      "F1 score = 0.6721526282137569\n"
     ]
    }
   ],
   "source": [
    "pipe2 = Pipeline([('vectorizer', CountVectorizer(ngram_range=(1,2))), ('naive', MultinomialNB())])\n",
    "pipe2.fit(X=df_train['tokenized'], y=df_train['gender'])\n",
    "\n",
    "pred2 = pipe2.predict(df_test['tokenized'])\n",
    "#print(classification_report(y_true=df_test['gender'], y_pred=pred2))\n",
    "print(\"Accuracy = \" + str(accuracy_score(y_true=df_test['gender'], y_pred=pred2)))\n",
    "print(\"F1 score = \" + str(f1_score(y_true=df_test['gender'], y_pred=pred2, average='weighted')))"
   ]
  },
  {
   "cell_type": "markdown",
   "metadata": {
    "id": "CryyQROzbxI1"
   },
   "source": [
    "### Unigrams + Bigrams + Trigrams"
   ]
  },
  {
   "cell_type": "code",
   "execution_count": 6,
   "metadata": {
    "colab": {
     "base_uri": "https://localhost:8080/"
    },
    "executionInfo": {
     "elapsed": 997,
     "status": "ok",
     "timestamp": 1645568879583,
     "user": {
      "displayName": "Lisa Spahn Lundgren",
      "photoUrl": "https://lh3.googleusercontent.com/a/default-user=s64",
      "userId": "13266833213640265739"
     },
     "user_tz": -60
    },
    "id": "RBFF54t5Lyhj",
    "outputId": "102356c2-f403-4d94-9764-af2f70fed1ed"
   },
   "outputs": [
    {
     "name": "stdout",
     "output_type": "stream",
     "text": [
      "Accuracy = 0.6785714285714286\n",
      "F1 score = 0.6774604225118346\n"
     ]
    }
   ],
   "source": [
    "pipe3 = Pipeline([('vectorizer', CountVectorizer(ngram_range=(1,3))), ('naive', MultinomialNB())])\n",
    "pipe3.fit(X=df_train['tokenized'], y=df_train['gender'])\n",
    "\n",
    "pred3 = pipe3.predict(df_test['tokenized'])\n",
    "#print(classification_report(y_true=df_test['gender'], y_pred=pred3))\n",
    "print(\"Accuracy = \" + str(accuracy_score(y_true=df_test['gender'], y_pred=pred3)))\n",
    "print(\"F1 score = \" + str(f1_score(y_true=df_test['gender'], y_pred=pred3, average='weighted')))"
   ]
  },
  {
   "cell_type": "markdown",
   "metadata": {},
   "source": [
    "Also trying 4-grams and 5-grams, but not really any major improvements"
   ]
  },
  {
   "cell_type": "code",
   "execution_count": 7,
   "metadata": {
    "colab": {
     "base_uri": "https://localhost:8080/"
    },
    "executionInfo": {
     "elapsed": 11471,
     "status": "ok",
     "timestamp": 1645569163056,
     "user": {
      "displayName": "Lisa Spahn Lundgren",
      "photoUrl": "https://lh3.googleusercontent.com/a/default-user=s64",
      "userId": "13266833213640265739"
     },
     "user_tz": -60
    },
    "id": "iOyYOKNMiNgq",
    "outputId": "2a1fc2a8-d05e-486c-a5bf-cfe6eff7627b"
   },
   "outputs": [
    {
     "name": "stdout",
     "output_type": "stream",
     "text": [
      "Accuracy = 0.6785714285714286\n",
      "F1 score = 0.6775817870777918\n"
     ]
    }
   ],
   "source": [
    "pipe4 = Pipeline([('vectorizer', CountVectorizer(ngram_range=(1,4))), ('naive', MultinomialNB())])\n",
    "pipe4.fit(X=df_train['tokenized'], y=df_train['gender'])\n",
    "\n",
    "pred4 = pipe4.predict(df_test['tokenized'])\n",
    "#print(classification_report(y_true=df_test['gender'], y_pred=pred4))\n",
    "print(\"Accuracy = \" + str(accuracy_score(y_true=df_test['gender'], y_pred=pred4)))\n",
    "print(\"F1 score = \" + str(f1_score(y_true=df_test['gender'], y_pred=pred4, average='weighted')))"
   ]
  },
  {
   "cell_type": "code",
   "execution_count": 8,
   "metadata": {
    "colab": {
     "base_uri": "https://localhost:8080/"
    },
    "executionInfo": {
     "elapsed": 12912,
     "status": "ok",
     "timestamp": 1645568902759,
     "user": {
      "displayName": "Lisa Spahn Lundgren",
      "photoUrl": "https://lh3.googleusercontent.com/a/default-user=s64",
      "userId": "13266833213640265739"
     },
     "user_tz": -60
    },
    "id": "UzScZQb0iSpj",
    "outputId": "ee6ede9f-618b-4685-ce6e-4bfece03bb97"
   },
   "outputs": [
    {
     "name": "stdout",
     "output_type": "stream",
     "text": [
      "Accuracy = 0.6832298136645962\n",
      "F1 score = 0.6824223116687818\n"
     ]
    }
   ],
   "source": [
    "pipe5 = Pipeline([('vectorizer', CountVectorizer(ngram_range=(1,5))), ('naive', MultinomialNB())])\n",
    "pipe5.fit(X=df_train['tokenized'], y=df_train['gender'])\n",
    "\n",
    "pred5 = pipe5.predict(df_test['tokenized'])\n",
    "#print(classification_report(y_true=df_test['gender'], y_pred=pred5))\n",
    "print(\"Accuracy = \" + str(accuracy_score(y_true=df_test['gender'], y_pred=pred5)))\n",
    "print(\"F1 score = \" + str(f1_score(y_true=df_test['gender'], y_pred=pred5, average='weighted')))"
   ]
  },
  {
   "cell_type": "code",
   "execution_count": 10,
   "metadata": {},
   "outputs": [
    {
     "name": "stdout",
     "output_type": "stream",
     "text": [
      "Accuracy = 0.6847826086956522\n",
      "F1 score = 0.6840316472666766\n"
     ]
    }
   ],
   "source": [
    "pipe6 = Pipeline([('vectorizer', CountVectorizer(ngram_range=(1,6))), ('naive', MultinomialNB())])\n",
    "pipe6.fit(X=df_train['tokenized'], y=df_train['gender'])\n",
    "\n",
    "pred6 = pipe6.predict(df_test['tokenized'])\n",
    "#print(classification_report(y_true=df_test['gender'], y_pred=pred6))\n",
    "print(\"Accuracy = \" + str(accuracy_score(y_true=df_test['gender'], y_pred=pred6)))\n",
    "print(\"F1 score = \" + str(f1_score(y_true=df_test['gender'], y_pred=pred6, average='weighted')))"
   ]
  },
  {
   "cell_type": "markdown",
   "metadata": {
    "id": "BF_k2wZqjNWH"
   },
   "source": [
    "## Tune Naive Bayes\n"
   ]
  },
  {
   "cell_type": "code",
   "execution_count": null,
   "metadata": {
    "colab": {
     "base_uri": "https://localhost:8080/"
    },
    "executionInfo": {
     "elapsed": 647529,
     "status": "ok",
     "timestamp": 1645570325759,
     "user": {
      "displayName": "Lisa Spahn Lundgren",
      "photoUrl": "https://lh3.googleusercontent.com/a/default-user=s64",
      "userId": "13266833213640265739"
     },
     "user_tz": -60
    },
    "id": "vuDaQI-ajOKk",
    "outputId": "a2953a4a-c5cd-49d4-ff07-dd073ab5538c"
   },
   "outputs": [
    {
     "name": "stdout",
     "output_type": "stream",
     "text": [
      "Best CV score = 0.703 with the following parameters:\n",
      "{'naive__alpha': 2.0, 'vectorizer__binary': False, 'vectorizer__ngram_range': (1, 5)}\n"
     ]
    }
   ],
   "source": [
    "from sklearn.model_selection import GridSearchCV\n",
    "\n",
    "pipe = Pipeline([('vectorizer', CountVectorizer()), ('naive', MultinomialNB())])\n",
    "\n",
    "parameters = {'vectorizer__binary':[True, False], 'vectorizer__ngram_range': [(1,1), (1,2), (1,3), (1,4), (1,5)], 'naive__alpha':[0.1, 0.5, 1.0, 1.5, 2.0] }\n",
    "# by default 5-fold cross validation\n",
    "search = GridSearchCV(pipe, parameters)\n",
    "\n",
    "search.fit(df_train['tokenized'], df_train['gender'])\n",
    "\n",
    "print(\"Best CV score = %0.3f with the following parameters:\" % search.best_score_)\n",
    "print(search.best_params_)"
   ]
  },
  {
   "cell_type": "markdown",
   "metadata": {
    "id": "wpwPVry_uDFg"
   },
   "source": [
    "The optimal model has\n",
    "\n",
    "*   non-binary vectorizer (default parameter)\n",
    "*   uses unigrams and bigrams \n",
    "*   naive bayes parameter alpha=1 (default parameter)"
   ]
  },
  {
   "cell_type": "code",
   "execution_count": 22,
   "metadata": {
    "colab": {
     "base_uri": "https://localhost:8080/"
    },
    "executionInfo": {
     "elapsed": 8057,
     "status": "ok",
     "timestamp": 1645572087821,
     "user": {
      "displayName": "Lisa Spahn Lundgren",
      "photoUrl": "https://lh3.googleusercontent.com/a/default-user=s64",
      "userId": "13266833213640265739"
     },
     "user_tz": -60
    },
    "id": "B42nWdoMm8dM",
    "outputId": "7f841189-22cc-4300-e7ce-08481719194c"
   },
   "outputs": [
    {
     "name": "stdout",
     "output_type": "stream",
     "text": [
      "              precision    recall  f1-score   support\n",
      "\n",
      "           0       0.72      0.63      0.67       335\n",
      "           1       0.65      0.73      0.69       309\n",
      "\n",
      "    accuracy                           0.68       644\n",
      "   macro avg       0.68      0.68      0.68       644\n",
      "weighted avg       0.69      0.68      0.68       644\n",
      "\n",
      "Accuracy  = 0.6816770186335404\n",
      "Precision = 0.6862937845945832\n",
      "Recall    = 0.6816770186335404\n",
      "F1 score  = 0.6812047304830682\n"
     ]
    }
   ],
   "source": [
    "from sklearn.metrics import accuracy_score, f1_score, recall_score, precision_score\n",
    "\n",
    "opt_pipe = Pipeline([('vectorizer', CountVectorizer(binary=False, ngram_range=(1,5))), ('naive', MultinomialNB(alpha=2.0))])\n",
    "opt_pipe.fit(df_train['tokenized'], df_train['gender'])\n",
    "\n",
    "pred = opt_pipe.predict(df_test['tokenized'])\n",
    "\n",
    "print(classification_report(df_test['gender'], pred))\n",
    "print(\"Accuracy  = \" + str(accuracy_score(y_true=df_test['gender'], y_pred=pred)))\n",
    "print(\"Precision = \" + str(precision_score(y_true=df_test['gender'], y_pred=pred, average='weighted')))\n",
    "print(\"Recall    = \" + str(recall_score(y_true=df_test['gender'], y_pred=pred, average='weighted')))\n",
    "print(\"F1 score  = \" + str(f1_score(y_true=df_test['gender'], y_pred=pred, average='weighted')))"
   ]
  },
  {
   "cell_type": "code",
   "execution_count": 23,
   "metadata": {
    "colab": {
     "base_uri": "https://localhost:8080/",
     "height": 281
    },
    "executionInfo": {
     "elapsed": 470,
     "status": "ok",
     "timestamp": 1645572092979,
     "user": {
      "displayName": "Lisa Spahn Lundgren",
      "photoUrl": "https://lh3.googleusercontent.com/a/default-user=s64",
      "userId": "13266833213640265739"
     },
     "user_tz": -60
    },
    "id": "g1zQu_Vxo7Zz",
    "outputId": "2996341c-c0c1-436d-a260-c4c03abeffdd"
   },
   "outputs": [
    {
     "data": {
      "image/png": "[encoded data removed]",
      "text/plain": [
       "<Figure size 432x288 with 2 Axes>"
      ]
     },
     "metadata": {
      "needs_background": "light"
     },
     "output_type": "display_data"
    }
   ],
   "source": [
    "from sklearn.metrics import confusion_matrix, ConfusionMatrixDisplay\n",
    "import matplotlib.pyplot as plt\n",
    "\n",
    "cm = confusion_matrix(df_test['gender'], pred)\n",
    "disp = ConfusionMatrixDisplay(confusion_matrix=cm, display_labels=['male', 'female'])\n",
    "disp.plot()\n",
    "plt.grid(False)\n",
    "plt.show()"
   ]
  },
  {
   "cell_type": "markdown",
   "metadata": {
    "id": "nms-buuzn64u"
   },
   "source": [
    "### Save the optimal model to the drive"
   ]
  },
  {
   "cell_type": "code",
   "execution_count": 24,
   "metadata": {
    "id": "KrHpKDRFnXsr"
   },
   "outputs": [],
   "source": [
    "import pickle\n",
    "\n",
    "model = '../models/NB_countVec.sav'\n",
    "pickle.dump(opt_pipe, open(model, 'wb'))\n",
    "\n",
    "# load the model with pickle.load(open(filename, 'rb'))"
   ]
  }
 ],
 "metadata": {
  "colab": {
   "authorship_tag": "ABX9TyPX4m09Cf7eO9e6lv5qlkPX",
   "collapsed_sections": [],
   "name": "naive-bayes_count.ipynb",
   "provenance": []
  },
  "kernelspec": {
   "display_name": "Python 3 (ipykernel)",
   "language": "python",
   "name": "python3"
  },
  "language_info": {
   "codemirror_mode": {
    "name": "ipython",
    "version": 3
   },
   "file_extension": ".py",
   "mimetype": "text/x-python",
   "name": "python",
   "nbconvert_exporter": "python",
   "pygments_lexer": "ipython3",
   "version": "3.9.7"
  }
 },
 "nbformat": 4,
 "nbformat_minor": 4
}
