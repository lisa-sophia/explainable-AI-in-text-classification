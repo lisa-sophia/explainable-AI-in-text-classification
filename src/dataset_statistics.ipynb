{
 "cells": [
  {
   "cell_type": "code",
   "execution_count": 26,
   "metadata": {
    "executionInfo": {
     "elapsed": 8,
     "status": "ok",
     "timestamp": 1645639287395,
     "user": {
      "displayName": "Lisa Spahn Lundgren",
      "photoUrl": "https://lh3.googleusercontent.com/a/default-user=s64",
      "userId": "13266833213640265739"
     },
     "user_tz": -60
    },
    "id": "V_TMtAtbrVXr"
   },
   "outputs": [],
   "source": [
    "import numpy as np\n",
    "import pandas as pd"
   ]
  },
  {
   "cell_type": "code",
   "execution_count": 2,
   "metadata": {
    "colab": {
     "base_uri": "https://localhost:8080/",
     "height": 424
    },
    "executionInfo": {
     "elapsed": 2062,
     "status": "ok",
     "timestamp": 1645639289450,
     "user": {
      "displayName": "Lisa Spahn Lundgren",
      "photoUrl": "https://lh3.googleusercontent.com/a/default-user=s64",
      "userId": "13266833213640265739"
     },
     "user_tz": -60
    },
    "id": "MUHUkvxbwRGd",
    "outputId": "7026c6eb-59fe-4cf4-dafb-2040d2463bab"
   },
   "outputs": [
    {
     "data": {
      "text/html": [
       "<div>\n",
       "<style scoped>\n",
       "    .dataframe tbody tr th:only-of-type {\n",
       "        vertical-align: middle;\n",
       "    }\n",
       "\n",
       "    .dataframe tbody tr th {\n",
       "        vertical-align: top;\n",
       "    }\n",
       "\n",
       "    .dataframe thead th {\n",
       "        text-align: right;\n",
       "    }\n",
       "</style>\n",
       "<table border=\"1\" class=\"dataframe\">\n",
       "  <thead>\n",
       "    <tr style=\"text-align: right;\">\n",
       "      <th></th>\n",
       "      <th>post</th>\n",
       "      <th>gender</th>\n",
       "      <th>tokenized</th>\n",
       "    </tr>\n",
       "  </thead>\n",
       "  <tbody>\n",
       "    <tr>\n",
       "      <th>0</th>\n",
       "      <td>Long time no see. Like always I was rewriting...</td>\n",
       "      <td>0</td>\n",
       "      <td>['long', 'time', 'see', 'like', 'always', 'rew...</td>\n",
       "    </tr>\n",
       "    <tr>\n",
       "      <th>1</th>\n",
       "      <td>Guest Demo: Eric Iverson’s Itty Bitty Search\\...</td>\n",
       "      <td>0</td>\n",
       "      <td>['guest', 'demo', 'eric', 'iverson', '’', 'itt...</td>\n",
       "    </tr>\n",
       "    <tr>\n",
       "      <th>2</th>\n",
       "      <td>Who moved my Cheese???   The world has been de...</td>\n",
       "      <td>0</td>\n",
       "      <td>['move', 'cheese', 'world', 'develop', 'area',...</td>\n",
       "    </tr>\n",
       "    <tr>\n",
       "      <th>3</th>\n",
       "      <td>Yesterday I attended a biweekly meeting of an...</td>\n",
       "      <td>0</td>\n",
       "      <td>['yesterday', 'attend', 'biweekly', 'meeting',...</td>\n",
       "    </tr>\n",
       "    <tr>\n",
       "      <th>4</th>\n",
       "      <td>Liam is nothing like Natalie. Natalie never w...</td>\n",
       "      <td>1</td>\n",
       "      <td>['liam', 'nothing', 'like', 'natalie', 'natali...</td>\n",
       "    </tr>\n",
       "    <tr>\n",
       "      <th>...</th>\n",
       "      <td>...</td>\n",
       "      <td>...</td>\n",
       "      <td>...</td>\n",
       "    </tr>\n",
       "    <tr>\n",
       "      <th>3213</th>\n",
       "      <td>It was a scavenger style race with checkpoints...</td>\n",
       "      <td>0</td>\n",
       "      <td>['scavenger', 'style', 'race', 'checkpoint', '...</td>\n",
       "    </tr>\n",
       "    <tr>\n",
       "      <th>3214</th>\n",
       "      <td>Finally! I got a full day's work done. Almost ...</td>\n",
       "      <td>1</td>\n",
       "      <td>['finally', 'get', 'full', 'day', 'work', 'do'...</td>\n",
       "    </tr>\n",
       "    <tr>\n",
       "      <th>3215</th>\n",
       "      <td>At the height of laughter, the universe is flu...</td>\n",
       "      <td>0</td>\n",
       "      <td>['height', 'laughter', 'universe', 'flung', 'k...</td>\n",
       "    </tr>\n",
       "    <tr>\n",
       "      <th>3216</th>\n",
       "      <td>I like birds, especially woodpeckers and MOST ...</td>\n",
       "      <td>0</td>\n",
       "      <td>['like', 'bird', 'especially', 'woodpecker', '...</td>\n",
       "    </tr>\n",
       "    <tr>\n",
       "      <th>3217</th>\n",
       "      <td>Oh friends, it's finally here! I thought the m...</td>\n",
       "      <td>1</td>\n",
       "      <td>['oh', 'friend', 'finally', 'think', 'month', ...</td>\n",
       "    </tr>\n",
       "  </tbody>\n",
       "</table>\n",
       "<p>3218 rows × 3 columns</p>\n",
       "</div>"
      ],
      "text/plain": [
       "                                                   post  gender  \\\n",
       "0      Long time no see. Like always I was rewriting...       0   \n",
       "1      Guest Demo: Eric Iverson’s Itty Bitty Search\\...       0   \n",
       "2     Who moved my Cheese???   The world has been de...       0   \n",
       "3      Yesterday I attended a biweekly meeting of an...       0   \n",
       "4      Liam is nothing like Natalie. Natalie never w...       1   \n",
       "...                                                 ...     ...   \n",
       "3213  It was a scavenger style race with checkpoints...       0   \n",
       "3214  Finally! I got a full day's work done. Almost ...       1   \n",
       "3215  At the height of laughter, the universe is flu...       0   \n",
       "3216  I like birds, especially woodpeckers and MOST ...       0   \n",
       "3217  Oh friends, it's finally here! I thought the m...       1   \n",
       "\n",
       "                                              tokenized  \n",
       "0     ['long', 'time', 'see', 'like', 'always', 'rew...  \n",
       "1     ['guest', 'demo', 'eric', 'iverson', '’', 'itt...  \n",
       "2     ['move', 'cheese', 'world', 'develop', 'area',...  \n",
       "3     ['yesterday', 'attend', 'biweekly', 'meeting',...  \n",
       "4     ['liam', 'nothing', 'like', 'natalie', 'natali...  \n",
       "...                                                 ...  \n",
       "3213  ['scavenger', 'style', 'race', 'checkpoint', '...  \n",
       "3214  ['finally', 'get', 'full', 'day', 'work', 'do'...  \n",
       "3215  ['height', 'laughter', 'universe', 'flung', 'k...  \n",
       "3216  ['like', 'bird', 'especially', 'woodpecker', '...  \n",
       "3217  ['oh', 'friend', 'finally', 'think', 'month', ...  \n",
       "\n",
       "[3218 rows x 3 columns]"
      ]
     },
     "execution_count": 2,
     "metadata": {},
     "output_type": "execute_result"
    }
   ],
   "source": [
    "df = pd.read_csv(r'../data/tokenized.csv')\n",
    "df"
   ]
  },
  {
   "cell_type": "code",
   "execution_count": 25,
   "metadata": {},
   "outputs": [
    {
     "name": "stdout",
     "output_type": "stream",
     "text": [
      "[\n",
      "long\n"
     ]
    }
   ],
   "source": [
    "from ast import literal_eval\n",
    "\n",
    "print(df['tokenized'][0][0])\n",
    "df['tokenized'] = df['tokenized'].apply(literal_eval)\n",
    "print(df['tokenized'][0][0])"
   ]
  },
  {
   "cell_type": "markdown",
   "metadata": {
    "id": "70NS8k7TqDk5"
   },
   "source": [
    "### Check if data distribution between male and female is equal"
   ]
  },
  {
   "cell_type": "code",
   "execution_count": 4,
   "metadata": {
    "colab": {
     "base_uri": "https://localhost:8080/",
     "height": 577
    },
    "executionInfo": {
     "elapsed": 453,
     "status": "ok",
     "timestamp": 1645639290807,
     "user": {
      "displayName": "Lisa Spahn Lundgren",
      "photoUrl": "https://lh3.googleusercontent.com/a/default-user=s64",
      "userId": "13266833213640265739"
     },
     "user_tz": -60
    },
    "id": "KgzOsyL_yc8t",
    "outputId": "d9ceb852-87f1-42ef-b5fb-03bfcb07f6cd"
   },
   "outputs": [
    {
     "data": {
      "image/png": "[encoded data removed]",
      "text/plain": [
       "<Figure size 432x360 with 1 Axes>"
      ]
     },
     "metadata": {},
     "output_type": "display_data"
    },
    {
     "name": "stdout",
     "output_type": "stream",
     "text": [
      "0    1673\n",
      "1    1545\n",
      "Name: gender, dtype: int64\n"
     ]
    }
   ],
   "source": [
    "import matplotlib.pyplot as plt\n",
    "import seaborn as sns\n",
    "\n",
    "sns.set(font_scale=1.2)\n",
    "df['gender'].value_counts().plot(kind='bar', rot=0, figsize=(6,5))\n",
    "plt.xlabel(\"Author gender (0: male, 1: female)\")\n",
    "plt.ylabel(\"Count of texts\")\n",
    "plt.title(\"Counts of texts written by male / female authors\", y=1.05)\n",
    "plt.show()\n",
    "\n",
    "print(df['gender'].value_counts())"
   ]
  },
  {
   "cell_type": "markdown",
   "metadata": {
    "id": "u-oQGQuMqK7k"
   },
   "source": [
    "Check distribution of post length"
   ]
  },
  {
   "cell_type": "code",
   "execution_count": 5,
   "metadata": {
    "colab": {
     "base_uri": "https://localhost:8080/"
    },
    "executionInfo": {
     "elapsed": 21,
     "status": "ok",
     "timestamp": 1645639290810,
     "user": {
      "displayName": "Lisa Spahn Lundgren",
      "photoUrl": "https://lh3.googleusercontent.com/a/default-user=s64",
      "userId": "13266833213640265739"
     },
     "user_tz": -60
    },
    "id": "7DFw5aIdqBPR",
    "outputId": "f30cc557-c89c-4200-ce2f-48a33ccfa0ba"
   },
   "outputs": [
    {
     "name": "stdout",
     "output_type": "stream",
     "text": [
      "Minimum post length: 11\n",
      "Maximum post length: 6148\n",
      "Average post length: 420.16376631448105\n",
      "Median:              194.0\n"
     ]
    }
   ],
   "source": [
    "post_lengths = df['post'].str.split().str.len()\n",
    "\n",
    "print(\"Minimum post length: \" + str(min(post_lengths)))\n",
    "print(\"Maximum post length: \" + str(max(post_lengths)))\n",
    "print(\"Average post length: \" + str(np.mean(post_lengths)))\n",
    "print(\"Median:              \" + str(np.median(post_lengths)))"
   ]
  },
  {
   "cell_type": "code",
   "execution_count": 6,
   "metadata": {},
   "outputs": [
    {
     "name": "stdout",
     "output_type": "stream",
     "text": [
      "Most frequent post length: 90\n"
     ]
    }
   ],
   "source": [
    "# most frequent post length\n",
    "counts = np.bincount(post_lengths)\n",
    "print(\"Most frequent post length: \" + str(np.argmax(counts)))"
   ]
  },
  {
   "cell_type": "code",
   "execution_count": 7,
   "metadata": {},
   "outputs": [
    {
     "data": {
      "image/png": "[encoded data removed]",
      "text/plain": [
       "<Figure size 792x576 with 1 Axes>"
      ]
     },
     "metadata": {},
     "output_type": "display_data"
    }
   ],
   "source": [
    "plt.figure(figsize=(11,8))\n",
    "plt.style.use('seaborn')\n",
    "plt.hist(post_lengths, bins=50)\n",
    "plt.title(\"Histogram of post lengths in nr. of words\")\n",
    "plt.show()"
   ]
  },
  {
   "cell_type": "code",
   "execution_count": 8,
   "metadata": {
    "colab": {
     "base_uri": "https://localhost:8080/",
     "height": 504
    },
    "executionInfo": {
     "elapsed": 972,
     "status": "ok",
     "timestamp": 1645639320173,
     "user": {
      "displayName": "Lisa Spahn Lundgren",
      "photoUrl": "https://lh3.googleusercontent.com/a/default-user=s64",
      "userId": "13266833213640265739"
     },
     "user_tz": -60
    },
    "id": "FKX23HV3rIRs",
    "outputId": "4912ff8f-88fc-467a-978b-9ffe430aac56"
   },
   "outputs": [
    {
     "data": {
      "image/png": "[encoded data removed]",
      "text/plain": [
       "<Figure size 792x576 with 1 Axes>"
      ]
     },
     "metadata": {},
     "output_type": "display_data"
    }
   ],
   "source": [
    "plt.figure(figsize=(11,8))\n",
    "plt.style.use('seaborn')\n",
    "plt.hist(post_lengths, bins=40, range=[0, 500])\n",
    "plt.title(\"Histogram of post lengths in nr. of words - smaller range\")\n",
    "plt.show()"
   ]
  },
  {
   "cell_type": "code",
   "execution_count": 9,
   "metadata": {
    "colab": {
     "base_uri": "https://localhost:8080/"
    },
    "executionInfo": {
     "elapsed": 453,
     "status": "ok",
     "timestamp": 1645568739494,
     "user": {
      "displayName": "Lisa Spahn Lundgren",
      "photoUrl": "https://lh3.googleusercontent.com/a/default-user=s64",
      "userId": "13266833213640265739"
     },
     "user_tz": -60
    },
    "id": "lSKzyQluJfKk",
    "outputId": "53e50bbf-5f1b-4906-e7bf-c80b6bbf772e"
   },
   "outputs": [
    {
     "name": "stderr",
     "output_type": "stream",
     "text": [
      "[nltk_data] Downloading package punkt to /home/lisa/nltk_data...\n",
      "[nltk_data]   Package punkt is already up-to-date!\n",
      "[nltk_data] Downloading package stopwords to /home/lisa/nltk_data...\n",
      "[nltk_data]   Package stopwords is already up-to-date!\n",
      "[nltk_data] Downloading package averaged_perceptron_tagger to\n",
      "[nltk_data]     /home/lisa/nltk_data...\n",
      "[nltk_data]   Package averaged_perceptron_tagger is already up-to-\n",
      "[nltk_data]       date!\n",
      "[nltk_data] Downloading package wordnet to /home/lisa/nltk_data...\n",
      "[nltk_data]   Package wordnet is already up-to-date!\n"
     ]
    },
    {
     "data": {
      "text/plain": [
       "True"
      ]
     },
     "execution_count": 9,
     "metadata": {},
     "output_type": "execute_result"
    }
   ],
   "source": [
    "import nltk\n",
    "import string\n",
    "from nltk import word_tokenize, pos_tag\n",
    "from nltk.corpus import stopwords, wordnet\n",
    "from nltk.stem import WordNetLemmatizer\n",
    "from collections import defaultdict\n",
    "\n",
    "nltk.download('punkt')\n",
    "nltk.download('stopwords')\n",
    "nltk.download('averaged_perceptron_tagger')\n",
    "nltk.download('wordnet')"
   ]
  },
  {
   "cell_type": "code",
   "execution_count": 10,
   "metadata": {
    "id": "UwQH00yYyjKK"
   },
   "outputs": [],
   "source": [
    "# tag map for POS tag (needed for lemmatization)\n",
    "tag_map = defaultdict(lambda : wordnet.NOUN)\n",
    "tag_map['J'] = wordnet.ADJ\n",
    "tag_map['V'] = wordnet.VERB\n",
    "tag_map['R'] = wordnet.ADV\n",
    "\n",
    "def preprocess(text):\n",
    "    \n",
    "    # transform to lower-case and remove punctuation\n",
    "    text_p = \"\".join([char for char in text.lower() if char not in string.punctuation])\n",
    "    \n",
    "    # transform to lower-case but keep punctuation -> maybe punctuation differs between men and women?\n",
    "    #text_p = text.lower()\n",
    "\n",
    "    # split tokens\n",
    "    words = word_tokenize(text_p)\n",
    "    \n",
    "    # remove common english stopwords\n",
    "    stop_words = stopwords.words('english')\n",
    "    filtered_words = [word for word in words if word not in stop_words]\n",
    "\n",
    "    # lemmatization (convert each token to its base form)\n",
    "    lemmatizer = WordNetLemmatizer()\n",
    "    lemmatized = []\n",
    "    for token, tag in pos_tag(filtered_words):\n",
    "      lemma = lemmatizer.lemmatize(token, tag_map[tag[0]])\n",
    "      lemmatized.append(lemma)\n",
    "    \n",
    "    return lemmatized"
   ]
  },
  {
   "cell_type": "code",
   "execution_count": 27,
   "metadata": {
    "colab": {
     "base_uri": "https://localhost:8080/"
    },
    "executionInfo": {
     "elapsed": 21,
     "status": "ok",
     "timestamp": 1645568739496,
     "user": {
      "displayName": "Lisa Spahn Lundgren",
      "photoUrl": "https://lh3.googleusercontent.com/a/default-user=s64",
      "userId": "13266833213640265739"
     },
     "user_tz": -60
    },
    "id": "rfM8n650GZdv",
    "outputId": "89c474ce-d485-4e4f-d630-66f852a490a5"
   },
   "outputs": [
    {
     "name": "stdout",
     "output_type": "stream",
     "text": [
      " Long time no see. Like always I was rewriting it from scratch a couple of times. But nevertheless it's still java and now it uses metropolis sampling to help that poor path tracing converge.\n",
      "\n",
      "Btw. I did MLT on yesterday evening after 2 beers (it had to be Ballmer peak).\n",
      "\n",
      "Altough the implementation is still very fresh it easily outperforms standard path tracing, what is to be seen especially when difficult caustics are involved.\n",
      "\n",
      "I've implemented spectral rendering too, it was very easy actually, cause all computations on wavelengths are linear just like rgb. But then I realised that even if it does feel more physically correct to do so, whats the point? 3d applications are operating in rgb color space, and because I cant represent a rgb color as spectrum interchangeably I have to approximate it, so as long as I'm not running a physical simulation or something I don't see the benefits (please correct me if I'm wrong), thus I abandoned that.\n",
      "['long', 'time', 'see', 'like', 'always', 'rewrite', 'scratch', 'couple', 'time', 'nevertheless', 'still', 'java', 'us', 'metropolis', 'sample', 'help', 'poor', 'path', 'trace', 'converge', 'btw', 'mlt', 'yesterday', 'even', '2', 'beer', 'ballmer', 'peak', 'altough', 'implementation', 'still', 'fresh', 'easily', 'outperform', 'standard', 'path', 'trace', 'see', 'especially', 'difficult', 'caustic', 'involve', 'ive', 'implement', 'spectral', 'render', 'easy', 'actually', 'cause', 'computation', 'wavelengths', 'linear', 'like', 'rgb', 'realise', 'even', 'feel', 'physically', 'correct', 'whats', 'point', '3d', 'application', 'operate', 'rgb', 'color', 'space', 'cant', 'represent', 'rgb', 'color', 'spectrum', 'interchangeably', 'approximate', 'long', 'im', 'run', 'physical', 'simulation', 'something', 'dont', 'see', 'benefit', 'please', 'correct', 'im', 'wrong', 'thus', 'abandon']\n"
     ]
    }
   ],
   "source": [
    "print(df['post'][0])\n",
    "print(preprocess(df['post'][0]))"
   ]
  },
  {
   "cell_type": "code",
   "execution_count": 28,
   "metadata": {
    "colab": {
     "base_uri": "https://localhost:8080/",
     "height": 424
    },
    "executionInfo": {
     "elapsed": 13,
     "status": "ok",
     "timestamp": 1645568739497,
     "user": {
      "displayName": "Lisa Spahn Lundgren",
      "photoUrl": "https://lh3.googleusercontent.com/a/default-user=s64",
      "userId": "13266833213640265739"
     },
     "user_tz": -60
    },
    "id": "cjLX6J5TXG76",
    "outputId": "61e6e357-6e10-4f51-ec57-1d74241583c4"
   },
   "outputs": [
    {
     "data": {
      "text/html": [
       "<div>\n",
       "<style scoped>\n",
       "    .dataframe tbody tr th:only-of-type {\n",
       "        vertical-align: middle;\n",
       "    }\n",
       "\n",
       "    .dataframe tbody tr th {\n",
       "        vertical-align: top;\n",
       "    }\n",
       "\n",
       "    .dataframe thead th {\n",
       "        text-align: right;\n",
       "    }\n",
       "</style>\n",
       "<table border=\"1\" class=\"dataframe\">\n",
       "  <thead>\n",
       "    <tr style=\"text-align: right;\">\n",
       "      <th></th>\n",
       "      <th>post</th>\n",
       "      <th>gender</th>\n",
       "      <th>tokenized</th>\n",
       "      <th>cleaned</th>\n",
       "    </tr>\n",
       "  </thead>\n",
       "  <tbody>\n",
       "    <tr>\n",
       "      <th>0</th>\n",
       "      <td>Long time no see. Like always I was rewriting...</td>\n",
       "      <td>0</td>\n",
       "      <td>[long, time, see, like, always, rewrite, scrat...</td>\n",
       "      <td>[]</td>\n",
       "    </tr>\n",
       "    <tr>\n",
       "      <th>1</th>\n",
       "      <td>Guest Demo: Eric Iverson’s Itty Bitty Search\\...</td>\n",
       "      <td>0</td>\n",
       "      <td>[guest, demo, eric, iverson, ’, itty, bitty, s...</td>\n",
       "      <td>[]</td>\n",
       "    </tr>\n",
       "    <tr>\n",
       "      <th>2</th>\n",
       "      <td>Who moved my Cheese???   The world has been de...</td>\n",
       "      <td>0</td>\n",
       "      <td>[move, cheese, world, develop, area, create, d...</td>\n",
       "      <td>[]</td>\n",
       "    </tr>\n",
       "    <tr>\n",
       "      <th>3</th>\n",
       "      <td>Yesterday I attended a biweekly meeting of an...</td>\n",
       "      <td>0</td>\n",
       "      <td>[yesterday, attend, biweekly, meeting, informa...</td>\n",
       "      <td>[]</td>\n",
       "    </tr>\n",
       "    <tr>\n",
       "      <th>4</th>\n",
       "      <td>Liam is nothing like Natalie. Natalie never w...</td>\n",
       "      <td>1</td>\n",
       "      <td>[liam, nothing, like, natalie, natalie, never,...</td>\n",
       "      <td>[]</td>\n",
       "    </tr>\n",
       "    <tr>\n",
       "      <th>...</th>\n",
       "      <td>...</td>\n",
       "      <td>...</td>\n",
       "      <td>...</td>\n",
       "      <td>...</td>\n",
       "    </tr>\n",
       "    <tr>\n",
       "      <th>3213</th>\n",
       "      <td>It was a scavenger style race with checkpoints...</td>\n",
       "      <td>0</td>\n",
       "      <td>[scavenger, style, race, checkpoint, throughou...</td>\n",
       "      <td>[]</td>\n",
       "    </tr>\n",
       "    <tr>\n",
       "      <th>3214</th>\n",
       "      <td>Finally! I got a full day's work done. Almost ...</td>\n",
       "      <td>1</td>\n",
       "      <td>[finally, get, full, day, work, do, almost, 4k...</td>\n",
       "      <td>[]</td>\n",
       "    </tr>\n",
       "    <tr>\n",
       "      <th>3215</th>\n",
       "      <td>At the height of laughter, the universe is flu...</td>\n",
       "      <td>0</td>\n",
       "      <td>[height, laughter, universe, flung, kaleidosco...</td>\n",
       "      <td>[]</td>\n",
       "    </tr>\n",
       "    <tr>\n",
       "      <th>3216</th>\n",
       "      <td>I like birds, especially woodpeckers and MOST ...</td>\n",
       "      <td>0</td>\n",
       "      <td>[like, bird, especially, woodpecker, especiall...</td>\n",
       "      <td>[]</td>\n",
       "    </tr>\n",
       "    <tr>\n",
       "      <th>3217</th>\n",
       "      <td>Oh friends, it's finally here! I thought the m...</td>\n",
       "      <td>1</td>\n",
       "      <td>[oh, friend, finally, think, month, christmas,...</td>\n",
       "      <td>[]</td>\n",
       "    </tr>\n",
       "  </tbody>\n",
       "</table>\n",
       "<p>3218 rows × 4 columns</p>\n",
       "</div>"
      ],
      "text/plain": [
       "                                                   post  gender  \\\n",
       "0      Long time no see. Like always I was rewriting...       0   \n",
       "1      Guest Demo: Eric Iverson’s Itty Bitty Search\\...       0   \n",
       "2     Who moved my Cheese???   The world has been de...       0   \n",
       "3      Yesterday I attended a biweekly meeting of an...       0   \n",
       "4      Liam is nothing like Natalie. Natalie never w...       1   \n",
       "...                                                 ...     ...   \n",
       "3213  It was a scavenger style race with checkpoints...       0   \n",
       "3214  Finally! I got a full day's work done. Almost ...       1   \n",
       "3215  At the height of laughter, the universe is flu...       0   \n",
       "3216  I like birds, especially woodpeckers and MOST ...       0   \n",
       "3217  Oh friends, it's finally here! I thought the m...       1   \n",
       "\n",
       "                                              tokenized cleaned  \n",
       "0     [long, time, see, like, always, rewrite, scrat...      []  \n",
       "1     [guest, demo, eric, iverson, ’, itty, bitty, s...      []  \n",
       "2     [move, cheese, world, develop, area, create, d...      []  \n",
       "3     [yesterday, attend, biweekly, meeting, informa...      []  \n",
       "4     [liam, nothing, like, natalie, natalie, never,...      []  \n",
       "...                                                 ...     ...  \n",
       "3213  [scavenger, style, race, checkpoint, throughou...      []  \n",
       "3214  [finally, get, full, day, work, do, almost, 4k...      []  \n",
       "3215  [height, laughter, universe, flung, kaleidosco...      []  \n",
       "3216  [like, bird, especially, woodpecker, especiall...      []  \n",
       "3217  [oh, friend, finally, think, month, christmas,...      []  \n",
       "\n",
       "[3218 rows x 4 columns]"
      ]
     },
     "execution_count": 28,
     "metadata": {},
     "output_type": "execute_result"
    }
   ],
   "source": [
    "df"
   ]
  },
  {
   "cell_type": "code",
   "execution_count": 13,
   "metadata": {
    "id": "719BSe7nYPa_"
   },
   "outputs": [],
   "source": [
    "#tokenized = []\n",
    "#for post in df['post']:\n",
    "#  tokenized.append(preprocess(post))"
   ]
  },
  {
   "cell_type": "code",
   "execution_count": 14,
   "metadata": {
    "colab": {
     "base_uri": "https://localhost:8080/"
    },
    "executionInfo": {
     "elapsed": 41,
     "status": "ok",
     "timestamp": 1645568809823,
     "user": {
      "displayName": "Lisa Spahn Lundgren",
      "photoUrl": "https://lh3.googleusercontent.com/a/default-user=s64",
      "userId": "13266833213640265739"
     },
     "user_tz": -60
    },
    "id": "-a8eDzlZHhLt",
    "outputId": "72f67a25-2120-4ee9-c4ba-9c2878637680"
   },
   "outputs": [],
   "source": [
    "#print(df['post'][0])\n",
    "#print(tokenized[0])\n",
    "\n",
    "#print(\"\")\n",
    "\n",
    "#print(df['post'][100])\n",
    "#print(tokenized[100])"
   ]
  },
  {
   "cell_type": "code",
   "execution_count": 15,
   "metadata": {
    "colab": {
     "base_uri": "https://localhost:8080/"
    },
    "executionInfo": {
     "elapsed": 25,
     "status": "ok",
     "timestamp": 1645568809824,
     "user": {
      "displayName": "Lisa Spahn Lundgren",
      "photoUrl": "https://lh3.googleusercontent.com/a/default-user=s64",
      "userId": "13266833213640265739"
     },
     "user_tz": -60
    },
    "id": "ZIS2m8VtZFf1",
    "outputId": "328b90cc-aa64-4261-d624-138d30a52f80"
   },
   "outputs": [],
   "source": [
    "#df['tokenized'] = tokenized\n",
    "#df"
   ]
  },
  {
   "cell_type": "markdown",
   "metadata": {},
   "source": [
    "## Topic analysis"
   ]
  },
  {
   "cell_type": "code",
   "execution_count": 29,
   "metadata": {},
   "outputs": [],
   "source": [
    "# clean the data\n",
    "import spacy\n",
    "\n",
    "nlp = spacy.load(\"en_core_web_sm\")\n",
    "\n",
    "def preprocess_spacy(text):\n",
    "  doc = nlp(text,  disable=[\"parser\", \"ner\"])\n",
    "  result = []\n",
    "\n",
    "  for token in doc:\n",
    "    if not token.is_stop and token.is_alpha and len(token)>=3:\n",
    "      result.append(token.lemma_)\n",
    "\n",
    "  return result"
   ]
  },
  {
   "cell_type": "code",
   "execution_count": 30,
   "metadata": {},
   "outputs": [],
   "source": [
    "nested = []\n",
    "\n",
    "for doc in df['tokenized']:\n",
    "  nested.append(preprocess_spacy(' '.join(doc)))"
   ]
  },
  {
   "cell_type": "code",
   "execution_count": 31,
   "metadata": {},
   "outputs": [],
   "source": [
    "df['cleaned'] = nested"
   ]
  },
  {
   "cell_type": "code",
   "execution_count": 32,
   "metadata": {},
   "outputs": [
    {
     "name": "stdout",
     "output_type": "stream",
     "text": [
      "['long', 'time', 'like', 'rewrite', 'scratch', 'couple', 'time', 'java', 'metropolis', 'sample', 'help', 'poor', 'path', 'trace', 'converge', 'btw', 'mlt', 'yesterday', 'beer', 'ballmer', 'peak', 'altough', 'implementation', 'fresh', 'easily', 'outperform', 'standard', 'path', 'trace', 'especially', 'difficult', 'caustic', 'involve', 'implement', 'spectral', 'render', 'easy', 'actually', 'cause', 'computation', 'wavelength', 'linear', 'like', 'rgb', 'realise', 'feel', 'physically', 'correct', 'point', 'application', 'operate', 'rgb', 'color', 'space', 'represent', 'rgb', 'color', 'spectrum', 'interchangeably', 'approximate', 'long', 'run', 'physical', 'simulation', 'benefit', 'correct', 'wrong', 'abandon']\n",
      "\n",
      " Long time no see. Like always I was rewriting it from scratch a couple of times. But nevertheless it's still java and now it uses metropolis sampling to help that poor path tracing converge.\n",
      "\n",
      "Btw. I did MLT on yesterday evening after 2 beers (it had to be Ballmer peak).\n",
      "\n",
      "Altough the implementation is still very fresh it easily outperforms standard path tracing, what is to be seen especially when difficult caustics are involved.\n",
      "\n",
      "I've implemented spectral rendering too, it was very easy actually, cause all computations on wavelengths are linear just like rgb. But then I realised that even if it does feel more physically correct to do so, whats the point? 3d applications are operating in rgb color space, and because I cant represent a rgb color as spectrum interchangeably I have to approximate it, so as long as I'm not running a physical simulation or something I don't see the benefits (please correct me if I'm wrong), thus I abandoned that.\n"
     ]
    }
   ],
   "source": [
    "print(df['cleaned'][0])\n",
    "print(\"\")\n",
    "print(df['post'][0])"
   ]
  },
  {
   "cell_type": "markdown",
   "metadata": {},
   "source": [
    "## K-means clustering"
   ]
  },
  {
   "cell_type": "code",
   "execution_count": 27,
   "metadata": {},
   "outputs": [],
   "source": [
    "from sklearn.feature_extraction.text import TfidfVectorizer\n",
    "from sklearn.cluster import KMeans\n",
    "\n",
    "def dummy(doc):\n",
    "    return doc\n",
    "\n",
    "vec = TfidfVectorizer(tokenizer=dummy, preprocessor=dummy, min_df=5, max_df=0.9)\n",
    "posts = vec.fit_transform(nested)"
   ]
  },
  {
   "cell_type": "code",
   "execution_count": 28,
   "metadata": {},
   "outputs": [],
   "source": [
    "def get_top_keywords(k, n_terms):\n",
    "    \"\"\"This function returns the keywords for each centroid of the KMeans\"\"\"\n",
    "    kmeans = KMeans(n_clusters=k, random_state=1, n_init=10).fit(posts)\n",
    "    \n",
    "    tmp = pd.DataFrame(posts.todense()).groupby(kmeans.labels_).mean() # groups the TF-IDF vector by cluster\n",
    "    terms = vec.get_feature_names_out() # access tf-idf terms\n",
    "    for i,r in tmp.iterrows():\n",
    "        print('\\nCluster {}'.format(i))\n",
    "        print(','.join([terms[t] for t in np.argsort(r)[-n_terms:]])) # for each row of the dataframe, find the n terms that have the highest tf idf score    \n",
    "    \n",
    "    sns.set(font_scale=1.0)\n",
    "    pd.DataFrame(kmeans.labels_).value_counts().sort_index().plot(kind='bar', figsize=(4,3))\n"
   ]
  },
  {
   "cell_type": "code",
   "execution_count": 29,
   "metadata": {},
   "outputs": [
    {
     "name": "stdout",
     "output_type": "stream",
     "text": [
      "\n",
      "Cluster 0\n",
      "time,like,love,god,know,guy,abt,person,good,friend\n",
      "\n",
      "Cluster 1\n",
      "people,know,think,work,good,year,use,like,new,time\n",
      "\n",
      "Cluster 2\n",
      "calorie,diet,muscle,fat,skin,man,weight,food,woman,eat\n",
      "\n",
      "Cluster 3\n",
      "year,like,season,topps,player,baseball,team,card,play,game\n",
      "\n",
      "Cluster 4\n",
      "child,teach,high,day,kid,year,lunch,teacher,student,school\n",
      "\n",
      "Cluster 5\n",
      "good,people,feel,want,thing,day,know,like,think,time\n"
     ]
    },
    {
     "data": {
      "image/png": "[encoded data removed]",
      "text/plain": [
       "<Figure size 288x216 with 1 Axes>"
      ]
     },
     "metadata": {},
     "output_type": "display_data"
    }
   ],
   "source": [
    "get_top_keywords(6, 10)"
   ]
  },
  {
   "cell_type": "code",
   "execution_count": 30,
   "metadata": {},
   "outputs": [
    {
     "name": "stdout",
     "output_type": "stream",
     "text": [
      "\n",
      "Cluster 0\n",
      "site,user,web,google,use\n",
      "\n",
      "Cluster 1\n",
      "muscle,fat,weight,man,woman\n",
      "\n",
      "Cluster 2\n",
      "know,year,good,like,time\n",
      "\n",
      "Cluster 3\n",
      "player,team,play,card,game\n",
      "\n",
      "Cluster 4\n",
      "student,food,lunch,eat,school\n",
      "\n",
      "Cluster 5\n",
      "god,good,person,abt,friend\n",
      "\n",
      "Cluster 6\n",
      "insurance,care,company,car,health\n",
      "\n",
      "Cluster 7\n",
      "day,know,like,think,time\n"
     ]
    },
    {
     "data": {
      "image/png": "[encoded data removed]",
      "text/plain": [
       "<Figure size 288x216 with 1 Axes>"
      ]
     },
     "metadata": {},
     "output_type": "display_data"
    }
   ],
   "source": [
    "get_top_keywords(8, 5)"
   ]
  },
  {
   "cell_type": "code",
   "execution_count": 31,
   "metadata": {},
   "outputs": [
    {
     "name": "stdout",
     "output_type": "stream",
     "text": [
      "\n",
      "Cluster 0\n",
      "like,write,twitter,song,comment,new,video,site,post,blog\n",
      "\n",
      "Cluster 1\n",
      "know,like,come,run,good,season,player,team,play,game\n",
      "\n",
      "Cluster 2\n",
      "reform,democrat,bill,republican,vote,president,insurance,obama,care,health\n",
      "\n",
      "Cluster 3\n",
      "time,flight,like,new,skin,company,island,use,car,service\n",
      "\n",
      "Cluster 4\n",
      "live,good,feel,want,time,think,people,know,life,love\n",
      "\n",
      "Cluster 5\n",
      "frnd,tat,like,know,god,guy,person,good,abt,friend\n",
      "\n",
      "Cluster 6\n",
      "rice,cook,day,dog,student,meal,school,lunch,food,eat\n",
      "\n",
      "Cluster 7\n",
      "want,work,feel,good,thing,think,know,day,time,like\n",
      "\n",
      "Cluster 8\n",
      "look,high,exercise,lose,guy,fat,muscle,weight,man,woman\n",
      "\n",
      "Cluster 9\n",
      "use,thing,day,know,good,think,like,work,year,time\n"
     ]
    },
    {
     "data": {
      "image/png": "[encoded data removed]",
      "text/plain": [
       "<Figure size 288x216 with 1 Axes>"
      ]
     },
     "metadata": {},
     "output_type": "display_data"
    }
   ],
   "source": [
    "get_top_keywords(10, 10)"
   ]
  },
  {
   "cell_type": "code",
   "execution_count": 32,
   "metadata": {},
   "outputs": [
    {
     "name": "stdout",
     "output_type": "stream",
     "text": [
      "\n",
      "Cluster 0\n",
      "love,time,dance,straighten,like,album,band,hair,music,song\n",
      "\n",
      "Cluster 1\n",
      "find,little,think,know,good,look,year,like,day,time\n",
      "\n",
      "Cluster 2\n",
      "like,exercise,lose,guy,muscle,fat,weight,skin,man,woman\n",
      "\n",
      "Cluster 3\n",
      "like,high,eat,kid,day,food,teacher,student,lunch,school\n",
      "\n",
      "Cluster 4\n",
      "fun,like,frnd,tat,know,guy,person,good,abt,friend\n",
      "\n",
      "Cluster 5\n",
      "like,win,baseball,run,good,season,player,team,play,game\n",
      "\n",
      "Cluster 6\n",
      "new,twitter,phone,service,device,web,user,use,google,site\n",
      "\n",
      "Cluster 7\n",
      "thing,love,time,people,think,want,god,feel,know,life\n",
      "\n",
      "Cluster 8\n",
      "democrat,reform,president,republican,vote,bill,insurance,obama,care,health\n",
      "\n",
      "Cluster 9\n",
      "good,use,thing,like,work,year,time,new,think,people\n",
      "\n",
      "Cluster 10\n",
      "character,like,story,director,actor,scene,book,watch,film,movie\n",
      "\n",
      "Cluster 11\n",
      "know,year,post,good,day,work,think,like,time,blog\n"
     ]
    },
    {
     "data": {
      "image/png": "[encoded data removed]",
      "text/plain": [
       "<Figure size 288x216 with 1 Axes>"
      ]
     },
     "metadata": {},
     "output_type": "display_data"
    }
   ],
   "source": [
    "get_top_keywords(12, 10)"
   ]
  },
  {
   "cell_type": "markdown",
   "metadata": {},
   "source": [
    "## Cluster analysis"
   ]
  },
  {
   "cell_type": "code",
   "execution_count": 33,
   "metadata": {},
   "outputs": [],
   "source": [
    "## seems to look good with 8 clusters\n",
    "k = 8\n",
    "n = 15\n",
    "kmeans = KMeans(n_clusters=k, random_state=1, n_init=10).fit(posts)\n",
    "df['cluster'] = kmeans.labels_"
   ]
  },
  {
   "cell_type": "code",
   "execution_count": 34,
   "metadata": {},
   "outputs": [
    {
     "data": {
      "text/plain": [
       "0     206\n",
       "1      73\n",
       "2    1365\n",
       "3     120\n",
       "4     149\n",
       "5     239\n",
       "6     267\n",
       "7     799\n",
       "dtype: int64"
      ]
     },
     "execution_count": 34,
     "metadata": {},
     "output_type": "execute_result"
    }
   ],
   "source": [
    "pd.DataFrame(kmeans.labels_).value_counts().sort_index()"
   ]
  },
  {
   "cell_type": "code",
   "execution_count": 35,
   "metadata": {},
   "outputs": [
    {
     "name": "stdout",
     "output_type": "stream",
     "text": [
      "\n",
      "Cluster 0\n",
      "work,mobile,datum,new,video,service,model,like,device,phone,site,user,web,google,use\n",
      "0    170\n",
      "1     36\n",
      "Name: gender, dtype: int64\n",
      "\n",
      "Cluster 1\n",
      "look,metabolism,thing,burn,calorie,like,high,lose,exercise,guy,muscle,fat,weight,man,woman\n",
      "0    27\n",
      "1    46\n",
      "Name: gender, dtype: int64\n",
      "\n",
      "Cluster 2\n",
      "come,want,thing,way,love,new,work,day,find,think,know,year,good,like,time\n",
      "0    692\n",
      "1    673\n",
      "Name: gender, dtype: int64\n",
      "\n",
      "Cluster 3\n",
      "sticker,know,sport,year,good,league,like,season,topps,baseball,player,team,play,card,game\n",
      "0    99\n",
      "1    21\n",
      "Name: gender, dtype: int64\n",
      "\n",
      "Cluster 4\n",
      "good,meal,think,high,time,like,year,kid,teacher,day,student,food,lunch,eat,school\n",
      "0     39\n",
      "1    110\n",
      "Name: gender, dtype: int64\n",
      "\n",
      "Cluster 5\n",
      "thing,lot,wat,gud,frnd,time,tat,like,guy,know,god,good,person,abt,friend\n",
      "0    135\n",
      "1    104\n",
      "Name: gender, dtype: int64\n",
      "\n",
      "Cluster 6\n",
      "vote,year,president,service,bill,business,new,obama,government,need,insurance,care,company,car,health\n",
      "0    184\n",
      "1     83\n",
      "Name: gender, dtype: int64\n",
      "\n",
      "Cluster 7\n",
      "year,work,come,feel,good,want,love,life,people,thing,day,know,like,think,time\n",
      "0    327\n",
      "1    472\n",
      "Name: gender, dtype: int64\n"
     ]
    }
   ],
   "source": [
    "tmp = pd.DataFrame(posts.todense()).groupby(kmeans.labels_).mean() # groups the TF-IDF vector by cluster\n",
    "terms = vec.get_feature_names_out() # access tf-idf terms\n",
    "for i,r in tmp.iterrows():\n",
    "    print('\\nCluster {}'.format(i))\n",
    "    print(','.join([terms[t] for t in np.argsort(r)[-n:]])) # for each row of the dataframe, find the 15 terms that have the highest tf idf score\n",
    "    print(df.loc[df['cluster'] == i].gender.value_counts().sort_index())"
   ]
  },
  {
   "cell_type": "code",
   "execution_count": 36,
   "metadata": {},
   "outputs": [
    {
     "data": {
      "image/png": "[encoded data removed]",
      "text/plain": [
       "<Figure size 432x360 with 1 Axes>"
      ]
     },
     "metadata": {},
     "output_type": "display_data"
    },
    {
     "data": {
      "image/png": "[encoded data removed]",
      "text/plain": [
       "<Figure size 432x360 with 1 Axes>"
      ]
     },
     "metadata": {},
     "output_type": "display_data"
    },
    {
     "data": {
      "image/png": "[encoded data removed]",
      "text/plain": [
       "<Figure size 432x360 with 1 Axes>"
      ]
     },
     "metadata": {},
     "output_type": "display_data"
    },
    {
     "data": {
      "image/png": "[encoded data removed]",
      "text/plain": [
       "<Figure size 432x360 with 1 Axes>"
      ]
     },
     "metadata": {},
     "output_type": "display_data"
    },
    {
     "data": {
      "image/png": "[encoded data removed]",
      "text/plain": [
       "<Figure size 432x360 with 1 Axes>"
      ]
     },
     "metadata": {},
     "output_type": "display_data"
    },
    {
     "data": {
      "image/png": "[encoded data removed]",
      "text/plain": [
       "<Figure size 432x360 with 1 Axes>"
      ]
     },
     "metadata": {},
     "output_type": "display_data"
    },
    {
     "data": {
      "image/png": "[encoded data removed]",
      "text/plain": [
       "<Figure size 432x360 with 1 Axes>"
      ]
     },
     "metadata": {},
     "output_type": "display_data"
    },
    {
     "data": {
      "image/png": "[encoded data removed]",
      "text/plain": [
       "<Figure size 432x360 with 1 Axes>"
      ]
     },
     "metadata": {},
     "output_type": "display_data"
    }
   ],
   "source": [
    "for i,r in tmp.iterrows():\n",
    "    sns.set(font_scale=1.1)\n",
    "    df.loc[df['cluster'] == i]['gender'].value_counts().sort_index().plot(kind='bar', rot=0, figsize=(6,5))\n",
    "    plt.xlabel(\"Author gender (0: male, 1: female)\")\n",
    "    plt.ylabel(\"Count of texts\")\n",
    "    plt.title(\"Cluster \" + str(i+1) + \": \" + ', '.join([terms[t] for t in np.argsort(r)[-8:]]), y=1.02)\n",
    "    plt.show()"
   ]
  },
  {
   "cell_type": "markdown",
   "metadata": {},
   "source": [
    "## LDA topic modeling"
   ]
  },
  {
   "cell_type": "code",
   "execution_count": 89,
   "metadata": {},
   "outputs": [],
   "source": [
    "from gensim.corpora import Dictionary\n",
    "from gensim.models import LdaModel, CoherenceModel\n",
    "\n",
    "# Create Dictionary\n",
    "id2word = Dictionary(df['cleaned'])\n",
    "\n",
    "# Filter out words that occur less than 10 documents, or more than 50% of the documents.\n",
    "#id2word.filter_extremes(no_below=10, no_above=0.5)\n",
    "\n",
    "# Create Corpus\n",
    "texts = df['cleaned']\n",
    "\n",
    "# Term Document Frequency\n",
    "corpus = [id2word.doc2bow(text) for text in texts]"
   ]
  },
  {
   "cell_type": "code",
   "execution_count": 81,
   "metadata": {},
   "outputs": [
    {
     "name": "stdout",
     "output_type": "stream",
     "text": [
      "[[(0, 1), (1, 1), (2, 1), (3, 1), (4, 1), (5, 1), (6, 1), (7, 1), (8, 1), (9, 1), (10, 1), (11, 2), (12, 1), (13, 1), (14, 2), (15, 1), (16, 1), (17, 1), (18, 1), (19, 1), (20, 1), (21, 1), (22, 1), (23, 1), (24, 1), (25, 1), (26, 1), (27, 1), (28, 2), (29, 1), (30, 2), (31, 1), (32, 1), (33, 1), (34, 1), (35, 2), (36, 1), (37, 1), (38, 1), (39, 1), (40, 1), (41, 1), (42, 1), (43, 1), (44, 1), (45, 3), (46, 1), (47, 1), (48, 1), (49, 1), (50, 1), (51, 1), (52, 1), (53, 1), (54, 2), (55, 2), (56, 1), (57, 1), (58, 1)]]\n",
      "[[('abandon', 1), ('actually', 1), ('altough', 1), ('application', 1), ('approximate', 1), ('ballmer', 1), ('beer', 1), ('benefit', 1), ('btw', 1), ('cause', 1), ('caustic', 1), ('color', 2), ('computation', 1), ('converge', 1), ('correct', 2), ('couple', 1), ('difficult', 1), ('easily', 1), ('easy', 1), ('especially', 1), ('feel', 1), ('fresh', 1), ('help', 1), ('implement', 1), ('implementation', 1), ('interchangeably', 1), ('involve', 1), ('java', 1), ('like', 2), ('linear', 1), ('long', 2), ('metropolis', 1), ('mlt', 1), ('operate', 1), ('outperform', 1), ('path', 2), ('peak', 1), ('physical', 1), ('physically', 1), ('point', 1), ('poor', 1), ('realise', 1), ('render', 1), ('represent', 1), ('rewrite', 1), ('rgb', 3), ('run', 1), ('sample', 1), ('scratch', 1), ('simulation', 1), ('space', 1), ('spectral', 1), ('spectrum', 1), ('standard', 1), ('time', 2), ('trace', 2), ('wavelength', 1), ('wrong', 1), ('yesterday', 1)]]\n"
     ]
    }
   ],
   "source": [
    "# View\n",
    "print(corpus[:1])\n",
    "print([[(id2word[id], freq) for id, freq in cp] for cp in corpus[:1]])"
   ]
  },
  {
   "cell_type": "code",
   "execution_count": 82,
   "metadata": {},
   "outputs": [
    {
     "name": "stdout",
     "output_type": "stream",
     "text": [
      "Number of unique tokens: 49663\n",
      "Number of documents: 3218\n"
     ]
    }
   ],
   "source": [
    "# Bag-of-words representation of the documents.\n",
    "print('Number of unique tokens: %d' % len(id2word))\n",
    "print('Number of documents: %d' % len(corpus))"
   ]
  },
  {
   "cell_type": "code",
   "execution_count": 95,
   "metadata": {},
   "outputs": [
    {
     "data": {
      "text/plain": [
       "[(0,\n",
       "  '0.012*\"health\" + 0.009*\"court\" + 0.008*\"company\" + 0.007*\"care\" + 0.006*\"law\" + 0.005*\"bill\" + 0.005*\"accuse\" + 0.005*\"bail\" + 0.005*\"reform\" + 0.004*\"government\"'),\n",
       " (1,\n",
       "  '0.009*\"que\" + 0.005*\"para\" + 0.005*\"click\" + 0.004*\"mobile\" + 0.004*\"ver\" + 0.004*\"haz\" + 0.004*\"phone\" + 0.003*\"toda\" + 0.003*\"aquí\" + 0.003*\"sobre\"'),\n",
       " (2,\n",
       "  '0.007*\"use\" + 0.006*\"work\" + 0.006*\"like\" + 0.006*\"new\" + 0.005*\"find\" + 0.005*\"site\" + 0.005*\"color\" + 0.004*\"time\" + 0.004*\"look\" + 0.004*\"paint\"'),\n",
       " (3,\n",
       "  '0.006*\"game\" + 0.005*\"good\" + 0.004*\"time\" + 0.004*\"think\" + 0.004*\"year\" + 0.004*\"work\" + 0.004*\"use\" + 0.004*\"way\" + 0.004*\"team\" + 0.004*\"new\"'),\n",
       " (4,\n",
       "  '0.007*\"post\" + 0.006*\"new\" + 0.006*\"woman\" + 0.004*\"collection\" + 0.004*\"blog\" + 0.004*\"fashion\" + 0.003*\"write\" + 0.003*\"art\" + 0.003*\"image\" + 0.003*\"girl\"'),\n",
       " (5,\n",
       "  '0.004*\"une\" + 0.004*\"vous\" + 0.003*\"les\" + 0.003*\"que\" + 0.002*\"pour\" + 0.002*\"nuclear\" + 0.002*\"hezbollah\" + 0.002*\"dan\" + 0.002*\"borscht\" + 0.002*\"bien\"'),\n",
       " (6,\n",
       "  '0.010*\"people\" + 0.008*\"good\" + 0.008*\"like\" + 0.008*\"time\" + 0.008*\"think\" + 0.007*\"thing\" + 0.006*\"know\" + 0.005*\"life\" + 0.005*\"come\" + 0.004*\"day\"'),\n",
       " (7,\n",
       "  '0.011*\"time\" + 0.009*\"like\" + 0.009*\"know\" + 0.009*\"day\" + 0.008*\"think\" + 0.007*\"life\" + 0.007*\"feel\" + 0.006*\"good\" + 0.006*\"come\" + 0.006*\"thing\"'),\n",
       " (8,\n",
       "  '0.011*\"cook\" + 0.010*\"food\" + 0.008*\"eat\" + 0.006*\"use\" + 0.006*\"recipe\" + 0.005*\"cheese\" + 0.005*\"good\" + 0.005*\"add\" + 0.004*\"like\" + 0.004*\"time\"'),\n",
       " (9,\n",
       "  '0.011*\"like\" + 0.009*\"time\" + 0.009*\"know\" + 0.008*\"think\" + 0.008*\"year\" + 0.007*\"good\" + 0.006*\"want\" + 0.006*\"day\" + 0.006*\"blog\" + 0.006*\"work\"')]"
      ]
     },
     "execution_count": 95,
     "metadata": {},
     "output_type": "execute_result"
    }
   ],
   "source": [
    "# Build LDA model\n",
    "lda_model = LdaModel(corpus=corpus,\n",
    "                     id2word=id2word,\n",
    "                     num_topics=10, \n",
    "                     passes=10,\n",
    "                     random_state=0,\n",
    "                     alpha='auto',\n",
    "                     eta='auto')\n",
    "\n",
    "lda_model.print_topics()"
   ]
  },
  {
   "cell_type": "code",
   "execution_count": 96,
   "metadata": {},
   "outputs": [
    {
     "name": "stdout",
     "output_type": "stream",
     "text": [
      "Perplexity:  -8.899103283942004\n",
      "\n",
      "Coherence Score:  0.4311894022861257\n"
     ]
    }
   ],
   "source": [
    "# Compute Perplexity\n",
    "print('Perplexity: ', lda_model.log_perplexity(corpus))  # a measure of how good the model is. lower the better.\n",
    "\n",
    "# Compute Coherence Score (larger is better)\n",
    "coherence_model_lda = CoherenceModel(model=lda_model, texts=df['cleaned'], dictionary=id2word, coherence='c_v')\n",
    "coherence_lda = coherence_model_lda.get_coherence()\n",
    "print('\\nCoherence Score: ', coherence_lda)"
   ]
  },
  {
   "cell_type": "markdown",
   "metadata": {
    "jp-MarkdownHeadingCollapsed": true,
    "tags": []
   },
   "source": [
    "## Divide into training and testing data"
   ]
  },
  {
   "cell_type": "code",
   "execution_count": 43,
   "metadata": {
    "colab": {
     "base_uri": "https://localhost:8080/"
    },
    "executionInfo": {
     "elapsed": 21,
     "status": "ok",
     "timestamp": 1645568809824,
     "user": {
      "displayName": "Lisa Spahn Lundgren",
      "photoUrl": "https://lh3.googleusercontent.com/a/default-user=s64",
      "userId": "13266833213640265739"
     },
     "user_tz": -60
    },
    "id": "QlesC4aGV03A",
    "outputId": "d1388401-5031-4f48-eaf0-c22957997afa"
   },
   "outputs": [
    {
     "data": {
      "text/html": [
       "<div>\n",
       "<style scoped>\n",
       "    .dataframe tbody tr th:only-of-type {\n",
       "        vertical-align: middle;\n",
       "    }\n",
       "\n",
       "    .dataframe tbody tr th {\n",
       "        vertical-align: top;\n",
       "    }\n",
       "\n",
       "    .dataframe thead th {\n",
       "        text-align: right;\n",
       "    }\n",
       "</style>\n",
       "<table border=\"1\" class=\"dataframe\">\n",
       "  <thead>\n",
       "    <tr style=\"text-align: right;\">\n",
       "      <th></th>\n",
       "      <th>post</th>\n",
       "      <th>gender</th>\n",
       "      <th>tokenized</th>\n",
       "      <th>cleaned</th>\n",
       "      <th>cluster</th>\n",
       "    </tr>\n",
       "  </thead>\n",
       "  <tbody>\n",
       "    <tr>\n",
       "      <th>2218</th>\n",
       "      <td>What? No escape? I thought that I would be ab...</td>\n",
       "      <td>1</td>\n",
       "      <td>[escape, thought, would, able, get, need, hear...</td>\n",
       "      <td>[escape, thought, able, need, hear, leave, pit...</td>\n",
       "      <td>7</td>\n",
       "    </tr>\n",
       "    <tr>\n",
       "      <th>1863</th>\n",
       "      <td>And all I can say is Thank You, Thank You!!!  ...</td>\n",
       "      <td>1</td>\n",
       "      <td>[say, thank, thank, think, look, another, surg...</td>\n",
       "      <td>[thank, thank, think, look, surgical, procedur...</td>\n",
       "      <td>7</td>\n",
       "    </tr>\n",
       "    <tr>\n",
       "      <th>1160</th>\n",
       "      <td>She is a very very sweet girl :)\\n\\nIts hardly...</td>\n",
       "      <td>1</td>\n",
       "      <td>[sweet, girl, hardly, 2, month, since, start, ...</td>\n",
       "      <td>[sweet, girl, hardly, month, start, talk, fun,...</td>\n",
       "      <td>5</td>\n",
       "    </tr>\n",
       "    <tr>\n",
       "      <th>2865</th>\n",
       "      <td>I love what Brooke had to say about the event,...</td>\n",
       "      <td>1</td>\n",
       "      <td>[love, brooke, say, event, also, tidbit, advic...</td>\n",
       "      <td>[love, brooke, event, tidbit, advice, share, e...</td>\n",
       "      <td>2</td>\n",
       "    </tr>\n",
       "    <tr>\n",
       "      <th>2802</th>\n",
       "      <td>I have some photos I've been meaning to post f...</td>\n",
       "      <td>1</td>\n",
       "      <td>[photo, ive, mean, post, david, reid, go, lola...</td>\n",
       "      <td>[photo, mean, post, david, reid, lola, month, ...</td>\n",
       "      <td>2</td>\n",
       "    </tr>\n",
       "    <tr>\n",
       "      <th>...</th>\n",
       "      <td>...</td>\n",
       "      <td>...</td>\n",
       "      <td>...</td>\n",
       "      <td>...</td>\n",
       "      <td>...</td>\n",
       "    </tr>\n",
       "    <tr>\n",
       "      <th>1943</th>\n",
       "      <td>So, on my long run of the week I like to conte...</td>\n",
       "      <td>1</td>\n",
       "      <td>[long, run, week, like, contemplate, thingsthe...</td>\n",
       "      <td>[long, run, week, like, contemplate, thingsthe...</td>\n",
       "      <td>7</td>\n",
       "    </tr>\n",
       "    <tr>\n",
       "      <th>1480</th>\n",
       "      <td>Contact lenses require a certain degree of car...</td>\n",
       "      <td>0</td>\n",
       "      <td>[contact, lenses, require, certain, degree, ca...</td>\n",
       "      <td>[contact, lense, require, certain, degree, car...</td>\n",
       "      <td>2</td>\n",
       "    </tr>\n",
       "    <tr>\n",
       "      <th>1690</th>\n",
       "      <td>I didn't start watching AD until way after the...</td>\n",
       "      <td>1</td>\n",
       "      <td>[didnt, start, watch, ad, way, show, well, lat...</td>\n",
       "      <td>[start, watch, way, late, know, begin, watch, ...</td>\n",
       "      <td>2</td>\n",
       "    </tr>\n",
       "    <tr>\n",
       "      <th>1416</th>\n",
       "      <td>At Creation Moments, Ian Taylor starts by aski...</td>\n",
       "      <td>0</td>\n",
       "      <td>[creation, moment, ian, taylor, start, ask, sc...</td>\n",
       "      <td>[creation, moment, ian, taylor, start, ask, sc...</td>\n",
       "      <td>7</td>\n",
       "    </tr>\n",
       "    <tr>\n",
       "      <th>1316</th>\n",
       "      <td>In all my years of reading horror comics I've ...</td>\n",
       "      <td>0</td>\n",
       "      <td>[year, read, horror, comic, ive, learn, import...</td>\n",
       "      <td>[year, read, horror, comic, learn, important, ...</td>\n",
       "      <td>2</td>\n",
       "    </tr>\n",
       "  </tbody>\n",
       "</table>\n",
       "<p>2574 rows × 5 columns</p>\n",
       "</div>"
      ],
      "text/plain": [
       "                                                   post  gender  \\\n",
       "2218   What? No escape? I thought that I would be ab...       1   \n",
       "1863  And all I can say is Thank You, Thank You!!!  ...       1   \n",
       "1160  She is a very very sweet girl :)\\n\\nIts hardly...       1   \n",
       "2865  I love what Brooke had to say about the event,...       1   \n",
       "2802  I have some photos I've been meaning to post f...       1   \n",
       "...                                                 ...     ...   \n",
       "1943  So, on my long run of the week I like to conte...       1   \n",
       "1480  Contact lenses require a certain degree of car...       0   \n",
       "1690  I didn't start watching AD until way after the...       1   \n",
       "1416  At Creation Moments, Ian Taylor starts by aski...       0   \n",
       "1316  In all my years of reading horror comics I've ...       0   \n",
       "\n",
       "                                              tokenized  \\\n",
       "2218  [escape, thought, would, able, get, need, hear...   \n",
       "1863  [say, thank, thank, think, look, another, surg...   \n",
       "1160  [sweet, girl, hardly, 2, month, since, start, ...   \n",
       "2865  [love, brooke, say, event, also, tidbit, advic...   \n",
       "2802  [photo, ive, mean, post, david, reid, go, lola...   \n",
       "...                                                 ...   \n",
       "1943  [long, run, week, like, contemplate, thingsthe...   \n",
       "1480  [contact, lenses, require, certain, degree, ca...   \n",
       "1690  [didnt, start, watch, ad, way, show, well, lat...   \n",
       "1416  [creation, moment, ian, taylor, start, ask, sc...   \n",
       "1316  [year, read, horror, comic, ive, learn, import...   \n",
       "\n",
       "                                                cleaned  cluster  \n",
       "2218  [escape, thought, able, need, hear, leave, pit...        7  \n",
       "1863  [thank, thank, think, look, surgical, procedur...        7  \n",
       "1160  [sweet, girl, hardly, month, start, talk, fun,...        5  \n",
       "2865  [love, brooke, event, tidbit, advice, share, e...        2  \n",
       "2802  [photo, mean, post, david, reid, lola, month, ...        2  \n",
       "...                                                 ...      ...  \n",
       "1943  [long, run, week, like, contemplate, thingsthe...        7  \n",
       "1480  [contact, lense, require, certain, degree, car...        2  \n",
       "1690  [start, watch, way, late, know, begin, watch, ...        2  \n",
       "1416  [creation, moment, ian, taylor, start, ask, sc...        7  \n",
       "1316  [year, read, horror, comic, learn, important, ...        2  \n",
       "\n",
       "[2574 rows x 5 columns]"
      ]
     },
     "execution_count": 43,
     "metadata": {},
     "output_type": "execute_result"
    }
   ],
   "source": [
    "from sklearn.model_selection import train_test_split\n",
    "\n",
    "df_train, df_test = train_test_split(df, test_size=0.2, stratify=df['gender'], random_state=0)\n",
    "df_train"
   ]
  },
  {
   "cell_type": "code",
   "execution_count": 44,
   "metadata": {
    "colab": {
     "base_uri": "https://localhost:8080/",
     "height": 426
    },
    "executionInfo": {
     "elapsed": 18,
     "status": "ok",
     "timestamp": 1645568809825,
     "user": {
      "displayName": "Lisa Spahn Lundgren",
      "photoUrl": "https://lh3.googleusercontent.com/a/default-user=s64",
      "userId": "13266833213640265739"
     },
     "user_tz": -60
    },
    "id": "Pqay-eZreUSR",
    "outputId": "f88aab6a-6bcb-4333-adb6-6ee5deaf1a2d"
   },
   "outputs": [
    {
     "data": {
      "image/png": "[encoded data removed]",
      "text/plain": [
       "<Figure size 432x360 with 1 Axes>"
      ]
     },
     "metadata": {},
     "output_type": "display_data"
    },
    {
     "name": "stdout",
     "output_type": "stream",
     "text": [
      "0    1338\n",
      "1    1236\n",
      "Name: gender, dtype: int64\n"
     ]
    }
   ],
   "source": [
    "sns.set(font_scale=1.2)\n",
    "df_train['gender'].value_counts().plot(kind='bar', rot=0, figsize=(6,5))\n",
    "plt.xlabel(\"Author gender\")\n",
    "plt.ylabel(\"Count of texts\")\n",
    "plt.title(\"Counts of texts written by male / female authors\", y=1.05)\n",
    "plt.show()\n",
    "\n",
    "print(df_train['gender'].value_counts())"
   ]
  },
  {
   "cell_type": "code",
   "execution_count": 45,
   "metadata": {
    "colab": {
     "base_uri": "https://localhost:8080/"
    },
    "executionInfo": {
     "elapsed": 478,
     "status": "ok",
     "timestamp": 1645568810288,
     "user": {
      "displayName": "Lisa Spahn Lundgren",
      "photoUrl": "https://lh3.googleusercontent.com/a/default-user=s64",
      "userId": "13266833213640265739"
     },
     "user_tz": -60
    },
    "id": "cINSUyfGeXHu",
    "outputId": "664eb058-7cc5-4171-abdd-b000c419c83d"
   },
   "outputs": [
    {
     "data": {
      "image/png": "[encoded data removed]",
      "text/plain": [
       "<Figure size 432x360 with 1 Axes>"
      ]
     },
     "metadata": {},
     "output_type": "display_data"
    },
    {
     "name": "stdout",
     "output_type": "stream",
     "text": [
      "0    335\n",
      "1    309\n",
      "Name: gender, dtype: int64\n"
     ]
    }
   ],
   "source": [
    "sns.set(font_scale=1.2)\n",
    "df_test['gender'].value_counts().plot(kind='bar', rot=0, figsize=(6,5))\n",
    "plt.xlabel(\"Author gender\")\n",
    "plt.ylabel(\"Count of texts\")\n",
    "plt.title(\"Counts of texts written by male / female authors\", y=1.05)\n",
    "plt.show()\n",
    "\n",
    "print(df_test['gender'].value_counts())"
   ]
  },
  {
   "cell_type": "markdown",
   "metadata": {
    "id": "LLPsvVJVV3tk"
   },
   "source": [
    "Save to csv"
   ]
  },
  {
   "cell_type": "code",
   "execution_count": 46,
   "metadata": {
    "id": "iH0aLPVhgdaK"
   },
   "outputs": [],
   "source": [
    "from operator import index\n",
    "\n",
    "#df_train.to_csv('/content/drive/MyDrive/Colab Notebooks/gender_prediction/data/uic_blogs_gender/train_tokenized.csv', index=False)\n",
    "#df_test.to_csv('/content/drive/MyDrive/Colab Notebooks/gender_prediction/data/uic_blogs_gender/test_tokenized.csv', index=False)\n",
    "df_train.to_csv('../data/train_tokenized.csv', index=False)\n",
    "df_test.to_csv('../data/test_tokenized.csv', index=False)"
   ]
  }
 ],
 "metadata": {
  "colab": {
   "authorship_tag": "ABX9TyOSHOPFxucKTENnouGtUM/9",
   "collapsed_sections": [],
   "name": "preprocess.ipynb",
   "provenance": []
  },
  "kernelspec": {
   "display_name": "Python 3 (ipykernel)",
   "language": "python",
   "name": "python3"
  },
  "language_info": {
   "codemirror_mode": {
    "name": "ipython",
    "version": 3
   },
   "file_extension": ".py",
   "mimetype": "text/x-python",
   "name": "python",
   "nbconvert_exporter": "python",
   "pygments_lexer": "ipython3",
   "version": "3.9.7"
  }
 },
 "nbformat": 4,
 "nbformat_minor": 4
}
