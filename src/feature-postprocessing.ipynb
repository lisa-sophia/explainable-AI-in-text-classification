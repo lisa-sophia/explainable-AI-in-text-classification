{
 "cells": [
  {
   "cell_type": "code",
   "execution_count": 1,
   "metadata": {
    "executionInfo": {
     "elapsed": 8,
     "status": "ok",
     "timestamp": 1645639287395,
     "user": {
      "displayName": "Lisa Spahn Lundgren",
      "photoUrl": "https://lh3.googleusercontent.com/a/default-user=s64",
      "userId": "13266833213640265739"
     },
     "user_tz": -60
    },
    "id": "V_TMtAtbrVXr"
   },
   "outputs": [],
   "source": [
    "import numpy as np\n",
    "import pandas as pd"
   ]
  },
  {
   "cell_type": "code",
   "execution_count": 2,
   "metadata": {
    "colab": {
     "base_uri": "https://localhost:8080/",
     "height": 424
    },
    "executionInfo": {
     "elapsed": 2062,
     "status": "ok",
     "timestamp": 1645639289450,
     "user": {
      "displayName": "Lisa Spahn Lundgren",
      "photoUrl": "https://lh3.googleusercontent.com/a/default-user=s64",
      "userId": "13266833213640265739"
     },
     "user_tz": -60
    },
    "id": "MUHUkvxbwRGd",
    "outputId": "7026c6eb-59fe-4cf4-dafb-2040d2463bab"
   },
   "outputs": [],
   "source": [
    "df = pd.read_csv(r'../data/tokenized.csv')\n",
    "df_test = pd.read_csv(r'../data/test_tokenized.csv')"
   ]
  },
  {
   "cell_type": "code",
   "execution_count": 11,
   "metadata": {},
   "outputs": [
    {
     "data": {
      "text/html": [
       "<div>\n",
       "<style scoped>\n",
       "    .dataframe tbody tr th:only-of-type {\n",
       "        vertical-align: middle;\n",
       "    }\n",
       "\n",
       "    .dataframe tbody tr th {\n",
       "        vertical-align: top;\n",
       "    }\n",
       "\n",
       "    .dataframe thead th {\n",
       "        text-align: right;\n",
       "    }\n",
       "</style>\n",
       "<table border=\"1\" class=\"dataframe\">\n",
       "  <thead>\n",
       "    <tr style=\"text-align: right;\">\n",
       "      <th></th>\n",
       "      <th>post</th>\n",
       "      <th>gender</th>\n",
       "      <th>tokenized</th>\n",
       "      <th>cleaned</th>\n",
       "      <th>cluster</th>\n",
       "    </tr>\n",
       "  </thead>\n",
       "  <tbody>\n",
       "    <tr>\n",
       "      <th>0</th>\n",
       "      <td>perfect epitome of demagogue ..jus too senitiv...</td>\n",
       "      <td>1</td>\n",
       "      <td>['perfect', 'epitome', 'demagogue', 'jus', 'se...</td>\n",
       "      <td>['perfect', 'epitome', 'demagogue', 'ju', 'sen...</td>\n",
       "      <td>5</td>\n",
       "    </tr>\n",
       "    <tr>\n",
       "      <th>1</th>\n",
       "      <td>Autistic Rights are Disability Rights are Huma...</td>\n",
       "      <td>1</td>\n",
       "      <td>['autistic', 'right', 'disability', 'right', '...</td>\n",
       "      <td>['autistic', 'right', 'disability', 'right', '...</td>\n",
       "      <td>7</td>\n",
       "    </tr>\n",
       "    <tr>\n",
       "      <th>2</th>\n",
       "      <td>Good news for U.S. territories; Del. Donna M. ...</td>\n",
       "      <td>1</td>\n",
       "      <td>['good', 'news', 'u', 'territories', 'del', 'd...</td>\n",
       "      <td>['good', 'news', 'territories', 'del', 'donna'...</td>\n",
       "      <td>6</td>\n",
       "    </tr>\n",
       "    <tr>\n",
       "      <th>3</th>\n",
       "      <td>The weather in this part of the globe is once ...</td>\n",
       "      <td>1</td>\n",
       "      <td>['weather', 'part', 'globe', 'change', 'slight...</td>\n",
       "      <td>['weather', 'globe', 'change', 'slight', 'chil...</td>\n",
       "      <td>2</td>\n",
       "    </tr>\n",
       "    <tr>\n",
       "      <th>4</th>\n",
       "      <td>I was the first one to arrive at the station. ...</td>\n",
       "      <td>1</td>\n",
       "      <td>['first', 'one', 'arrive', 'station', 'sit', '...</td>\n",
       "      <td>['arrive', 'station', 'sit', 'bench', 'wait', ...</td>\n",
       "      <td>2</td>\n",
       "    </tr>\n",
       "    <tr>\n",
       "      <th>...</th>\n",
       "      <td>...</td>\n",
       "      <td>...</td>\n",
       "      <td>...</td>\n",
       "      <td>...</td>\n",
       "      <td>...</td>\n",
       "    </tr>\n",
       "    <tr>\n",
       "      <th>639</th>\n",
       "      <td>Sorry, Charlie\\n\\nUntil recently, it was assu...</td>\n",
       "      <td>0</td>\n",
       "      <td>['sorry', 'charlie', 'recently', 'assume', 'ch...</td>\n",
       "      <td>['sorry', 'charlie', 'recently', 'assume', 'ch...</td>\n",
       "      <td>6</td>\n",
       "    </tr>\n",
       "    <tr>\n",
       "      <th>640</th>\n",
       "      <td>Feel Good….!!! :) Recently i have seen a video...</td>\n",
       "      <td>0</td>\n",
       "      <td>['feel', 'good…', 'recently', 'see', 'video', ...</td>\n",
       "      <td>['feel', 'good', 'recently', 'video', 'abt', '...</td>\n",
       "      <td>5</td>\n",
       "    </tr>\n",
       "    <tr>\n",
       "      <th>641</th>\n",
       "      <td>I've been working on some new material. \" When...</td>\n",
       "      <td>0</td>\n",
       "      <td>['ive', 'work', 'new', 'material', 'youre', 'b...</td>\n",
       "      <td>['work', 'new', 'material', 'blind', 'sen', 's...</td>\n",
       "      <td>2</td>\n",
       "    </tr>\n",
       "    <tr>\n",
       "      <th>642</th>\n",
       "      <td>vasoooool raani :P.. finally here goes a testi...</td>\n",
       "      <td>0</td>\n",
       "      <td>['vasoooool', 'raani', 'p', 'finally', 'go', '...</td>\n",
       "      <td>['vasoooool', 'raani', 'finally', 'testimonial...</td>\n",
       "      <td>5</td>\n",
       "    </tr>\n",
       "    <tr>\n",
       "      <th>643</th>\n",
       "      <td>In addition to orienting myself once I arrive ...</td>\n",
       "      <td>1</td>\n",
       "      <td>['addition', 'orient', 'arrive', 'city', 'usua...</td>\n",
       "      <td>['addition', 'orient', 'arrive', 'city', 'usua...</td>\n",
       "      <td>2</td>\n",
       "    </tr>\n",
       "  </tbody>\n",
       "</table>\n",
       "<p>644 rows × 5 columns</p>\n",
       "</div>"
      ],
      "text/plain": [
       "                                                  post  gender  \\\n",
       "0    perfect epitome of demagogue ..jus too senitiv...       1   \n",
       "1    Autistic Rights are Disability Rights are Huma...       1   \n",
       "2    Good news for U.S. territories; Del. Donna M. ...       1   \n",
       "3    The weather in this part of the globe is once ...       1   \n",
       "4    I was the first one to arrive at the station. ...       1   \n",
       "..                                                 ...     ...   \n",
       "639   Sorry, Charlie\\n\\nUntil recently, it was assu...       0   \n",
       "640  Feel Good….!!! :) Recently i have seen a video...       0   \n",
       "641  I've been working on some new material. \" When...       0   \n",
       "642  vasoooool raani :P.. finally here goes a testi...       0   \n",
       "643  In addition to orienting myself once I arrive ...       1   \n",
       "\n",
       "                                             tokenized  \\\n",
       "0    ['perfect', 'epitome', 'demagogue', 'jus', 'se...   \n",
       "1    ['autistic', 'right', 'disability', 'right', '...   \n",
       "2    ['good', 'news', 'u', 'territories', 'del', 'd...   \n",
       "3    ['weather', 'part', 'globe', 'change', 'slight...   \n",
       "4    ['first', 'one', 'arrive', 'station', 'sit', '...   \n",
       "..                                                 ...   \n",
       "639  ['sorry', 'charlie', 'recently', 'assume', 'ch...   \n",
       "640  ['feel', 'good…', 'recently', 'see', 'video', ...   \n",
       "641  ['ive', 'work', 'new', 'material', 'youre', 'b...   \n",
       "642  ['vasoooool', 'raani', 'p', 'finally', 'go', '...   \n",
       "643  ['addition', 'orient', 'arrive', 'city', 'usua...   \n",
       "\n",
       "                                               cleaned  cluster  \n",
       "0    ['perfect', 'epitome', 'demagogue', 'ju', 'sen...        5  \n",
       "1    ['autistic', 'right', 'disability', 'right', '...        7  \n",
       "2    ['good', 'news', 'territories', 'del', 'donna'...        6  \n",
       "3    ['weather', 'globe', 'change', 'slight', 'chil...        2  \n",
       "4    ['arrive', 'station', 'sit', 'bench', 'wait', ...        2  \n",
       "..                                                 ...      ...  \n",
       "639  ['sorry', 'charlie', 'recently', 'assume', 'ch...        6  \n",
       "640  ['feel', 'good', 'recently', 'video', 'abt', '...        5  \n",
       "641  ['work', 'new', 'material', 'blind', 'sen', 's...        2  \n",
       "642  ['vasoooool', 'raani', 'finally', 'testimonial...        5  \n",
       "643  ['addition', 'orient', 'arrive', 'city', 'usua...        2  \n",
       "\n",
       "[644 rows x 5 columns]"
      ]
     },
     "execution_count": 11,
     "metadata": {},
     "output_type": "execute_result"
    }
   ],
   "source": [
    "df_test"
   ]
  },
  {
   "cell_type": "code",
   "execution_count": 14,
   "metadata": {},
   "outputs": [],
   "source": [
    "from ast import literal_eval\n",
    "\n",
    "df['tokenized'] = df['tokenized'].apply(literal_eval)\n",
    "df_test['tokenized'] = df_test['tokenized'].apply(literal_eval)"
   ]
  },
  {
   "cell_type": "markdown",
   "metadata": {
    "id": "AMiuv96BQp21"
   },
   "source": [
    "### Load model"
   ]
  },
  {
   "cell_type": "code",
   "execution_count": 3,
   "metadata": {
    "colab": {
     "base_uri": "https://localhost:8080/",
     "height": 597
    },
    "executionInfo": {
     "elapsed": 26,
     "status": "ok",
     "timestamp": 1645639289453,
     "user": {
      "displayName": "Lisa Spahn Lundgren",
      "photoUrl": "https://lh3.googleusercontent.com/a/default-user=s64",
      "userId": "13266833213640265739"
     },
     "user_tz": -60
    },
    "id": "RkcuKR90QtXw",
    "outputId": "f607824d-0542-4dd3-a34a-c07165a66ec5"
   },
   "outputs": [],
   "source": [
    "import torch\n",
    "import torch.nn.functional as nn\n",
    "from transformers_interpret import SequenceClassificationExplainer\n",
    "from transformers import DistilBertTokenizer, DistilBertForSequenceClassification\n",
    "import matplotlib.pyplot as plt\n",
    "import seaborn as sns"
   ]
  },
  {
   "cell_type": "code",
   "execution_count": 4,
   "metadata": {},
   "outputs": [
    {
     "name": "stderr",
     "output_type": "stream",
     "text": [
      "Some weights of the model checkpoint at distilbert-base-uncased were not used when initializing DistilBertForSequenceClassification: ['vocab_layer_norm.weight', 'vocab_layer_norm.bias', 'vocab_transform.weight', 'vocab_projector.weight', 'vocab_transform.bias', 'vocab_projector.bias']\n",
      "- This IS expected if you are initializing DistilBertForSequenceClassification from the checkpoint of a model trained on another task or with another architecture (e.g. initializing a BertForSequenceClassification model from a BertForPreTraining model).\n",
      "- This IS NOT expected if you are initializing DistilBertForSequenceClassification from the checkpoint of a model that you expect to be exactly identical (initializing a BertForSequenceClassification model from a BertForSequenceClassification model).\n",
      "Some weights of DistilBertForSequenceClassification were not initialized from the model checkpoint at distilbert-base-uncased and are newly initialized: ['pre_classifier.weight', 'classifier.weight', 'classifier.bias', 'pre_classifier.bias']\n",
      "You should probably TRAIN this model on a down-stream task to be able to use it for predictions and inference.\n"
     ]
    },
    {
     "data": {
      "text/plain": [
       "<All keys matched successfully>"
      ]
     },
     "execution_count": 4,
     "metadata": {},
     "output_type": "execute_result"
    }
   ],
   "source": [
    "# load the fine-tuned BERT model\n",
    "tokenizer = DistilBertTokenizer.from_pretrained(\"distilbert-base-uncased\", do_lower_case=True)\n",
    "model = DistilBertForSequenceClassification.from_pretrained(\"distilbert-base-uncased\", num_labels=2)\n",
    "finetuned_path = '../models/bert/own_script/epoch-4.model'\n",
    "model.load_state_dict(torch.load(finetuned_path, map_location=torch.device('cpu')))"
   ]
  },
  {
   "cell_type": "code",
   "execution_count": 5,
   "metadata": {},
   "outputs": [],
   "source": [
    "def predict(text):\n",
    "    inputs = tokenizer(text, add_special_tokens = True, max_length = 512, \n",
    "                      truncation = True, padding = True, return_tensors='pt')\n",
    "    model.eval()\n",
    "    with torch.no_grad():\n",
    "        outputs = model(**inputs)\n",
    "    \n",
    "    logits = outputs.logits\n",
    "    pred = torch.argmax(logits, dim=-1).detach().numpy()[0] \n",
    "    prob = nn.softmax(logits, dim=-1).cpu().detach().numpy()[0]\n",
    "    return pred"
   ]
  },
  {
   "cell_type": "code",
   "execution_count": 6,
   "metadata": {},
   "outputs": [],
   "source": [
    "preds = []\n",
    "for post in df.post:\n",
    "    preds.append(predict(post))"
   ]
  },
  {
   "cell_type": "code",
   "execution_count": 7,
   "metadata": {},
   "outputs": [],
   "source": [
    "preds_test = []\n",
    "for post in df_test.post:\n",
    "    preds_test.append(predict(post))"
   ]
  },
  {
   "cell_type": "code",
   "execution_count": 12,
   "metadata": {},
   "outputs": [
    {
     "data": {
      "text/html": [
       "<div>\n",
       "<style scoped>\n",
       "    .dataframe tbody tr th:only-of-type {\n",
       "        vertical-align: middle;\n",
       "    }\n",
       "\n",
       "    .dataframe tbody tr th {\n",
       "        vertical-align: top;\n",
       "    }\n",
       "\n",
       "    .dataframe thead th {\n",
       "        text-align: right;\n",
       "    }\n",
       "</style>\n",
       "<table border=\"1\" class=\"dataframe\">\n",
       "  <thead>\n",
       "    <tr style=\"text-align: right;\">\n",
       "      <th></th>\n",
       "      <th>post</th>\n",
       "      <th>gender</th>\n",
       "      <th>tokenized</th>\n",
       "      <th>pred</th>\n",
       "    </tr>\n",
       "  </thead>\n",
       "  <tbody>\n",
       "    <tr>\n",
       "      <th>0</th>\n",
       "      <td>Long time no see. Like always I was rewriting...</td>\n",
       "      <td>0</td>\n",
       "      <td>['long', 'time', 'see', 'like', 'always', 'rew...</td>\n",
       "      <td>0</td>\n",
       "    </tr>\n",
       "    <tr>\n",
       "      <th>1</th>\n",
       "      <td>Guest Demo: Eric Iverson’s Itty Bitty Search\\...</td>\n",
       "      <td>0</td>\n",
       "      <td>['guest', 'demo', 'eric', 'iverson', '’', 'itt...</td>\n",
       "      <td>0</td>\n",
       "    </tr>\n",
       "    <tr>\n",
       "      <th>2</th>\n",
       "      <td>Who moved my Cheese???   The world has been de...</td>\n",
       "      <td>0</td>\n",
       "      <td>['move', 'cheese', 'world', 'develop', 'area',...</td>\n",
       "      <td>0</td>\n",
       "    </tr>\n",
       "    <tr>\n",
       "      <th>3</th>\n",
       "      <td>Yesterday I attended a biweekly meeting of an...</td>\n",
       "      <td>0</td>\n",
       "      <td>['yesterday', 'attend', 'biweekly', 'meeting',...</td>\n",
       "      <td>0</td>\n",
       "    </tr>\n",
       "    <tr>\n",
       "      <th>4</th>\n",
       "      <td>Liam is nothing like Natalie. Natalie never w...</td>\n",
       "      <td>1</td>\n",
       "      <td>['liam', 'nothing', 'like', 'natalie', 'natali...</td>\n",
       "      <td>1</td>\n",
       "    </tr>\n",
       "    <tr>\n",
       "      <th>...</th>\n",
       "      <td>...</td>\n",
       "      <td>...</td>\n",
       "      <td>...</td>\n",
       "      <td>...</td>\n",
       "    </tr>\n",
       "    <tr>\n",
       "      <th>3213</th>\n",
       "      <td>It was a scavenger style race with checkpoints...</td>\n",
       "      <td>0</td>\n",
       "      <td>['scavenger', 'style', 'race', 'checkpoint', '...</td>\n",
       "      <td>0</td>\n",
       "    </tr>\n",
       "    <tr>\n",
       "      <th>3214</th>\n",
       "      <td>Finally! I got a full day's work done. Almost ...</td>\n",
       "      <td>1</td>\n",
       "      <td>['finally', 'get', 'full', 'day', 'work', 'do'...</td>\n",
       "      <td>1</td>\n",
       "    </tr>\n",
       "    <tr>\n",
       "      <th>3215</th>\n",
       "      <td>At the height of laughter, the universe is flu...</td>\n",
       "      <td>0</td>\n",
       "      <td>['height', 'laughter', 'universe', 'flung', 'k...</td>\n",
       "      <td>0</td>\n",
       "    </tr>\n",
       "    <tr>\n",
       "      <th>3216</th>\n",
       "      <td>I like birds, especially woodpeckers and MOST ...</td>\n",
       "      <td>0</td>\n",
       "      <td>['like', 'bird', 'especially', 'woodpecker', '...</td>\n",
       "      <td>0</td>\n",
       "    </tr>\n",
       "    <tr>\n",
       "      <th>3217</th>\n",
       "      <td>Oh friends, it's finally here! I thought the m...</td>\n",
       "      <td>1</td>\n",
       "      <td>['oh', 'friend', 'finally', 'think', 'month', ...</td>\n",
       "      <td>1</td>\n",
       "    </tr>\n",
       "  </tbody>\n",
       "</table>\n",
       "<p>3218 rows × 4 columns</p>\n",
       "</div>"
      ],
      "text/plain": [
       "                                                   post  gender  \\\n",
       "0      Long time no see. Like always I was rewriting...       0   \n",
       "1      Guest Demo: Eric Iverson’s Itty Bitty Search\\...       0   \n",
       "2     Who moved my Cheese???   The world has been de...       0   \n",
       "3      Yesterday I attended a biweekly meeting of an...       0   \n",
       "4      Liam is nothing like Natalie. Natalie never w...       1   \n",
       "...                                                 ...     ...   \n",
       "3213  It was a scavenger style race with checkpoints...       0   \n",
       "3214  Finally! I got a full day's work done. Almost ...       1   \n",
       "3215  At the height of laughter, the universe is flu...       0   \n",
       "3216  I like birds, especially woodpeckers and MOST ...       0   \n",
       "3217  Oh friends, it's finally here! I thought the m...       1   \n",
       "\n",
       "                                              tokenized  pred  \n",
       "0     ['long', 'time', 'see', 'like', 'always', 'rew...     0  \n",
       "1     ['guest', 'demo', 'eric', 'iverson', '’', 'itt...     0  \n",
       "2     ['move', 'cheese', 'world', 'develop', 'area',...     0  \n",
       "3     ['yesterday', 'attend', 'biweekly', 'meeting',...     0  \n",
       "4     ['liam', 'nothing', 'like', 'natalie', 'natali...     1  \n",
       "...                                                 ...   ...  \n",
       "3213  ['scavenger', 'style', 'race', 'checkpoint', '...     0  \n",
       "3214  ['finally', 'get', 'full', 'day', 'work', 'do'...     1  \n",
       "3215  ['height', 'laughter', 'universe', 'flung', 'k...     0  \n",
       "3216  ['like', 'bird', 'especially', 'woodpecker', '...     0  \n",
       "3217  ['oh', 'friend', 'finally', 'think', 'month', ...     1  \n",
       "\n",
       "[3218 rows x 4 columns]"
      ]
     },
     "execution_count": 12,
     "metadata": {},
     "output_type": "execute_result"
    }
   ],
   "source": [
    "df['pred'] = preds\n",
    "df_test['pred'] = preds_test\n",
    "df"
   ]
  },
  {
   "cell_type": "markdown",
   "metadata": {
    "id": "u-oQGQuMqK7k"
   },
   "source": [
    "Check distribution of post length"
   ]
  },
  {
   "cell_type": "code",
   "execution_count": 15,
   "metadata": {
    "colab": {
     "base_uri": "https://localhost:8080/"
    },
    "executionInfo": {
     "elapsed": 21,
     "status": "ok",
     "timestamp": 1645639290810,
     "user": {
      "displayName": "Lisa Spahn Lundgren",
      "photoUrl": "https://lh3.googleusercontent.com/a/default-user=s64",
      "userId": "13266833213640265739"
     },
     "user_tz": -60
    },
    "id": "7DFw5aIdqBPR",
    "outputId": "f30cc557-c89c-4200-ce2f-48a33ccfa0ba"
   },
   "outputs": [
    {
     "name": "stdout",
     "output_type": "stream",
     "text": [
      "Minimum post length: 11\n",
      "Maximum post length: 6148\n",
      "Average post length: 420.16376631448105\n",
      "Median:              194.0\n"
     ]
    }
   ],
   "source": [
    "post_lengths = df['post'].str.split().str.len()\n",
    "\n",
    "print(\"Minimum post length: \" + str(min(post_lengths)))\n",
    "print(\"Maximum post length: \" + str(max(post_lengths)))\n",
    "print(\"Average post length: \" + str(np.mean(post_lengths)))\n",
    "print(\"Median:              \" + str(np.median(post_lengths)))"
   ]
  },
  {
   "cell_type": "code",
   "execution_count": 16,
   "metadata": {},
   "outputs": [
    {
     "name": "stdout",
     "output_type": "stream",
     "text": [
      "Most frequent post length: 90\n"
     ]
    }
   ],
   "source": [
    "# most frequent post length\n",
    "counts = np.bincount(post_lengths)\n",
    "print(\"Most frequent post length: \" + str(np.argmax(counts)))"
   ]
  },
  {
   "cell_type": "code",
   "execution_count": 17,
   "metadata": {},
   "outputs": [
    {
     "data": {
      "image/png": "[encoded data removed]",
      "text/plain": [
       "<Figure size 792x576 with 1 Axes>"
      ]
     },
     "metadata": {},
     "output_type": "display_data"
    }
   ],
   "source": [
    "plt.figure(figsize=(11,8))\n",
    "plt.style.use('seaborn')\n",
    "plt.hist(post_lengths, bins=50)\n",
    "plt.title(\"Histogram of post lengths in nr. of words\")\n",
    "plt.show()"
   ]
  },
  {
   "cell_type": "code",
   "execution_count": 18,
   "metadata": {
    "colab": {
     "base_uri": "https://localhost:8080/",
     "height": 504
    },
    "executionInfo": {
     "elapsed": 972,
     "status": "ok",
     "timestamp": 1645639320173,
     "user": {
      "displayName": "Lisa Spahn Lundgren",
      "photoUrl": "https://lh3.googleusercontent.com/a/default-user=s64",
      "userId": "13266833213640265739"
     },
     "user_tz": -60
    },
    "id": "FKX23HV3rIRs",
    "outputId": "4912ff8f-88fc-467a-978b-9ffe430aac56"
   },
   "outputs": [
    {
     "data": {
      "image/png": "[encoded data removed]",
      "text/plain": [
       "<Figure size 792x576 with 1 Axes>"
      ]
     },
     "metadata": {},
     "output_type": "display_data"
    }
   ],
   "source": [
    "plt.figure(figsize=(11,8))\n",
    "plt.style.use('seaborn')\n",
    "plt.hist(post_lengths, bins=40, range=[0, 500])\n",
    "plt.title(\"Histogram of post lengths in nr. of words - smaller range\")\n",
    "plt.show()"
   ]
  },
  {
   "cell_type": "markdown",
   "metadata": {
    "id": "g6yC5-yYVs5x",
    "tags": []
   },
   "source": [
    "## Topic modeling"
   ]
  },
  {
   "cell_type": "code",
   "execution_count": 20,
   "metadata": {},
   "outputs": [],
   "source": [
    "from gensim.corpora import Dictionary\n",
    "from gensim.models import LdaModel\n",
    "\n",
    "# Create a dictionary representation of the documents.\n",
    "male_preds = df[df.pred == 0]\n",
    "dictionary = Dictionary(male_preds.tokenized)\n",
    "\n",
    "# Filter out words that occur less than 20 documents, or more than 50% of the documents.\n",
    "dictionary.filter_extremes(no_below=20, no_above=0.5)"
   ]
  },
  {
   "cell_type": "code",
   "execution_count": 21,
   "metadata": {},
   "outputs": [],
   "source": [
    "# Bag-of-words representation of the documents.\n",
    "corpus = [dictionary.doc2bow(doc) for doc in male_preds.tokenized]"
   ]
  },
  {
   "cell_type": "code",
   "execution_count": 22,
   "metadata": {},
   "outputs": [
    {
     "name": "stdout",
     "output_type": "stream",
     "text": [
      "Number of unique tokens: 2179\n",
      "Number of documents: 1673\n"
     ]
    }
   ],
   "source": [
    "print('Number of unique tokens: %d' % len(dictionary))\n",
    "print('Number of documents: %d' % len(corpus))"
   ]
  },
  {
   "cell_type": "code",
   "execution_count": 23,
   "metadata": {},
   "outputs": [],
   "source": [
    "import logging\n",
    "import re\n",
    "\n",
    "logging.basicConfig(filename='gensim.log', format='%(asctime)s:%(levelname)s:%(message)s', level=logging.INFO)\n",
    "\n",
    "def parse_logfile():\n",
    "    matcher = re.compile('(-*\\d+\\.\\d+) per-word .* (\\d+\\.\\d+) perplexity')\n",
    "    likelihoods = []\n",
    "    with open('gensim.log') as source:\n",
    "        for line in source:\n",
    "            match = matcher.search(line)\n",
    "            if match:\n",
    "                likelihoods.append(float(match.group(1)))\n",
    "    return likelihoods"
   ]
  },
  {
   "cell_type": "code",
   "execution_count": 24,
   "metadata": {},
   "outputs": [
    {
     "data": {
      "text/plain": [
       "[<matplotlib.lines.Line2D at 0x7fd77c131fd0>]"
      ]
     },
     "execution_count": 24,
     "metadata": {},
     "output_type": "execute_result"
    },
    {
     "data": {
      "image/png": "[encoded data removed]",
      "text/plain": [
       "<Figure size 432x288 with 1 Axes>"
      ]
     },
     "metadata": {
      "needs_background": "light"
     },
     "output_type": "display_data"
    }
   ],
   "source": [
    "# Set training parameters.\n",
    "num_topics = 5\n",
    "passes = 20\n",
    "\n",
    "# Make a index to word dictionary.\n",
    "temp = dictionary[0]  # This is only to \"load\" the dictionary.\n",
    "id2word = dictionary.id2token\n",
    "\n",
    "model = LdaModel(\n",
    "    corpus=corpus,\n",
    "    id2word=id2word,\n",
    "    alpha='auto',\n",
    "    eta='auto',\n",
    "    num_topics=num_topics,\n",
    "    passes=passes,\n",
    "    random_state=1\n",
    ")\n",
    "\n",
    "likelihoods = parse_logfile()\n",
    "plt.plot(list(range(len(likelihoods))), likelihoods)"
   ]
  },
  {
   "cell_type": "code",
   "execution_count": 25,
   "metadata": {},
   "outputs": [
    {
     "data": {
      "text/plain": [
       "[(0,\n",
       "  '0.011*\"game\" + 0.011*\"’\" + 0.009*\"get\" + 0.008*\"like\" + 0.008*\"see\" + 0.007*\"make\" + 0.007*\"go\" + 0.007*\"new\" + 0.007*\"film\" + 0.007*\"play\"'),\n",
       " (1,\n",
       "  '0.031*\"’\" + 0.013*\"“\" + 0.012*\"”\" + 0.008*\"say\" + 0.007*\"make\" + 0.006*\"new\" + 0.006*\"use\" + 0.005*\"would\" + 0.005*\"company\" + 0.005*\"year\"'),\n",
       " (2,\n",
       "  '0.010*\"get\" + 0.008*\"make\" + 0.008*\"use\" + 0.007*\"like\" + 0.007*\"look\" + 0.006*\"work\" + 0.006*\"see\" + 0.006*\"take\" + 0.006*\"time\" + 0.006*\"go\"'),\n",
       " (3,\n",
       "  '0.014*\"get\" + 0.013*\"go\" + 0.011*\"time\" + 0.011*\"like\" + 0.010*\"know\" + 0.010*\"say\" + 0.009*\"think\" + 0.008*\"u\" + 0.008*\"people\" + 0.008*\"day\"'),\n",
       " (4,\n",
       "  '0.009*\"blog\" + 0.009*\"year\" + 0.008*\"time\" + 0.008*\"2010\" + 0.007*\"book\" + 0.007*\"think\" + 0.007*\"like\" + 0.006*\"work\" + 0.006*\"say\" + 0.006*\"show\"')]"
      ]
     },
     "execution_count": 25,
     "metadata": {},
     "output_type": "execute_result"
    }
   ],
   "source": [
    "model.print_topics()"
   ]
  },
  {
   "cell_type": "code",
   "execution_count": 76,
   "metadata": {},
   "outputs": [],
   "source": [
    "# TODO: Enter code here to train an LDA model and store it in a variable `model`\n",
    "from gensim.models import LdaModel\n",
    "\n",
    "# Set training parameters.\n",
    "num_topics = 5\n",
    "passes = 10\n",
    "\n",
    "# Make a index to word dictionary.\n",
    "temp = dictionary[0]  # This is only to \"load\" the dictionary.\n",
    "id2word = dictionary.id2token\n",
    "\n",
    "model = LdaModel(\n",
    "    corpus=corpus,\n",
    "    id2word=id2word,\n",
    "    alpha='auto',\n",
    "    eta='auto',\n",
    "    num_topics=num_topics,\n",
    "    passes=passes,\n",
    "    random_state=1\n",
    ")\n",
    "\n",
    "model.print_topics()"
   ]
  }
 ],
 "metadata": {
  "colab": {
   "authorship_tag": "ABX9TyOSHOPFxucKTENnouGtUM/9",
   "collapsed_sections": [],
   "name": "preprocess.ipynb",
   "provenance": []
  },
  "kernelspec": {
   "display_name": "Python 3 (ipykernel)",
   "language": "python",
   "name": "python3"
  },
  "language_info": {
   "codemirror_mode": {
    "name": "ipython",
    "version": 3
   },
   "file_extension": ".py",
   "mimetype": "text/x-python",
   "name": "python",
   "nbconvert_exporter": "python",
   "pygments_lexer": "ipython3",
   "version": "3.9.7"
  }
 },
 "nbformat": 4,
 "nbformat_minor": 4
}
