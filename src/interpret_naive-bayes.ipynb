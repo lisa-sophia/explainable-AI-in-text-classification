{
 "cells": [
  {
   "cell_type": "code",
   "execution_count": 1,
   "metadata": {
    "colab": {
     "base_uri": "https://localhost:8080/"
    },
    "executionInfo": {
     "elapsed": 3002,
     "status": "ok",
     "timestamp": 1646828390581,
     "user": {
      "displayName": "Lisa Spahn Lundgren",
      "photoUrl": "https://lh3.googleusercontent.com/a/default-user=s64",
      "userId": "13266833213640265739"
     },
     "user_tz": -60
    },
    "id": "AawEopyLSAmU",
    "outputId": "c42dc7ce-9c84-434c-e649-666d4349d5e1"
   },
   "outputs": [
    {
     "data": {
      "text/html": [
       "<div>\n",
       "<style scoped>\n",
       "    .dataframe tbody tr th:only-of-type {\n",
       "        vertical-align: middle;\n",
       "    }\n",
       "\n",
       "    .dataframe tbody tr th {\n",
       "        vertical-align: top;\n",
       "    }\n",
       "\n",
       "    .dataframe thead th {\n",
       "        text-align: right;\n",
       "    }\n",
       "</style>\n",
       "<table border=\"1\" class=\"dataframe\">\n",
       "  <thead>\n",
       "    <tr style=\"text-align: right;\">\n",
       "      <th></th>\n",
       "      <th>post</th>\n",
       "      <th>gender</th>\n",
       "      <th>tokenized</th>\n",
       "      <th>cleaned</th>\n",
       "      <th>cluster</th>\n",
       "    </tr>\n",
       "  </thead>\n",
       "  <tbody>\n",
       "    <tr>\n",
       "      <th>0</th>\n",
       "      <td>What? No escape? I thought that I would be ab...</td>\n",
       "      <td>1</td>\n",
       "      <td>['escape', 'thought', 'would', 'able', 'get', ...</td>\n",
       "      <td>['escape', 'thought', 'able', 'need', 'hear', ...</td>\n",
       "      <td>7</td>\n",
       "    </tr>\n",
       "    <tr>\n",
       "      <th>1</th>\n",
       "      <td>And all I can say is Thank You, Thank You!!!  ...</td>\n",
       "      <td>1</td>\n",
       "      <td>['say', 'thank', 'thank', 'think', 'look', 'an...</td>\n",
       "      <td>['thank', 'thank', 'think', 'look', 'surgical'...</td>\n",
       "      <td>7</td>\n",
       "    </tr>\n",
       "    <tr>\n",
       "      <th>2</th>\n",
       "      <td>She is a very very sweet girl :)\\n\\nIts hardly...</td>\n",
       "      <td>1</td>\n",
       "      <td>['sweet', 'girl', 'hardly', '2', 'month', 'sin...</td>\n",
       "      <td>['sweet', 'girl', 'hardly', 'month', 'start', ...</td>\n",
       "      <td>5</td>\n",
       "    </tr>\n",
       "    <tr>\n",
       "      <th>3</th>\n",
       "      <td>I love what Brooke had to say about the event,...</td>\n",
       "      <td>1</td>\n",
       "      <td>['love', 'brooke', 'say', 'event', 'also', 'ti...</td>\n",
       "      <td>['love', 'brooke', 'event', 'tidbit', 'advice'...</td>\n",
       "      <td>2</td>\n",
       "    </tr>\n",
       "    <tr>\n",
       "      <th>4</th>\n",
       "      <td>I have some photos I've been meaning to post f...</td>\n",
       "      <td>1</td>\n",
       "      <td>['photo', 'ive', 'mean', 'post', 'david', 'rei...</td>\n",
       "      <td>['photo', 'mean', 'post', 'david', 'reid', 'lo...</td>\n",
       "      <td>2</td>\n",
       "    </tr>\n",
       "    <tr>\n",
       "      <th>...</th>\n",
       "      <td>...</td>\n",
       "      <td>...</td>\n",
       "      <td>...</td>\n",
       "      <td>...</td>\n",
       "      <td>...</td>\n",
       "    </tr>\n",
       "    <tr>\n",
       "      <th>2569</th>\n",
       "      <td>So, on my long run of the week I like to conte...</td>\n",
       "      <td>1</td>\n",
       "      <td>['long', 'run', 'week', 'like', 'contemplate',...</td>\n",
       "      <td>['long', 'run', 'week', 'like', 'contemplate',...</td>\n",
       "      <td>7</td>\n",
       "    </tr>\n",
       "    <tr>\n",
       "      <th>2570</th>\n",
       "      <td>Contact lenses require a certain degree of car...</td>\n",
       "      <td>0</td>\n",
       "      <td>['contact', 'lenses', 'require', 'certain', 'd...</td>\n",
       "      <td>['contact', 'lense', 'require', 'certain', 'de...</td>\n",
       "      <td>2</td>\n",
       "    </tr>\n",
       "    <tr>\n",
       "      <th>2571</th>\n",
       "      <td>I didn't start watching AD until way after the...</td>\n",
       "      <td>1</td>\n",
       "      <td>['didnt', 'start', 'watch', 'ad', 'way', 'show...</td>\n",
       "      <td>['start', 'watch', 'way', 'late', 'know', 'beg...</td>\n",
       "      <td>2</td>\n",
       "    </tr>\n",
       "    <tr>\n",
       "      <th>2572</th>\n",
       "      <td>At Creation Moments, Ian Taylor starts by aski...</td>\n",
       "      <td>0</td>\n",
       "      <td>['creation', 'moment', 'ian', 'taylor', 'start...</td>\n",
       "      <td>['creation', 'moment', 'ian', 'taylor', 'start...</td>\n",
       "      <td>7</td>\n",
       "    </tr>\n",
       "    <tr>\n",
       "      <th>2573</th>\n",
       "      <td>In all my years of reading horror comics I've ...</td>\n",
       "      <td>0</td>\n",
       "      <td>['year', 'read', 'horror', 'comic', 'ive', 'le...</td>\n",
       "      <td>['year', 'read', 'horror', 'comic', 'learn', '...</td>\n",
       "      <td>2</td>\n",
       "    </tr>\n",
       "  </tbody>\n",
       "</table>\n",
       "<p>2574 rows × 5 columns</p>\n",
       "</div>"
      ],
      "text/plain": [
       "                                                   post  gender  \\\n",
       "0      What? No escape? I thought that I would be ab...       1   \n",
       "1     And all I can say is Thank You, Thank You!!!  ...       1   \n",
       "2     She is a very very sweet girl :)\\n\\nIts hardly...       1   \n",
       "3     I love what Brooke had to say about the event,...       1   \n",
       "4     I have some photos I've been meaning to post f...       1   \n",
       "...                                                 ...     ...   \n",
       "2569  So, on my long run of the week I like to conte...       1   \n",
       "2570  Contact lenses require a certain degree of car...       0   \n",
       "2571  I didn't start watching AD until way after the...       1   \n",
       "2572  At Creation Moments, Ian Taylor starts by aski...       0   \n",
       "2573  In all my years of reading horror comics I've ...       0   \n",
       "\n",
       "                                              tokenized  \\\n",
       "0     ['escape', 'thought', 'would', 'able', 'get', ...   \n",
       "1     ['say', 'thank', 'thank', 'think', 'look', 'an...   \n",
       "2     ['sweet', 'girl', 'hardly', '2', 'month', 'sin...   \n",
       "3     ['love', 'brooke', 'say', 'event', 'also', 'ti...   \n",
       "4     ['photo', 'ive', 'mean', 'post', 'david', 'rei...   \n",
       "...                                                 ...   \n",
       "2569  ['long', 'run', 'week', 'like', 'contemplate',...   \n",
       "2570  ['contact', 'lenses', 'require', 'certain', 'd...   \n",
       "2571  ['didnt', 'start', 'watch', 'ad', 'way', 'show...   \n",
       "2572  ['creation', 'moment', 'ian', 'taylor', 'start...   \n",
       "2573  ['year', 'read', 'horror', 'comic', 'ive', 'le...   \n",
       "\n",
       "                                                cleaned  cluster  \n",
       "0     ['escape', 'thought', 'able', 'need', 'hear', ...        7  \n",
       "1     ['thank', 'thank', 'think', 'look', 'surgical'...        7  \n",
       "2     ['sweet', 'girl', 'hardly', 'month', 'start', ...        5  \n",
       "3     ['love', 'brooke', 'event', 'tidbit', 'advice'...        2  \n",
       "4     ['photo', 'mean', 'post', 'david', 'reid', 'lo...        2  \n",
       "...                                                 ...      ...  \n",
       "2569  ['long', 'run', 'week', 'like', 'contemplate',...        7  \n",
       "2570  ['contact', 'lense', 'require', 'certain', 'de...        2  \n",
       "2571  ['start', 'watch', 'way', 'late', 'know', 'beg...        2  \n",
       "2572  ['creation', 'moment', 'ian', 'taylor', 'start...        7  \n",
       "2573  ['year', 'read', 'horror', 'comic', 'learn', '...        2  \n",
       "\n",
       "[2574 rows x 5 columns]"
      ]
     },
     "execution_count": 1,
     "metadata": {},
     "output_type": "execute_result"
    }
   ],
   "source": [
    "import numpy as np\n",
    "import pandas as pd\n",
    "\n",
    "df_train = pd.read_csv(r'../data/train_tokenized.csv')\n",
    "df_test = pd.read_csv(r'../data/test_tokenized.csv')\n",
    "\n",
    "df_train"
   ]
  },
  {
   "cell_type": "markdown",
   "metadata": {
    "id": "xcVlZyj-diPW"
   },
   "source": [
    "### Load the model"
   ]
  },
  {
   "cell_type": "code",
   "execution_count": 2,
   "metadata": {
    "executionInfo": {
     "elapsed": 1826,
     "status": "ok",
     "timestamp": 1646828392397,
     "user": {
      "displayName": "Lisa Spahn Lundgren",
      "photoUrl": "https://lh3.googleusercontent.com/a/default-user=s64",
      "userId": "13266833213640265739"
     },
     "user_tz": -60
    },
    "id": "_oBPd3YNdjg0"
   },
   "outputs": [],
   "source": [
    "import pickle\n",
    "\n",
    "pipe = pickle.load(open('../models/NB_tfIdf.sav', 'rb')) # NB_countVec.sav"
   ]
  },
  {
   "cell_type": "code",
   "execution_count": 3,
   "metadata": {
    "colab": {
     "base_uri": "https://localhost:8080/"
    },
    "executionInfo": {
     "elapsed": 426,
     "status": "ok",
     "timestamp": 1646828392811,
     "user": {
      "displayName": "Lisa Spahn Lundgren",
      "photoUrl": "https://lh3.googleusercontent.com/a/default-user=s64",
      "userId": "13266833213640265739"
     },
     "user_tz": -60
    },
    "id": "oDLixL2cKUCQ",
    "outputId": "c5afeab9-079b-4655-83c4-894685f2f0fb"
   },
   "outputs": [
    {
     "data": {
      "text/plain": [
       "Pipeline(steps=[('vectorizer', TfidfVectorizer(ngram_range=(1, 2))),\n",
       "                ('naive', MultinomialNB(alpha=0.1))])"
      ]
     },
     "execution_count": 3,
     "metadata": {},
     "output_type": "execute_result"
    }
   ],
   "source": [
    "pipe"
   ]
  },
  {
   "cell_type": "code",
   "execution_count": 4,
   "metadata": {
    "executionInfo": {
     "elapsed": 14,
     "status": "ok",
     "timestamp": 1646828392813,
     "user": {
      "displayName": "Lisa Spahn Lundgren",
      "photoUrl": "https://lh3.googleusercontent.com/a/default-user=s64",
      "userId": "13266833213640265739"
     },
     "user_tz": -60
    },
    "id": "fahA2ZrIXKIc"
   },
   "outputs": [],
   "source": [
    "from sklearn.pipeline import Pipeline\n",
    "from sklearn.feature_extraction.text import TfidfVectorizer\n",
    "from sklearn.naive_bayes import MultinomialNB\n",
    "from sklearn.metrics import classification_report"
   ]
  },
  {
   "cell_type": "code",
   "execution_count": 5,
   "metadata": {
    "colab": {
     "base_uri": "https://localhost:8080/"
    },
    "executionInfo": {
     "elapsed": 2465,
     "status": "ok",
     "timestamp": 1646828395266,
     "user": {
      "displayName": "Lisa Spahn Lundgren",
      "photoUrl": "https://lh3.googleusercontent.com/a/default-user=s64",
      "userId": "13266833213640265739"
     },
     "user_tz": -60
    },
    "id": "UzScZQb0iSpj",
    "outputId": "e8f6b8ab-883f-435b-b1b9-fc69e6165298"
   },
   "outputs": [
    {
     "name": "stdout",
     "output_type": "stream",
     "text": [
      "              precision    recall  f1-score   support\n",
      "\n",
      "           0       0.73      0.69      0.71       335\n",
      "           1       0.68      0.73      0.71       309\n",
      "\n",
      "    accuracy                           0.71       644\n",
      "   macro avg       0.71      0.71      0.71       644\n",
      "weighted avg       0.71      0.71      0.71       644\n",
      "\n"
     ]
    }
   ],
   "source": [
    "pred = pipe.predict(df_test['tokenized'])\n",
    "print(classification_report(y_true=df_test['gender'], y_pred=pred))"
   ]
  },
  {
   "cell_type": "code",
   "execution_count": 6,
   "metadata": {
    "colab": {
     "base_uri": "https://localhost:8080/"
    },
    "executionInfo": {
     "elapsed": 363,
     "status": "ok",
     "timestamp": 1646828602167,
     "user": {
      "displayName": "Lisa Spahn Lundgren",
      "photoUrl": "https://lh3.googleusercontent.com/a/default-user=s64",
      "userId": "13266833213640265739"
     },
     "user_tz": -60
    },
    "id": "I9BufUQvnqsV",
    "outputId": "0dbe82c8-d98c-406f-f5c6-c3b5684ebe0d"
   },
   "outputs": [
    {
     "name": "stdout",
     "output_type": "stream",
     "text": [
      "Accuracy = 0.7080745341614907\n",
      "F1 score = 0.7081590074093822\n"
     ]
    }
   ],
   "source": [
    "from sklearn.metrics import accuracy_score, f1_score\n",
    "\n",
    "print(\"Accuracy = \" + str(accuracy_score(y_true=df_test['gender'], y_pred=pred)))\n",
    "print(\"F1 score = \" + str(f1_score(y_true=df_test['gender'], y_pred=pred, average='weighted')))"
   ]
  },
  {
   "cell_type": "code",
   "execution_count": 7,
   "metadata": {
    "colab": {
     "base_uri": "https://localhost:8080/",
     "height": 279
    },
    "executionInfo": {
     "elapsed": 623,
     "status": "ok",
     "timestamp": 1646828395876,
     "user": {
      "displayName": "Lisa Spahn Lundgren",
      "photoUrl": "https://lh3.googleusercontent.com/a/default-user=s64",
      "userId": "13266833213640265739"
     },
     "user_tz": -60
    },
    "id": "g1zQu_Vxo7Zz",
    "outputId": "71b97ab8-3066-4336-9707-c09ec8e7b5e1"
   },
   "outputs": [
    {
     "data": {
      "image/png": "[encoded data removed]",
      "text/plain": [
       "<Figure size 432x288 with 2 Axes>"
      ]
     },
     "metadata": {
      "needs_background": "light"
     },
     "output_type": "display_data"
    }
   ],
   "source": [
    "from sklearn.metrics import confusion_matrix, ConfusionMatrixDisplay\n",
    "import matplotlib.pyplot as plt\n",
    "\n",
    "cm = confusion_matrix(df_test['gender'], pred)\n",
    "disp = ConfusionMatrixDisplay(confusion_matrix=cm, display_labels=['male', 'female'])\n",
    "disp.plot()\n",
    "plt.grid(False)\n",
    "plt.show()"
   ]
  },
  {
   "cell_type": "markdown",
   "metadata": {
    "id": "cpPedVsufgrx"
   },
   "source": [
    "### Test on the exploration blog data -> better than 50/50, but not as good as model that was trained on the exploration blog data (got 69%)"
   ]
  },
  {
   "cell_type": "code",
   "execution_count": 8,
   "metadata": {
    "executionInfo": {
     "elapsed": 22339,
     "status": "ok",
     "timestamp": 1646828660497,
     "user": {
      "displayName": "Lisa Spahn Lundgren",
      "photoUrl": "https://lh3.googleusercontent.com/a/default-user=s64",
      "userId": "13266833213640265739"
     },
     "user_tz": -60
    },
    "id": "GZl91jLyeWW7"
   },
   "outputs": [],
   "source": [
    "#df_test2 = pd.read_csv(r'/content/drive/MyDrive/Colab Notebooks/gender_prediction/data/blogs_gender/test_tokenized.csv')\n",
    "df_test2 = pd.read_csv(r'../../exploration_blogs_gender/data/test_tokenized.csv') #or training data"
   ]
  },
  {
   "cell_type": "code",
   "execution_count": 9,
   "metadata": {},
   "outputs": [],
   "source": [
    "true2 = list(df_test2['gender'])\n",
    "\n",
    "for i in range(len(true2)):\n",
    "    if(true2[i] == 'male'):\n",
    "        true2[i] = 0\n",
    "    elif(true2[i] == 'female'):\n",
    "        true2[i] = 1"
   ]
  },
  {
   "cell_type": "code",
   "execution_count": 10,
   "metadata": {
    "colab": {
     "base_uri": "https://localhost:8080/"
    },
    "executionInfo": {
     "elapsed": 153472,
     "status": "ok",
     "timestamp": 1646829012346,
     "user": {
      "displayName": "Lisa Spahn Lundgren",
      "photoUrl": "https://lh3.googleusercontent.com/a/default-user=s64",
      "userId": "13266833213640265739"
     },
     "user_tz": -60
    },
    "id": "IuMMBSisen25",
    "outputId": "cdfc95a6-4919-4b09-8c73-bb8e1907f01a"
   },
   "outputs": [],
   "source": [
    "pred2 = pipe.predict(df_test2['tokenized'])"
   ]
  },
  {
   "cell_type": "code",
   "execution_count": 11,
   "metadata": {},
   "outputs": [
    {
     "name": "stdout",
     "output_type": "stream",
     "text": [
      "              precision    recall  f1-score   support\n",
      "\n",
      "           0       0.65      0.50      0.57     66093\n",
      "           1       0.58      0.72      0.64     63377\n",
      "\n",
      "    accuracy                           0.61    129470\n",
      "   macro avg       0.62      0.61      0.61    129470\n",
      "weighted avg       0.62      0.61      0.61    129470\n",
      "\n",
      "Accuracy = 0.6095852321001004\n",
      "F1 score = 0.6052007250700305\n"
     ]
    }
   ],
   "source": [
    "print(classification_report(y_true=true2, y_pred=pred2))\n",
    "\n",
    "print(\"Accuracy = \" + str(accuracy_score(y_true=true2, y_pred=pred2)))\n",
    "print(\"F1 score = \" + str(f1_score(y_true=true2, y_pred=pred2, average='weighted')))"
   ]
  },
  {
   "cell_type": "markdown",
   "metadata": {
    "id": "UrUl2xcSf24d"
   },
   "source": [
    "### Access the Naive Bayes model and try to interpret some predictions"
   ]
  },
  {
   "cell_type": "code",
   "execution_count": 8,
   "metadata": {
    "id": "hbFOc__6fGyC"
   },
   "outputs": [],
   "source": [
    "model = pipe['naive']\n",
    "vec = pipe['vectorizer']\n",
    "X = vec.transform(df_test.tokenized)"
   ]
  },
  {
   "cell_type": "code",
   "execution_count": 9,
   "metadata": {
    "colab": {
     "base_uri": "https://localhost:8080/"
    },
    "executionInfo": {
     "elapsed": 503,
     "status": "ok",
     "timestamp": 1646142156747,
     "user": {
      "displayName": "Lisa Spahn Lundgren",
      "photoUrl": "https://lh3.googleusercontent.com/a/default-user=s64",
      "userId": "13266833213640265739"
     },
     "user_tz": -60
    },
    "id": "scrA28cOt8XJ",
    "outputId": "c77f12c9-a5a2-4383-c4e4-ba1605554b52"
   },
   "outputs": [
    {
     "data": {
      "text/plain": [
       "array([0, 1])"
      ]
     },
     "execution_count": 9,
     "metadata": {},
     "output_type": "execute_result"
    }
   ],
   "source": [
    "model.classes_"
   ]
  },
  {
   "cell_type": "code",
   "execution_count": 10,
   "metadata": {
    "colab": {
     "base_uri": "https://localhost:8080/"
    },
    "executionInfo": {
     "elapsed": 207,
     "status": "ok",
     "timestamp": 1646138799290,
     "user": {
      "displayName": "Lisa Spahn Lundgren",
      "photoUrl": "https://lh3.googleusercontent.com/a/default-user=s64",
      "userId": "13266833213640265739"
     },
     "user_tz": -60
    },
    "id": "iFSbB6B8hI6C",
    "outputId": "45e9aa36-f74d-41db-a23a-f8524fb28810"
   },
   "outputs": [
    {
     "name": "stdout",
     "output_type": "stream",
     "text": [
      "[[0.31740621 0.68259379]\n",
      " [0.4031493  0.5968507 ]\n",
      " [0.97105652 0.02894348]\n",
      " ...\n",
      " [0.56595905 0.43404095]\n",
      " [0.45079087 0.54920913]\n",
      " [0.4211629  0.5788371 ]]\n"
     ]
    }
   ],
   "source": [
    "# this gives the probabilites / confidence that a sample belongs to class 0 (male) or class 1 (female) for each sample\n",
    "probs = model.predict_proba(X)\n",
    "print(probs)"
   ]
  },
  {
   "cell_type": "markdown",
   "metadata": {
    "id": "RVWF5Co_uZpp"
   },
   "source": [
    "Looking at prediction and prediction probabilities of some samples"
   ]
  },
  {
   "cell_type": "code",
   "execution_count": 11,
   "metadata": {
    "colab": {
     "base_uri": "https://localhost:8080/"
    },
    "executionInfo": {
     "elapsed": 215,
     "status": "ok",
     "timestamp": 1646142249095,
     "user": {
      "displayName": "Lisa Spahn Lundgren",
      "photoUrl": "https://lh3.googleusercontent.com/a/default-user=s64",
      "userId": "13266833213640265739"
     },
     "user_tz": -60
    },
    "id": "eqg9wksmigN7",
    "outputId": "6605444c-0c55-4d82-f737-9dd752505324"
   },
   "outputs": [
    {
     "name": "stdout",
     "output_type": "stream",
     "text": [
      "perfect epitome of demagogue ..jus too senitive..pat on her back n she yells as though we hit her wit iron for ..too moody n short tempered lik moi....n can pul her leg to any xtent n entertain urselves ...al teachers fond of her ..(hw come aish)...helpful... strng in concepts she noes..jus has too many fans....perfect lab partner..while away tym either trying most complicated concepts(which we doubt if we act thought ourselves) or jus yawning n blabbing utter crap n talking like imbecile ppl ..awesom teacher she can bcome..al d seminars taken til date impressive n increased her fan club....btw hw can i forget abt d jarring lunch box..sema attractive da...n neva opens..nice ting for u 2 play wit..n ya wat an ice cream lover..major hand in comleting entire family pack ise cream..n requires no company..\n",
      "['perfect', 'epitome', 'demagogue', 'jus', 'senitivepat', 'back', 'n', 'yell', 'though', 'hit', 'wit', 'iron', 'moody', 'n', 'short', 'temper', 'lik', 'moin', 'pul', 'leg', 'xtent', 'n', 'entertain', 'urselves', 'al', 'teacher', 'fond', 'hw', 'come', 'aishhelpful', 'strng', 'concept', 'noesjus', 'many', 'fansperfect', 'lab', 'partnerwhile', 'away', 'tym', 'either', 'try', 'complicate', 'conceptswhich', 'doubt', 'act', 'think', 'jus', 'yawn', 'n', 'blabbing', 'utter', 'crap', 'n', 'talk', 'like', 'imbecile', 'ppl', 'awesom', 'teacher', 'bcomeal', 'seminar', 'take', 'til', 'date', 'impressive', 'n', 'increase', 'fan', 'clubbtw', 'hw', 'forget', 'abt', 'jar', 'lunch', 'boxsema', 'attractive', 'dan', 'neva', 'opensnice', 'ting', 'u', '2', 'play', 'witn', 'ya', 'wat', 'ice', 'cream', 'lovermajor', 'hand', 'comleting', 'entire', 'family', 'pack', 'ise', 'creamn', 'require', 'company']\n",
      "1\n",
      "[1]\n",
      "[[0.31740621 0.68259379]]\n"
     ]
    }
   ],
   "source": [
    "sample_id = 0\n",
    "\n",
    "print(df_test.post[sample_id])\n",
    "print(df_test.tokenized[sample_id])\n",
    "print(df_test.gender[sample_id])\n",
    "\n",
    "print(model.predict(X[sample_id]))\n",
    "print(model.predict_proba(X[sample_id]))"
   ]
  },
  {
   "cell_type": "markdown",
   "metadata": {
    "id": "bw9Z6qr1ugxg"
   },
   "source": [
    "Store an array of all feature names, and the class probabilites for each feature"
   ]
  },
  {
   "cell_type": "code",
   "execution_count": 12,
   "metadata": {
    "id": "Y9DVsOiWnSIK"
   },
   "outputs": [],
   "source": [
    "feat_names = vec.get_feature_names_out()\n",
    "feat_probs = model.feature_log_prob_"
   ]
  },
  {
   "cell_type": "code",
   "execution_count": 13,
   "metadata": {
    "colab": {
     "base_uri": "https://localhost:8080/"
    },
    "executionInfo": {
     "elapsed": 224,
     "status": "ok",
     "timestamp": 1646140652361,
     "user": {
      "displayName": "Lisa Spahn Lundgren",
      "photoUrl": "https://lh3.googleusercontent.com/a/default-user=s64",
      "userId": "13266833213640265739"
     },
     "user_tz": -60
    },
    "id": "OhVCDwoUnwmi",
    "outputId": "ac01ece7-77df-4f80-d22a-a85448d1c1a6"
   },
   "outputs": [
    {
     "name": "stdout",
     "output_type": "stream",
     "text": [
      "(474488,)\n",
      "(2, 474488)\n"
     ]
    }
   ],
   "source": [
    "print(feat_names.shape) # array of length nr. of features\n",
    "print(feat_probs.shape) # matrix of size (nr. of classes, nr. of features)"
   ]
  },
  {
   "cell_type": "code",
   "execution_count": 14,
   "metadata": {
    "colab": {
     "base_uri": "https://localhost:8080/"
    },
    "executionInfo": {
     "elapsed": 319,
     "status": "ok",
     "timestamp": 1646141048046,
     "user": {
      "displayName": "Lisa Spahn Lundgren",
      "photoUrl": "https://lh3.googleusercontent.com/a/default-user=s64",
      "userId": "13266833213640265739"
     },
     "user_tz": -60
    },
    "id": "_z8TpiVWoQrv",
    "outputId": "0017f46d-147d-4c6f-a10b-dc82fcacd6b9"
   },
   "outputs": [
    {
     "name": "stdout",
     "output_type": "stream",
     "text": [
      "abundant type\n",
      "[-13.40250362 -13.19505264]\n"
     ]
    }
   ],
   "source": [
    "# print the name and class probabilities of one feature\n",
    "idx = 10000\n",
    "print(feat_names[idx])\n",
    "print(feat_probs[:,idx])"
   ]
  },
  {
   "cell_type": "code",
   "execution_count": 15,
   "metadata": {
    "id": "XQFlKz8conVg"
   },
   "outputs": [],
   "source": [
    "max_diff = 0\n",
    "max_idx = 0\n",
    "for i in range(feat_probs.shape[1]):\n",
    "  diff = np.abs(feat_probs[0,i] - feat_probs[1,i])\n",
    "  if(diff > max_diff):\n",
    "    max_diff = diff\n",
    "    max_idx = i"
   ]
  },
  {
   "cell_type": "code",
   "execution_count": 16,
   "metadata": {
    "colab": {
     "base_uri": "https://localhost:8080/"
    },
    "executionInfo": {
     "elapsed": 204,
     "status": "ok",
     "timestamp": 1646141788853,
     "user": {
      "displayName": "Lisa Spahn Lundgren",
      "photoUrl": "https://lh3.googleusercontent.com/a/default-user=s64",
      "userId": "13266833213640265739"
     },
     "user_tz": -60
    },
    "id": "Ikb-KIbhsc8z",
    "outputId": "13e2b386-68bb-48e8-a8e5-3fb4831debf3"
   },
   "outputs": [
    {
     "name": "stdout",
     "output_type": "stream",
     "text": [
      "427940\n",
      "3.2215934654899883\n",
      "topps\n",
      "[-10.16022984 -13.3818233 ]\n"
     ]
    }
   ],
   "source": [
    "print(max_idx)\n",
    "print(max_diff)\n",
    "print(feat_names[max_idx])\n",
    "print(feat_probs[:,max_idx])"
   ]
  },
  {
   "cell_type": "markdown",
   "metadata": {
    "id": "Ui1C9dI5wQf6"
   },
   "source": [
    "### Now: take a data sample, get the feature indices and then look at the class probabilities for the features"
   ]
  },
  {
   "cell_type": "code",
   "execution_count": 17,
   "metadata": {
    "colab": {
     "base_uri": "https://localhost:8080/"
    },
    "executionInfo": {
     "elapsed": 524,
     "status": "ok",
     "timestamp": 1646149334780,
     "user": {
      "displayName": "Lisa Spahn Lundgren",
      "photoUrl": "https://lh3.googleusercontent.com/a/default-user=s64",
      "userId": "13266833213640265739"
     },
     "user_tz": -60
    },
    "id": "x5kh3YGCwelh",
    "outputId": "0fdc7db2-d03f-4795-f9c9-a8e389cad81a"
   },
   "outputs": [
    {
     "name": "stdout",
     "output_type": "stream",
     "text": [
      "perfect epitome of demagogue ..jus too senitive..pat on her back n she yells as though we hit her wit iron for ..too moody n short tempered lik moi....n can pul her leg to any xtent n entertain urselves ...al teachers fond of her ..(hw come aish)...helpful... strng in concepts she noes..jus has too many fans....perfect lab partner..while away tym either trying most complicated concepts(which we doubt if we act thought ourselves) or jus yawning n blabbing utter crap n talking like imbecile ppl ..awesom teacher she can bcome..al d seminars taken til date impressive n increased her fan club....btw hw can i forget abt d jarring lunch box..sema attractive da...n neva opens..nice ting for u 2 play wit..n ya wat an ice cream lover..major hand in comleting entire family pack ise cream..n requires no company..\n",
      "['perfect', 'epitome', 'demagogue', 'jus', 'senitivepat', 'back', 'n', 'yell', 'though', 'hit', 'wit', 'iron', 'moody', 'n', 'short', 'temper', 'lik', 'moin', 'pul', 'leg', 'xtent', 'n', 'entertain', 'urselves', 'al', 'teacher', 'fond', 'hw', 'come', 'aishhelpful', 'strng', 'concept', 'noesjus', 'many', 'fansperfect', 'lab', 'partnerwhile', 'away', 'tym', 'either', 'try', 'complicate', 'conceptswhich', 'doubt', 'act', 'think', 'jus', 'yawn', 'n', 'blabbing', 'utter', 'crap', 'n', 'talk', 'like', 'imbecile', 'ppl', 'awesom', 'teacher', 'bcomeal', 'seminar', 'take', 'til', 'date', 'impressive', 'n', 'increase', 'fan', 'clubbtw', 'hw', 'forget', 'abt', 'jar', 'lunch', 'boxsema', 'attractive', 'dan', 'neva', 'opensnice', 'ting', 'u', '2', 'play', 'witn', 'ya', 'wat', 'ice', 'cream', 'lovermajor', 'hand', 'comleting', 'entire', 'family', 'pack', 'ise', 'creamn', 'require', 'company']\n",
      "1\n",
      "[0.31740621 0.68259379]\n"
     ]
    }
   ],
   "source": [
    "from scipy.sparse.csc import csc_matrix\n",
    "\n",
    "# probably requires some back-and-forth from the vectorizer outputs (that have indices???) to the feature names?\n",
    "i = 0\n",
    "print(df_test.post[i])\n",
    "print(df_test.tokenized[i])\n",
    "print(df_test.gender[i]) # 0 = male, 1 = female\n",
    "print(probs[0]) # probability that text is male (18%) vs. female (82%)"
   ]
  },
  {
   "cell_type": "code",
   "execution_count": 18,
   "metadata": {
    "colab": {
     "base_uri": "https://localhost:8080/"
    },
    "executionInfo": {
     "elapsed": 210,
     "status": "ok",
     "timestamp": 1646149520941,
     "user": {
      "displayName": "Lisa Spahn Lundgren",
      "photoUrl": "https://lh3.googleusercontent.com/a/default-user=s64",
      "userId": "13266833213640265739"
     },
     "user_tz": -60
    },
    "id": "286vkT8cIqda",
    "outputId": "598f685f-df0a-42a9-cb63-bc838b4e6f34"
   },
   "outputs": [
    {
     "name": "stdout",
     "output_type": "stream",
     "text": [
      "['yell', 'yawn', 'ya', 'xtent', 'wit', 'wat', 'utter crap', 'utter', 'tym', 'try complicate', 'try', 'ting', 'til date', 'til', 'though', 'think', 'temper', 'teacher', 'talk like', 'talk', 'take', 'short temper', 'short', 'seminar', 'require', 'pul', 'ppl', 'play', 'perfect', 'pack', 'neva', 'moody', 'many', 'lunch', 'like', 'lik', 'leg', 'lab', 'jus', 'jar', 'iron', 'increase', 'impressive', 'ice cream', 'ice', 'hw', 'hit', 'hand', 'forget', 'fond', 'fan', 'family pack', 'family', 'epitome', 'entire family', 'entire', 'entertain', 'either', 'doubt', 'demagogue', 'date', 'dan', 'cream', 'crap', 'concept', 'complicate', 'company', 'come', 'back yell', 'back', 'away', 'attractive', 'al', 'act think', 'act', 'abt']\n",
      "[-11.322978565173466, -12.761248992401494, -10.959628032212944, -12.800393028194799, -11.059937008250394, -10.753176355022259, -12.90519271857975, -12.224739681278002, -12.368405022781781, -13.381823304860278, -8.987920738871617, -12.778405469475794, -12.754542459580767, -11.542469796218027, -9.446683016012734, -8.400277340481452, -11.743411562585846, -10.165456300974023, -11.933169471153084, -9.320666192401218, -8.532986463325194, -12.60251180550242, -9.967675394694272, -12.629607244306793, -10.917843931794588, -13.286398706343908, -11.065710055129841, -9.535268742122852, -10.244704303527518, -10.548472216137021, -12.501005514964664, -12.94409681347593, -8.95826184479671, -9.377720338562558, -8.214058188955565, -11.901307197457271, -10.948429962844187, -11.462192242748808, -11.242513670723186, -11.697257427861407, -11.229483401492313, -10.728159355020527, -11.71574156997426, -11.791181141214459, -10.899229184053034, -12.279745223258026, -10.087889074986755, -9.67231778600565, -10.170002286272695, -12.361954982702287, -10.286442355991404, -13.381823304860278, -9.177184761060062, -12.341089723250569, -12.402525078230077, -10.587464278776137, -11.766032101037474, -10.34476334930622, -10.85081021834304, -13.381823304860278, -10.085029549583052, -12.528158313696634, -10.812976248439487, -10.997818082564043, -11.497340754014907, -11.802114155851376, -10.05122161040159, -8.674906981558511, -13.242600254970933, -8.756343816348792, -9.464406065619372, -11.913631723232028, -11.137668552358305, -13.381823304860278, -10.735554734090412, -10.296776937355048]\n",
      "[-11.662037871578049, -12.914821172466082, -11.346266885122347, -13.402503616661924, -11.20303185583588, -10.832037478022842, -13.402503616661924, -11.743052249238202, -13.402503616661924, -13.260963271340074, -9.05886630174584, -13.402503616661924, -13.402503616661924, -12.689169629144184, -9.480605604999978, -8.568072796423538, -11.815711136589565, -10.308280254480746, -12.853376359815872, -9.30112770436989, -8.62640460024403, -12.452758268986324, -10.09240948196141, -11.802481670315538, -10.371732466710787, -13.402503616661924, -11.139646018898192, -9.261665026354969, -10.315970100222012, -10.206241718494374, -12.77613430058397, -12.235353890360575, -8.999928757288574, -11.58424985650736, -8.335273134475958, -11.656292796607204, -11.142979678764945, -11.121900653295318, -11.300911404692092, -12.323393286353408, -12.246116077882045, -10.599147450525965, -11.22879246312066, -13.34233655511651, -10.41899145474384, -12.790972914901904, -9.95704990906788, -9.746127458976424, -10.399219072579342, -12.105348404932608, -9.910797773578755, -12.38790189864325, -9.75574009172395, -11.95886648512594, -13.402503616661924, -10.343052170159654, -11.543921223687281, -10.042025378639929, -10.948643862466819, -12.763352785709564, -10.416820823616732, -11.572560986775324, -11.998135973958721, -11.185134432673706, -10.764603223900936, -11.34787734280432, -9.442774880817895, -8.778205457859109, -13.402503616661924, -8.849226473384809, -9.638459503621554, -11.246549915631437, -11.458457576159688, -13.261705672371262, -10.201281696692122, -10.458279020640312]\n"
     ]
    }
   ],
   "source": [
    "features = []\n",
    "female_prob = []\n",
    "male_prob = []\n",
    "feat_idxs = X[i].nonzero()[1]\n",
    "\n",
    "for f in feat_idxs:\n",
    "  features.append(feat_names[f])\n",
    "  female_prob.append(feat_probs[1,f])\n",
    "  male_prob.append(feat_probs[0,f])\n",
    "\n",
    "print(features)\n",
    "print(female_prob)\n",
    "print(male_prob)"
   ]
  },
  {
   "cell_type": "code",
   "execution_count": 19,
   "metadata": {
    "colab": {
     "base_uri": "https://localhost:8080/",
     "height": 265
    },
    "executionInfo": {
     "elapsed": 948,
     "status": "ok",
     "timestamp": 1646150115086,
     "user": {
      "displayName": "Lisa Spahn Lundgren",
      "photoUrl": "https://lh3.googleusercontent.com/a/default-user=s64",
      "userId": "13266833213640265739"
     },
     "user_tz": -60
    },
    "id": "38YCkNqg94dE",
    "outputId": "2f03c61d-313c-4da7-a30b-3fe64a16118c"
   },
   "outputs": [
    {
     "data": {
      "image/png": "[encoded data removed]",
      "text/plain": [
       "<Figure size 432x288 with 1 Axes>"
      ]
     },
     "metadata": {
      "needs_background": "light"
     },
     "output_type": "display_data"
    }
   ],
   "source": [
    "plt.plot(female_prob, label=\"female\")\n",
    "plt.plot(male_prob, label=\"male\")\n",
    "plt.ylabel('Feature log prob')\n",
    "plt.legend()\n",
    "plt.show()"
   ]
  },
  {
   "cell_type": "code",
   "execution_count": 20,
   "metadata": {
    "id": "g-3nNF6kVyp-"
   },
   "outputs": [],
   "source": [
    "# Maybe it could be interesting here to then investigate the features that were very different? So where the two lines have the biggest gap?"
   ]
  },
  {
   "cell_type": "markdown",
   "metadata": {
    "id": "9mW0vs6zOsxa"
   },
   "source": [
    "### Global interpretation"
   ]
  },
  {
   "cell_type": "code",
   "execution_count": 21,
   "metadata": {
    "colab": {
     "base_uri": "https://localhost:8080/",
     "height": 424
    },
    "executionInfo": {
     "elapsed": 643,
     "status": "ok",
     "timestamp": 1646152034784,
     "user": {
      "displayName": "Lisa Spahn Lundgren",
      "photoUrl": "https://lh3.googleusercontent.com/a/default-user=s64",
      "userId": "13266833213640265739"
     },
     "user_tz": -60
    },
    "id": "v-ZtoorZOu0q",
    "outputId": "4d8afc67-805a-4f73-868f-1b53b4015291"
   },
   "outputs": [
    {
     "data": {
      "text/html": [
       "<div>\n",
       "<style scoped>\n",
       "    .dataframe tbody tr th:only-of-type {\n",
       "        vertical-align: middle;\n",
       "    }\n",
       "\n",
       "    .dataframe tbody tr th {\n",
       "        vertical-align: top;\n",
       "    }\n",
       "\n",
       "    .dataframe thead th {\n",
       "        text-align: right;\n",
       "    }\n",
       "</style>\n",
       "<table border=\"1\" class=\"dataframe\">\n",
       "  <thead>\n",
       "    <tr style=\"text-align: right;\">\n",
       "      <th></th>\n",
       "      <th>feature</th>\n",
       "      <th>female</th>\n",
       "      <th>male</th>\n",
       "      <th>diff</th>\n",
       "    </tr>\n",
       "  </thead>\n",
       "  <tbody>\n",
       "    <tr>\n",
       "      <th>0</th>\n",
       "      <td>00</td>\n",
       "      <td>-13.262946</td>\n",
       "      <td>-13.058440</td>\n",
       "      <td>0.204507</td>\n",
       "    </tr>\n",
       "    <tr>\n",
       "      <th>1</th>\n",
       "      <td>00 httpifitshipitshereblogspotcomfeedspostsdef...</td>\n",
       "      <td>-13.252596</td>\n",
       "      <td>-13.402504</td>\n",
       "      <td>-0.149907</td>\n",
       "    </tr>\n",
       "    <tr>\n",
       "      <th>2</th>\n",
       "      <td>00 northeast10</td>\n",
       "      <td>-13.381823</td>\n",
       "      <td>-13.141407</td>\n",
       "      <td>0.240416</td>\n",
       "    </tr>\n",
       "    <tr>\n",
       "      <th>3</th>\n",
       "      <td>00 oft</td>\n",
       "      <td>-13.381823</td>\n",
       "      <td>-13.262363</td>\n",
       "      <td>0.119461</td>\n",
       "    </tr>\n",
       "    <tr>\n",
       "      <th>4</th>\n",
       "      <td>000</td>\n",
       "      <td>-13.381823</td>\n",
       "      <td>-13.171364</td>\n",
       "      <td>0.210459</td>\n",
       "    </tr>\n",
       "    <tr>\n",
       "      <th>...</th>\n",
       "      <td>...</td>\n",
       "      <td>...</td>\n",
       "      <td>...</td>\n",
       "      <td>...</td>\n",
       "    </tr>\n",
       "    <tr>\n",
       "      <th>474483</th>\n",
       "      <td>ℓιƒє яαтнєя</td>\n",
       "      <td>-13.381823</td>\n",
       "      <td>-12.818585</td>\n",
       "      <td>0.563239</td>\n",
       "    </tr>\n",
       "    <tr>\n",
       "      <th>474484</th>\n",
       "      <td>ℓινє</td>\n",
       "      <td>-13.381823</td>\n",
       "      <td>-12.818585</td>\n",
       "      <td>0.563239</td>\n",
       "    </tr>\n",
       "    <tr>\n",
       "      <th>474485</th>\n",
       "      <td>ℓινє ωιтнσυт</td>\n",
       "      <td>-13.381823</td>\n",
       "      <td>-12.818585</td>\n",
       "      <td>0.563239</td>\n",
       "    </tr>\n",
       "    <tr>\n",
       "      <th>474486</th>\n",
       "      <td>不好意思</td>\n",
       "      <td>-13.224400</td>\n",
       "      <td>-13.402504</td>\n",
       "      <td>-0.178104</td>\n",
       "    </tr>\n",
       "    <tr>\n",
       "      <th>474487</th>\n",
       "      <td>不好意思 bu</td>\n",
       "      <td>-13.224400</td>\n",
       "      <td>-13.402504</td>\n",
       "      <td>-0.178104</td>\n",
       "    </tr>\n",
       "  </tbody>\n",
       "</table>\n",
       "<p>474488 rows × 4 columns</p>\n",
       "</div>"
      ],
      "text/plain": [
       "                                                  feature     female  \\\n",
       "0                                                      00 -13.262946   \n",
       "1       00 httpifitshipitshereblogspotcomfeedspostsdef... -13.252596   \n",
       "2                                          00 northeast10 -13.381823   \n",
       "3                                                  00 oft -13.381823   \n",
       "4                                                     000 -13.381823   \n",
       "...                                                   ...        ...   \n",
       "474483                                        ℓιƒє яαтнєя -13.381823   \n",
       "474484                                               ℓινє -13.381823   \n",
       "474485                                       ℓινє ωιтнσυт -13.381823   \n",
       "474486                                               不好意思 -13.224400   \n",
       "474487                                            不好意思 bu -13.224400   \n",
       "\n",
       "             male      diff  \n",
       "0      -13.058440  0.204507  \n",
       "1      -13.402504 -0.149907  \n",
       "2      -13.141407  0.240416  \n",
       "3      -13.262363  0.119461  \n",
       "4      -13.171364  0.210459  \n",
       "...           ...       ...  \n",
       "474483 -12.818585  0.563239  \n",
       "474484 -12.818585  0.563239  \n",
       "474485 -12.818585  0.563239  \n",
       "474486 -13.402504 -0.178104  \n",
       "474487 -13.402504 -0.178104  \n",
       "\n",
       "[474488 rows x 4 columns]"
      ]
     },
     "execution_count": 21,
     "metadata": {},
     "output_type": "execute_result"
    }
   ],
   "source": [
    "feature_df = pd.DataFrame(columns=['feature', 'female', 'male', 'diff'])\n",
    "\n",
    "feature_df['feature'] = feat_names\n",
    "feature_df['female'] = feat_probs[1,:]\n",
    "feature_df['male'] = feat_probs[0,:]\n",
    "feature_df['diff'] = np.abs(feat_probs[1,:]) - np.abs(feat_probs[0,:])\n",
    "\n",
    "feature_df"
   ]
  },
  {
   "cell_type": "markdown",
   "metadata": {
    "id": "CaSOpxj9QInd"
   },
   "source": [
    "Top features that indicate male vs. female authors"
   ]
  },
  {
   "cell_type": "code",
   "execution_count": 22,
   "metadata": {
    "id": "rC2bJz2-TSa6"
   },
   "outputs": [],
   "source": [
    "N_FEAT = 50"
   ]
  },
  {
   "cell_type": "code",
   "execution_count": 23,
   "metadata": {
    "colab": {
     "base_uri": "https://localhost:8080/"
    },
    "executionInfo": {
     "elapsed": 9,
     "status": "ok",
     "timestamp": 1646152242567,
     "user": {
      "displayName": "Lisa Spahn Lundgren",
      "photoUrl": "https://lh3.googleusercontent.com/a/default-user=s64",
      "userId": "13266833213640265739"
     },
     "user_tz": -60
    },
    "id": "SN1OWvajQHJu",
    "outputId": "8c1d6a20-bed4-452d-f6fc-6fb6eedfb3f1"
   },
   "outputs": [
    {
     "name": "stdout",
     "output_type": "stream",
     "text": [
      "       feature    female      male      diff\n",
      "170658     get -8.027635 -8.204677 -0.177042\n",
      "175042      go -8.112798 -8.308025 -0.195227\n",
      "292287     one -8.135924 -8.179783 -0.043858\n",
      "423278    time -8.197339 -8.312463 -0.115124\n",
      "203834      im -8.208267 -8.728324 -0.520057\n",
      "\n",
      "['get', 'go', 'one', 'time', 'im', 'make', 'like', 'know', 'day', 'think', 'love', 'would', 'say', 'really', 'year', 'take', 'want', 'thing', 'well', 'see', 'work', 'dont', 'people', 'life', 'come', 'good', 'new', 'even', 'little', 'way', 'look', 'back', 'much', 'friend', 'school', 'feel', 'week', 'also', 'ive', 'use', 'never', 'need', 'first', 'could', 'last', 'give', 'start', 'find', 'always', 'many']\n"
     ]
    }
   ],
   "source": [
    "top_female = feature_df.sort_values(by=['female'], ascending=False).iloc[:N_FEAT]\n",
    "print(top_female.head())\n",
    "print(\"\")\n",
    "print(list(top_female.feature))"
   ]
  },
  {
   "cell_type": "code",
   "execution_count": 24,
   "metadata": {
    "colab": {
     "base_uri": "https://localhost:8080/"
    },
    "executionInfo": {
     "elapsed": 222,
     "status": "ok",
     "timestamp": 1646152242785,
     "user": {
      "displayName": "Lisa Spahn Lundgren",
      "photoUrl": "https://lh3.googleusercontent.com/a/default-user=s64",
      "userId": "13266833213640265739"
     },
     "user_tz": -60
    },
    "id": "Wk4cnL8WRK1Q",
    "outputId": "359ebff3-9c7f-4785-f79f-ca0baa0ff6bf"
   },
   "outputs": [
    {
     "name": "stdout",
     "output_type": "stream",
     "text": [
      "       feature    female      male      diff\n",
      "292287     one -8.135924 -8.179783 -0.043858\n",
      "170658     get -8.027635 -8.204677 -0.177042\n",
      "175042      go -8.112798 -8.308025 -0.195227\n",
      "423278    time -8.197339 -8.312463 -0.115124\n",
      "237565    like -8.214058 -8.335273 -0.121215\n",
      "\n",
      "['one', 'get', 'go', 'time', 'like', 'make', 'say', 'know', 'would', 'think', 'people', 'thing', 'year', 'good', 'see', 'take', 'work', 'use', 'day', 'new', 'well', 'want', 'im', 'first', 'come', 'look', 'find', 'way', 'also', 'back', 'need', 'much', 'even', 'life', 'game', 'give', 'dont', 'really', 'start', 'great', 'last', 'could', 'many', 'two', 'show', 'try', 'write', 'friend', 'something', 'guy']\n"
     ]
    }
   ],
   "source": [
    "top_male = feature_df.sort_values(by=['male'], ascending=False).iloc[:N_FEAT]\n",
    "print(top_male.head())\n",
    "print(\"\")\n",
    "print(list(top_male.feature))"
   ]
  },
  {
   "cell_type": "markdown",
   "metadata": {
    "id": "1ebmodoHU-Ih"
   },
   "source": [
    "The two previous lists share many words (very common words), so let's rather see which features have the greatest gap / probability difference. I.e., which features are more likely to belong to only class than the other"
   ]
  },
  {
   "cell_type": "code",
   "execution_count": 25,
   "metadata": {
    "colab": {
     "base_uri": "https://localhost:8080/"
    },
    "executionInfo": {
     "elapsed": 300,
     "status": "ok",
     "timestamp": 1646152243082,
     "user": {
      "displayName": "Lisa Spahn Lundgren",
      "photoUrl": "https://lh3.googleusercontent.com/a/default-user=s64",
      "userId": "13266833213640265739"
     },
     "user_tz": -60
    },
    "id": "bkdXV2PMSBUE",
    "outputId": "684eff31-a11c-4335-cc29-a6bff0fb99be"
   },
   "outputs": [
    {
     "name": "stdout",
     "output_type": "stream",
     "text": [
      "             feature     female       male      diff\n",
      "361512  school lunch -10.182725 -13.402504 -3.219779\n",
      "356689       sahuayo -10.624469 -13.402504 -2.778035\n",
      "194976          hive -10.959205 -13.402504 -2.443299\n",
      "371695        sharon -10.867790 -13.305953 -2.438163\n",
      "230780        lavada -11.010381 -13.402504 -2.392123\n",
      "\n",
      "['school lunch', 'sahuayo', 'hive', 'sharon', 'lavada', 'alzheimers', 'mascara', 'eyeshadow', 'jacob', 'wedding', 'egg', 'lunch', 'straightener', 'etsy', 'sudan', 'guinea pig', 'hatch', 'botox', 'nui', 'cupcake', 'randa', 'darfur', 'patty', 'straighten', 'kid love', 'selfish', 'rapa nui', 'rapa', 'mr man', 'coral', 'fabulous', 'hubby', 'bubby', 'jet blue', 'salud', 'kusina', 'kusina salud', 'disney cruise', 'nbspi', 'start blog', 'kindergarten', 'mum', 'planner', 'quilt', 'edal', 'yellowstone', 'cdo', 'garlic', 'absolutely love', 'spring break']\n"
     ]
    }
   ],
   "source": [
    "most_likely_female = feature_df.sort_values(by=['diff'], ascending=True).iloc[:N_FEAT]\n",
    "print(most_likely_female.head())\n",
    "print(\"\")\n",
    "print(list(most_likely_female.feature))"
   ]
  },
  {
   "cell_type": "code",
   "execution_count": 26,
   "metadata": {
    "colab": {
     "base_uri": "https://localhost:8080/"
    },
    "executionInfo": {
     "elapsed": 6,
     "status": "ok",
     "timestamp": 1646152243083,
     "user": {
      "displayName": "Lisa Spahn Lundgren",
      "photoUrl": "https://lh3.googleusercontent.com/a/default-user=s64",
      "userId": "13266833213640265739"
     },
     "user_tz": -60
    },
    "id": "YrZRAbQsS3DQ",
    "outputId": "f25d89f7-58db-478a-9b73-f7e49c663044"
   },
   "outputs": [
    {
     "name": "stdout",
     "output_type": "stream",
     "text": [
      "        feature     female       male      diff\n",
      "427940    topps -13.381823 -10.160230  3.221593\n",
      "80792   cluster -13.381823 -10.704264  2.677560\n",
      "367387   senate -13.269266 -10.695302  2.573964\n",
      "258933   mccain -13.381823 -10.855620  2.526203\n",
      "114587     digg -13.381823 -10.857506  2.524317\n",
      "\n",
      "['topps', 'cluster', 'senate', 'mccain', 'digg', 'mcgriff', 'metroid', 'raines', 'kosovo', 'baseball card', 'liverpool', 'nbc', 'ipad', 'directx', 'wii', 'cricket', 'sticker', 'broadband', 'xbox', 'mario', 'ipl', 'python', 'separation', 'mets', 'fred', 'spine', 'drillard', 'legal separation', 'formal legal', 'therizinosaurus', 'thirdparty', 'kombu', 'therizinosaurs', 'obama', 'mccullum', 'parody', 'ironpython', 'user', 'nuclear', 'goalie', 'serbia', 'bishkek', 'unemployed', 'fred mcgriff', 'frnds', 'super mario', 'john mccain', 'woodpecker', 'arsenal', 'sensor']\n"
     ]
    }
   ],
   "source": [
    "most_likely_male = feature_df.sort_values(by=['diff'], ascending=False).iloc[:N_FEAT]\n",
    "print(most_likely_male.head())\n",
    "print(\"\")\n",
    "print(list(most_likely_male.feature))"
   ]
  }
 ],
 "metadata": {
  "colab": {
   "authorship_tag": "ABX9TyP2STEDLmPko0yQjkavfyWW",
   "collapsed_sections": [],
   "name": "interpret_naive-bayes.ipynb",
   "provenance": []
  },
  "kernelspec": {
   "display_name": "Python 3 (ipykernel)",
   "language": "python",
   "name": "python3"
  },
  "language_info": {
   "codemirror_mode": {
    "name": "ipython",
    "version": 3
   },
   "file_extension": ".py",
   "mimetype": "text/x-python",
   "name": "python",
   "nbconvert_exporter": "python",
   "pygments_lexer": "ipython3",
   "version": "3.9.7"
  }
 },
 "nbformat": 4,
 "nbformat_minor": 4
}
