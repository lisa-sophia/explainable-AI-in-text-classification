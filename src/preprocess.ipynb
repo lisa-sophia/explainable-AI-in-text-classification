{
 "cells": [
  {
   "cell_type": "code",
   "execution_count": 12,
   "metadata": {
    "executionInfo": {
     "elapsed": 8,
     "status": "ok",
     "timestamp": 1645639287395,
     "user": {
      "displayName": "Lisa Spahn Lundgren",
      "photoUrl": "https://lh3.googleusercontent.com/a/default-user=s64",
      "userId": "13266833213640265739"
     },
     "user_tz": -60
    },
    "id": "V_TMtAtbrVXr"
   },
   "outputs": [],
   "source": [
    "import numpy as np\n",
    "import pandas as pd"
   ]
  },
  {
   "cell_type": "code",
   "execution_count": 13,
   "metadata": {
    "colab": {
     "base_uri": "https://localhost:8080/",
     "height": 424
    },
    "executionInfo": {
     "elapsed": 2062,
     "status": "ok",
     "timestamp": 1645639289450,
     "user": {
      "displayName": "Lisa Spahn Lundgren",
      "photoUrl": "https://lh3.googleusercontent.com/a/default-user=s64",
      "userId": "13266833213640265739"
     },
     "user_tz": -60
    },
    "id": "MUHUkvxbwRGd",
    "outputId": "7026c6eb-59fe-4cf4-dafb-2040d2463bab"
   },
   "outputs": [
    {
     "data": {
      "text/html": [
       "<div>\n",
       "<style scoped>\n",
       "    .dataframe tbody tr th:only-of-type {\n",
       "        vertical-align: middle;\n",
       "    }\n",
       "\n",
       "    .dataframe tbody tr th {\n",
       "        vertical-align: top;\n",
       "    }\n",
       "\n",
       "    .dataframe thead th {\n",
       "        text-align: right;\n",
       "    }\n",
       "</style>\n",
       "<table border=\"1\" class=\"dataframe\">\n",
       "  <thead>\n",
       "    <tr style=\"text-align: right;\">\n",
       "      <th></th>\n",
       "      <th>post</th>\n",
       "      <th>gender</th>\n",
       "    </tr>\n",
       "  </thead>\n",
       "  <tbody>\n",
       "    <tr>\n",
       "      <th>0</th>\n",
       "      <td>Long time no see. Like always I was rewriting...</td>\n",
       "      <td>M</td>\n",
       "    </tr>\n",
       "    <tr>\n",
       "      <th>1</th>\n",
       "      <td>Guest Demo: Eric Iverson’s Itty Bitty Search\\...</td>\n",
       "      <td>M</td>\n",
       "    </tr>\n",
       "    <tr>\n",
       "      <th>2</th>\n",
       "      <td>Who moved my Cheese???   The world has been de...</td>\n",
       "      <td>M</td>\n",
       "    </tr>\n",
       "    <tr>\n",
       "      <th>3</th>\n",
       "      <td>Yesterday I attended a biweekly meeting of an...</td>\n",
       "      <td>M</td>\n",
       "    </tr>\n",
       "    <tr>\n",
       "      <th>4</th>\n",
       "      <td>Liam is nothing like Natalie. Natalie never w...</td>\n",
       "      <td>F</td>\n",
       "    </tr>\n",
       "    <tr>\n",
       "      <th>...</th>\n",
       "      <td>...</td>\n",
       "      <td>...</td>\n",
       "    </tr>\n",
       "    <tr>\n",
       "      <th>3227</th>\n",
       "      <td>It was a scavenger style race with checkpoints...</td>\n",
       "      <td>M</td>\n",
       "    </tr>\n",
       "    <tr>\n",
       "      <th>3228</th>\n",
       "      <td>Finally! I got a full day's work done. Almost ...</td>\n",
       "      <td>F</td>\n",
       "    </tr>\n",
       "    <tr>\n",
       "      <th>3229</th>\n",
       "      <td>At the height of laughter, the universe is flu...</td>\n",
       "      <td>M</td>\n",
       "    </tr>\n",
       "    <tr>\n",
       "      <th>3230</th>\n",
       "      <td>I like birds, especially woodpeckers and MOST ...</td>\n",
       "      <td>M</td>\n",
       "    </tr>\n",
       "    <tr>\n",
       "      <th>3231</th>\n",
       "      <td>Oh friends, it's finally here! I thought the m...</td>\n",
       "      <td>F</td>\n",
       "    </tr>\n",
       "  </tbody>\n",
       "</table>\n",
       "<p>3232 rows × 2 columns</p>\n",
       "</div>"
      ],
      "text/plain": [
       "                                                   post gender\n",
       "0      Long time no see. Like always I was rewriting...      M\n",
       "1      Guest Demo: Eric Iverson’s Itty Bitty Search\\...      M\n",
       "2     Who moved my Cheese???   The world has been de...      M\n",
       "3      Yesterday I attended a biweekly meeting of an...      M\n",
       "4      Liam is nothing like Natalie. Natalie never w...      F\n",
       "...                                                 ...    ...\n",
       "3227  It was a scavenger style race with checkpoints...      M\n",
       "3228  Finally! I got a full day's work done. Almost ...      F\n",
       "3229  At the height of laughter, the universe is flu...      M\n",
       "3230  I like birds, especially woodpeckers and MOST ...      M\n",
       "3231  Oh friends, it's finally here! I thought the m...      F\n",
       "\n",
       "[3232 rows x 2 columns]"
      ]
     },
     "execution_count": 13,
     "metadata": {},
     "output_type": "execute_result"
    }
   ],
   "source": [
    "excel_file = '../data/blog-gender-dataset.xlsx'\n",
    "\n",
    "df = pd.read_excel(excel_file, usecols=\"A:B\", header=None, names=['post', 'gender'], dtype={'post': str, 'gender': str})  \n",
    "df"
   ]
  },
  {
   "cell_type": "code",
   "execution_count": 14,
   "metadata": {
    "colab": {
     "base_uri": "https://localhost:8080/"
    },
    "executionInfo": {
     "elapsed": 34,
     "status": "ok",
     "timestamp": 1645639289452,
     "user": {
      "displayName": "Lisa Spahn Lundgren",
      "photoUrl": "https://lh3.googleusercontent.com/a/default-user=s64",
      "userId": "13266833213640265739"
     },
     "user_tz": -60
    },
    "id": "K4ntUQh7E_gs",
    "outputId": "6d477fac-261b-43f7-b58b-0e4b14988010"
   },
   "outputs": [
    {
     "name": "stdout",
     "output_type": "stream",
     "text": [
      "['M' 'F' nan ' M' ' F' 'F ' ' M ' 'm' 'f']\n"
     ]
    }
   ],
   "source": [
    "print(df.gender.unique())"
   ]
  },
  {
   "cell_type": "code",
   "execution_count": 15,
   "metadata": {},
   "outputs": [
    {
     "name": "stdout",
     "output_type": "stream",
     "text": [
      "M      1547\n",
      "F      1390\n",
      " F      153\n",
      " M      126\n",
      "m         5\n",
      "f         4\n",
      "F         1\n",
      " M        1\n",
      "Name: gender, dtype: int64\n"
     ]
    }
   ],
   "source": [
    "print(df['gender'].value_counts())"
   ]
  },
  {
   "cell_type": "markdown",
   "metadata": {
    "id": "AMiuv96BQp21"
   },
   "source": [
    "### Delete rows that contain NaN data "
   ]
  },
  {
   "cell_type": "code",
   "execution_count": 16,
   "metadata": {
    "colab": {
     "base_uri": "https://localhost:8080/",
     "height": 597
    },
    "executionInfo": {
     "elapsed": 26,
     "status": "ok",
     "timestamp": 1645639289453,
     "user": {
      "displayName": "Lisa Spahn Lundgren",
      "photoUrl": "https://lh3.googleusercontent.com/a/default-user=s64",
      "userId": "13266833213640265739"
     },
     "user_tz": -60
    },
    "id": "RkcuKR90QtXw",
    "outputId": "f607824d-0542-4dd3-a34a-c07165a66ec5"
   },
   "outputs": [
    {
     "name": "stdout",
     "output_type": "stream",
     "text": [
      "     post gender\n",
      "142   NaN    NaN\n",
      "999   NaN    NaN\n",
      "1010  NaN    NaN\n",
      "1024  NaN    NaN\n",
      "1471  NaN    NaN\n",
      "1521  NaN      M\n",
      "Empty DataFrame\n",
      "Columns: [post, gender]\n",
      "Index: []\n"
     ]
    },
    {
     "data": {
      "text/html": [
       "<div>\n",
       "<style scoped>\n",
       "    .dataframe tbody tr th:only-of-type {\n",
       "        vertical-align: middle;\n",
       "    }\n",
       "\n",
       "    .dataframe tbody tr th {\n",
       "        vertical-align: top;\n",
       "    }\n",
       "\n",
       "    .dataframe thead th {\n",
       "        text-align: right;\n",
       "    }\n",
       "</style>\n",
       "<table border=\"1\" class=\"dataframe\">\n",
       "  <thead>\n",
       "    <tr style=\"text-align: right;\">\n",
       "      <th></th>\n",
       "      <th>post</th>\n",
       "      <th>gender</th>\n",
       "    </tr>\n",
       "  </thead>\n",
       "  <tbody>\n",
       "    <tr>\n",
       "      <th>0</th>\n",
       "      <td>Long time no see. Like always I was rewriting...</td>\n",
       "      <td>M</td>\n",
       "    </tr>\n",
       "    <tr>\n",
       "      <th>1</th>\n",
       "      <td>Guest Demo: Eric Iverson’s Itty Bitty Search\\...</td>\n",
       "      <td>M</td>\n",
       "    </tr>\n",
       "    <tr>\n",
       "      <th>2</th>\n",
       "      <td>Who moved my Cheese???   The world has been de...</td>\n",
       "      <td>M</td>\n",
       "    </tr>\n",
       "    <tr>\n",
       "      <th>3</th>\n",
       "      <td>Yesterday I attended a biweekly meeting of an...</td>\n",
       "      <td>M</td>\n",
       "    </tr>\n",
       "    <tr>\n",
       "      <th>4</th>\n",
       "      <td>Liam is nothing like Natalie. Natalie never w...</td>\n",
       "      <td>F</td>\n",
       "    </tr>\n",
       "    <tr>\n",
       "      <th>...</th>\n",
       "      <td>...</td>\n",
       "      <td>...</td>\n",
       "    </tr>\n",
       "    <tr>\n",
       "      <th>3227</th>\n",
       "      <td>It was a scavenger style race with checkpoints...</td>\n",
       "      <td>M</td>\n",
       "    </tr>\n",
       "    <tr>\n",
       "      <th>3228</th>\n",
       "      <td>Finally! I got a full day's work done. Almost ...</td>\n",
       "      <td>F</td>\n",
       "    </tr>\n",
       "    <tr>\n",
       "      <th>3229</th>\n",
       "      <td>At the height of laughter, the universe is flu...</td>\n",
       "      <td>M</td>\n",
       "    </tr>\n",
       "    <tr>\n",
       "      <th>3230</th>\n",
       "      <td>I like birds, especially woodpeckers and MOST ...</td>\n",
       "      <td>M</td>\n",
       "    </tr>\n",
       "    <tr>\n",
       "      <th>3231</th>\n",
       "      <td>Oh friends, it's finally here! I thought the m...</td>\n",
       "      <td>F</td>\n",
       "    </tr>\n",
       "  </tbody>\n",
       "</table>\n",
       "<p>3226 rows × 2 columns</p>\n",
       "</div>"
      ],
      "text/plain": [
       "                                                   post gender\n",
       "0      Long time no see. Like always I was rewriting...      M\n",
       "1      Guest Demo: Eric Iverson’s Itty Bitty Search\\...      M\n",
       "2     Who moved my Cheese???   The world has been de...      M\n",
       "3      Yesterday I attended a biweekly meeting of an...      M\n",
       "4      Liam is nothing like Natalie. Natalie never w...      F\n",
       "...                                                 ...    ...\n",
       "3227  It was a scavenger style race with checkpoints...      M\n",
       "3228  Finally! I got a full day's work done. Almost ...      F\n",
       "3229  At the height of laughter, the universe is flu...      M\n",
       "3230  I like birds, especially woodpeckers and MOST ...      M\n",
       "3231  Oh friends, it's finally here! I thought the m...      F\n",
       "\n",
       "[3226 rows x 2 columns]"
      ]
     },
     "execution_count": 16,
     "metadata": {},
     "output_type": "execute_result"
    }
   ],
   "source": [
    "print(df[df['post'].isna()])\n",
    "indices = df[df['post'].isna()].index.sort_values(ascending=False)\n",
    "for i in indices:\n",
    "  df.drop(index=i, inplace=True)\n",
    "\n",
    "print(df[df['post'].isna()])\n",
    "df"
   ]
  },
  {
   "cell_type": "markdown",
   "metadata": {
    "id": "seDoAFPDR3r1"
   },
   "source": [
    "### Next standardize gender labels to 0 for male and 1 for female"
   ]
  },
  {
   "cell_type": "code",
   "execution_count": 17,
   "metadata": {
    "executionInfo": {
     "elapsed": 930,
     "status": "ok",
     "timestamp": 1645639290367,
     "user": {
      "displayName": "Lisa Spahn Lundgren",
      "photoUrl": "https://lh3.googleusercontent.com/a/default-user=s64",
      "userId": "13266833213640265739"
     },
     "user_tz": -60
    },
    "id": "bEFw1AMQSMXf"
   },
   "outputs": [],
   "source": [
    "for i in range(len(df)):\n",
    "  if 'm' in df.iloc[i].gender.lower():\n",
    "    df.iloc[i].gender = 0\n",
    "  elif 'f' in df.iloc[i].gender.lower():\n",
    "    df.iloc[i].gender = 1"
   ]
  },
  {
   "cell_type": "code",
   "execution_count": 18,
   "metadata": {
    "colab": {
     "base_uri": "https://localhost:8080/"
    },
    "executionInfo": {
     "elapsed": 25,
     "status": "ok",
     "timestamp": 1645639290372,
     "user": {
      "displayName": "Lisa Spahn Lundgren",
      "photoUrl": "https://lh3.googleusercontent.com/a/default-user=s64",
      "userId": "13266833213640265739"
     },
     "user_tz": -60
    },
    "id": "nQiohWA3ROQg",
    "outputId": "d3c69d0c-93a5-4dbc-a12d-f230517fe5e6"
   },
   "outputs": [
    {
     "name": "stdout",
     "output_type": "stream",
     "text": [
      "[0 1]\n"
     ]
    }
   ],
   "source": [
    "print(df.gender.unique())"
   ]
  },
  {
   "cell_type": "markdown",
   "metadata": {},
   "source": [
    "### Check language of the posts -> we only want English texts"
   ]
  },
  {
   "cell_type": "code",
   "execution_count": 19,
   "metadata": {},
   "outputs": [
    {
     "data": {
      "text/plain": [
       "<spacy_langdetect.spacy_langdetect.LanguageDetector at 0x7f990f9b7d60>"
      ]
     },
     "execution_count": 19,
     "metadata": {},
     "output_type": "execute_result"
    }
   ],
   "source": [
    "import spacy\n",
    "from spacy.language import Language\n",
    "from spacy_langdetect import LanguageDetector\n",
    "\n",
    "nlp = spacy.load('en_core_web_sm')\n",
    "\n",
    "def get_lang_detector(nlp, name):\n",
    "    return LanguageDetector()\n",
    "\n",
    "Language.factory('language_detector', func=get_lang_detector)\n",
    "nlp.add_pipe('language_detector', last=True)"
   ]
  },
  {
   "cell_type": "code",
   "execution_count": 20,
   "metadata": {},
   "outputs": [
    {
     "name": "stdout",
     "output_type": "stream",
     "text": [
      "[997, 1018, 1244, 1299, 1444, 2698, 2761]\n"
     ]
    }
   ],
   "source": [
    "indices = []\n",
    "language = []\n",
    "for i in range(len(df.post)):\n",
    "    doc = nlp(df.iloc[i].post)\n",
    "    detected_language = doc._.language\n",
    "    if not detected_language['language'] == 'en':\n",
    "        indices.append(i)\n",
    "        language.append(detected_language)\n",
    "    if detected_language['language'] == 'en' and detected_language['score'] < 0.9:\n",
    "        indices.append(i)\n",
    "        language.append(detected_language)\n",
    "        \n",
    "print(indices)"
   ]
  },
  {
   "cell_type": "code",
   "execution_count": 21,
   "metadata": {},
   "outputs": [
    {
     "name": "stdout",
     "output_type": "stream",
     "text": [
      "{'language': 'el', 'score': 0.85714159497372}\n",
      "тнσѕє ωнσ ραѕѕιση мυѕι¢ ¢αηησт ℓινє ωιтнσυт ιт.. мυѕι¢ ιѕ α ∂яυg, αη α∂∂ι¢тιση. тσ ѕσмє мυѕι¢ мαу נυѕт вє тнє вєѕт ρσѕѕιвℓє ѕσℓυтιση ƒяσм яєℓιєνιηg тєηѕιση, ѕтяєѕѕ αη∂ σтнєя ∂ιƒƒι¢υℓтιєѕ ιη ℓιƒє - яαтнєя α ѕιмρℓє ωαу σƒ яєℓαχαтιση σƒ мιη∂, вσ∂у αη∂ ѕσυℓ. σтнєяѕ мαу ѕσℓєℓу ƒιη∂ ιт ƒσя єηтєятαιηмєηт ρυяρσѕєѕ. нαя∂ яσ¢к мυѕι¢ тσ кєєρ тнєм αℓινє αη∂ ιη нуρєя α¢тινє мσσ∂. \n",
      "\n",
      "{'language': 'fr', 'score': 0.9999962341851854}\n",
      "best friend ,,\n",
      "simple ,quiet ,smart,jovial,etc.....................................................\n",
      "just complete in saying him\"mr.computer\"................................................... \n",
      "\n",
      "{'language': 'id', 'score': 0.9999976608180978}\n",
      " Ada apa dengan pelayar web Opera 10.50? Hmm.. Opera kini muncul dengan versi stabil dan memperkenalkan beberapa fungsi yang baru. Antara fungsi yang baru pada pelayar web ini adalah sokongan HTML5 dan CSS3. Opera 10.50 dikatakan sebagai pelayar web terpantas di dunia pada masa kini kerana menggunakan enjin Javascript yang baru iaitu Carakan . Buat masa ini pelayar web Opera 10.50 hanya sedia untuk dimuat-turun oleh para pengguna Windows sahaja. Bagi pengguna Mac dan Linux terpaksalah tunggu dulu. Download pelayar web Opera 10.50 sekarang dan cuba korang bandingkan dengan Chrome dan Mozilla.. p/s: setakat nih aku Chrome masih jadi web browser yang paling aku suka~ Mozilla Firefox pulak slalu crash kat pc aku..:( Aku baru perasan yang google chrome nih ade task manager. Very cool! Kalo nak tengok task manager google chrome gunakan kombinasi Shift + Esc untuk windows..kalo OS lain aku xpasti~ stat for nerd? hehe.. Microsoft baru sahaja melancarkan Windows Phone 7 Series hari nih. In this video, NVIDIA speaks to scientists at Temple University who are using GPUs to model \"surfactants\". Surfactants are biological agents that attach themselves to dirt, make it mix with water and determine the cleaning capacity and texture of shampoos, laundry detergents, and many other cleaning products. Cheapest super computer in the world!! Dibina oleh seorang professor di Jepun menggunakan komponen komputer biasa yang senang didapati dari kedai komputer. Orang malaysia bila lagi nak wat menda camnih? hehe.. Aku baru jer test Google Chrome OS dalam virtual box ku..puas hati, sebab selama nih aku asyik dengar je pasal OS nih tapi xpernah ada kesempatan mencubanya.Ini merupakan screenshoot yang ku ambil semalam...klik pada image untuk gambar yg lebih besar. Anda baru sahaja install Ubuntu di dalam PC anda. Tetapi kemudian anda menyedari, di mana kah root password anda? Bagaimana hendak log in sebagai root? Misteri yang menyelebungi kebanyakan pengguna baru-adakah anda tidak set password root semasa mula2 proses installation? The root user - atau lebih dikenali sebagai superuser adalah pengguna Ubuntu dan Unix yang mempunyai kuasa administrator penuh (full access) terhadap sistem operasi. Pengguna biasa tidak di galakkan menggunakan root semasa melakukan arahan biasa kerana sebarang kesilapan command boleh merosakkan sistem. Ubuntu dan root password. Secara default, akaun root telah dikunci di dalam Ubuntu. Anda tidak boleh login sebagai root atau menggunakan command su - untuk menjadi superuser. Jadi untuk melaksanakan sebarang arahan anda mestilah menggunakan arahan sudo. Tips: Jika malas untuk menaip sudo pada setiap kali untuk melaksanakan command, gunakan command di bawah. $ sudo -i Arahan di atas akan mengaktifkan /bin/bash sebagai root shell. Jadi anda boleh menggunakan arahan tanpa memerlukan arahan sudo. How do I login as root user? Buka terminal dan taipkan arahan seperti dibawah $ sudo bash ataupun $ sudo -s masukkan password anda dan anda boleh menjadi root user! \n",
      "\n",
      "{'language': 'pt', 'score': 0.9999954258526125}\n",
      " Sair para comer a dois é uma aventura que eu rezo(não que eu seja religioso) para que a tortura termine. Não vou ser hipócrita aqui, na verdade eu quero mesmo é pular essa parte e ir para a cama. Todos nós homens somos canalhas em potencial mesmo! Clique nas tiras para melhor visalização: Via DogHouse Diaries - Blind Dates Eu fujo de encontros às cegas. Geralmente um colega convida para sair com duas garotas, e a que sobra para mim é o horror! Via DogHouse Diaries - Splitting the check Eu sempre espero que ela divida a conta. É saudável para ambos os bolsos!!! Especialmente para o meu... Via DogHouse Diaries - Training Day Isso já aconteceu... Sempre acontece comigo. E eu não consigo desviar o olhar. Simplesmente não dá. Este artigo pertence ao Crazyseawolf's Blog . Plágio é crime e está previsto no artigo 184 do Código Penal. Jon arranja um bigode falso e quem faz a festa é o Garfield. E quem sofre? Jon e Odie naturalmente. As tiras abaixo foram publicadas em 1983, de 14/03 a 20/03. Divirta-se! Leia outras tiras do Garfield Obs.: As tiras aqui postadas são tiradas direto do Garfield Desktop Background , que vocês podem baixar nesse link . Este artigo pertence ao Crazyseawolf's Blog . Plágio é crime e está previsto no artigo 184 do Código Penal. Não queria que esse fosse o primeiro post com o novo template, mas sinceramente ontem eu não tinha muito a dizer, tamanho era a tristeza e o ódio que eu estava sentindo ao ver as notícias do começo do dia. A violência gratuita, o desprezo total a vida humana parece que não diminui. A cada dia novos detentores desse ódio nascem, e eles podem vir de qualquer classe social. Basta ter uma arma na mão, invocar Deus ou o Diabo, e cometer seus crimes hediondos. O assassinato do cartunista Glauco e de seu filho é a bola da vez. Quem será o próximo? Até quando a nossa sociedade vai permitir passivamente esses acontecimentos? Até quando nossos governantes tomarão consciência e fazerem o que deve ser feito? Alguma coisa tem que ser feita. Deve-se começar na base que é a Educação, para não ter que construir prisões e mais prisões no futuro. O gasto que se tem com esses infratores poderia ser redirecionado para outras áreas. O preso na cadeia deveria trabalhar pesado para conseguir o que comer. Mas infelizmente, os baluartes e defensores dos Direitos Humanos os tratam como se fossem coitadinhos, como se tirar a vida de um semelhante fosse apenas um mero detalhe. Não vou aqui discutir o fato do Glauco ser um pastor ou de que seu assassino clama ser Jesus (minha visão sobre religião e Deus já é bem conhecida), mas sim, discutir o homem, o profissional que ele foi, uma carreira que num ponto a minha vida eu quis seguir. Tive a oportunidade de conhecê-lo numa dessas convenções de quadrinhos ou prêmios do HQMix, durante os anos 90, e pude perceber a pessoa que ele representava apenas com um aperto de mão. Você conhece se a pessoa é boa ou má olhando em seus olhos e nas suas expressões faciais. Sua morte ao lado do filho, mostra que o ser humano é obscuro, maldoso e mesquinho. Um acontecimento desse abala a todos. Ontem, na Devir, podia se ver a tristeza das pessoas que trabalham na área, aquele sentimento de insegurança de algo que pode acontecer para qualquer um, basta haver a oportunidade, já que esses assassinos estão à nossa volta. Fica aqui a minha revolta e a minha homenagem ao profissional que se foi, mas que continua vivo em seus cartoons e tiras de quadrinhos eternizados tanto na mídia impressa quanto na digital. Dona Marta Geraldão Link para o vídeo Você está deixando a gente com saudades, Glauco! 1957-2010 Fonte das imagens: Google Este artigo pertence ao Crazyseawolf's Blog . Plágio é crime e está previsto no artigo 184 do Código Penal. E com vocês, mais 10 crazy links interessantes embalados pelo CSS3 ( No IEca não irá funcionar... ): 10 Erros que Você Deve Evitar em Seu Site - O Fim da Várzea (Leia os conselhos do Mestre!) A Física não explica como recuperar o leite derramado - Luz de Luma (Explica sim, o que acontece é que a entropia do sistema aumentou!) Incrementando o seu blog - Profissão Jornalista (Todos nósamamos o Blogger!!!) A diferença entre o correto e o justo - Portal Meira (É correto ser justo ou é justo ser correto?) Confira o vídeo clipe de lady Gaga e Beyoncè em \"Telephone\" - In Commun Séries (Dois pedaços de mau caminho... Queria tanto ter as duas só para mim!) International Women's Day - O Legal da Web (A minha contribuição está lá!!!) Converta arquivos de vídeo e grave em DVD - Usuário Compulsivo (Dica da musa Juliana Sardinha no Compulsivo) Paternalismo - Mundiota (Esse é um dos males do nosso país, difícil de mudar!) O fim do domínio masculino - Lino Resende (As mulheres estão tomando o poder!!! Vai que é sua Dilma!!!) Blogger in Draft: Novidades na troca de layouts! - Sem Preceito (Um tutorial arrasador desse menino prodígio da nossa blogosfera da nova ferramenta do Blogger in Draft ! CHUPA WORDPRESS!!! ) Ver Crazy Links anteriores. Este artigo pertence ao Crazyseawolf's Blog . Plágio é crime e está previsto no artigo 184 do Código Penal. Nessa semana dedicada às mulheres, não poderia faltar aqui, justamente nesta sexta, piadas sobre as mulheres. Portanto, meninas, divirtam-se e não me joguem pedras! Um homem e uma mulher, após uma noite num barzinho, resolvem ir para a casa dele para ficarem mais a vontade... Uma dose aqui, uma outra dose ali e a mulher resolve tomar a iniciativa dizendo, com voz melosa: - Me faz mulher!!!..... O homem, então, diante do olhar sedento da mulher, tira a roupa vagarosamente . Uma vez com suas roupas na mão, ele diz para ela: - Tome! vá lavá-las! Duas amigas se reencontram depois de muito tempo. - Olá, quanto tempo… Como é que vai? - Vou bem. E você? - Vou indo. Como vai seu marido? - Você não soube? Ele morreu faz dois meses. - Ah, eu não sabia! Que horror! - É, um horror… - Mas o que foi que aconteceu? - Foi de repente. Pedi pra ele ir comprar açúcar no supermercado, aí veio um ônibus e passou por cima dele. - Mas que coisa triste… - Pois é… Mas tudo bem. Tomei o café sem açúcar mesmo. Aquela mulher feia, coitada, tão desengonçada que nunca tinha conseguido ter um namorado, vai pedir auxílio a uma vidente. — Minha filha! Nessa vida, você não vai ser muito feliz no amor — prediz a mulher. — Mas na próxima encarnação você será uma mulher lindíssima, muito cobiçada e todos os homens se arrastarão aos seus pés. A mulher saiu dali muito feliz e ao passar por um viaduto, pensou: \"Quando mais cedo eu morrer, mais cedo começa a minha outra vida!\" e atirou-se lá de cima. Mas, por essas incríveis coincidências que só acontecem em sites de humor, ela não morreu porque caiu de costas em cima de um camião carregado de bananas e perdeu os sentidos. Assim que se recuperou, ainda atordoada e sem saber onde estava, começou a apalpar em volta de si e quando sentiu a protuberância das bananas, murmurou com um sorriso nos lábios: — Um de cada vez... por favor! Um de cada vez! Aos 18 anos, a mulher é como uma bola de futebol: tem 22 homens correndo atrás e milhares de homens de olho nela. Aos 28 anos, ela passa a ser como uma bola de basquete: mais rechonchuda, com dez homens correndo atrás e alguns colegas assistindo. Aos 38 anos, ela é como uma bolinha de golfe: tem só um homem andando atrás dela e meia dúzia de amigos olhando. Aos 48 anos, ela passa a ser como uma bolinha de pingue-pongue: um homem fica jogando pro outro! Em um congresso de mulheres estava sendo discutido quais eram as mais inteligentes: as morenas, as ruivas ou as loiras. Uma morena subiu ao palanque e disse: — Nós, morenas, fomos as primeiras mulheres a fabricar um computador! Todas as morenas aplaudiram. Então foi a vez da ruiva: — Nós, ruivas, fomos as primeiras mulheres a ir para a lua! A minoria ruiva aplaudiu. Até que uma loira subiu ao palanque. — Nós, as loiras, ainda não fizemos grande coisa, mas já temos um projeto de sermos as primeiras mulheres a ir até o sol! As mulheres caem na gargalhada e uma morena grita: — Se vocês foram até o sol, vão morrer esturricadas, suas antas! A loira chega bem perto do microfone e se explica: — Alôouuuuu! Mas nós vamos de noi-teeee! Três mulheres, uma noiva, uma casada e uma amante estava conversando sobre seus relacionamentos e decidiram agradar seus homens. Aquela noite todas as três iriam testar a sensualidade e o poder que exerciam sobre seus companheiros, usando corpete de couro, máscara nos olhos e botas de cano alto. Após alguns dias, elas tornaram a se encontrar. Cada uma relatou a sua experiência. Disse a noiva: - Naquela noite, quando meu namorado chegou em casa encontrou-me usando o corpete de couro, botas com 12cm de salto e máscara sobre os olhos. Ele me olhou intensamente e disse: \"- Você é a mulher da minha vida, eu te amo.\" Então fizemos amor a noite inteira. A amante contou a sua versão: - Ah, comigo também foi parecido. Naquela noite encontrei meu amante no escritório. Estava usando um corpete de couro, mega saltos, máscara sobre os olhos e... mais nada! Usava uma capa de chuva para cobrir meu corpo. Quando eu abri a capa, ele não disse nada... seus olhos me devoraram... me agarrou e tivemos sexo a noite toda. E aí a casada contou sua história: - Naquela noite eu mandei as crianças para a casa da minha mãe. Arrumei-me como combinado: corpete de couro, super saltos, máscara sobre os olhos. Então resolvi incrementar o visual. Aproveitei para inaugurar um perfume novo e um batom vermelho que nunca tinha usado antes. Lembrei-me de um comentário que meu marido fez sobre a sensualidde da roupa íntima preta e coloquei a que acabara de comprar... um fio dental com um lacinho de cetim em ponto estratégico. Quando meu marido chegou do trabalho, abriu a porta e me encontrou em pé no meio do quarto fazendo caras e bocas. Olhou-me de cima abaixo endisse: \"- E aí, Batman, o que temos para o jantar?\" Via Zumbi sem teto Crédito das miniaturas: Moda para homens Este artigo pertence ao Crazyseawolf's Blog . Plágio é crime e está previsto no artigo 184 do Código Penal. Mais uma novidade no Blogger in Draft : O Blogger Template Designer ou o Designer do modelo . Com essa nova ferramenta, os usuários podem testar novos modelos de template e as novas ferramentas da plataforma, além de poderem customizar os seus próprios templates. link para o vídeo Com essa mais nova ferramenta, o usuario do Blogger terá: - 15 novos modelos de templates totalmente customizáveis - Templates com uma, duas ou três colunas, que podem ser reorganizadas ao seu bel prazer - Centenas de imagens e padrões (patterns) diretos do&nbsp; iStockphoto , um site que possui várias imagens grátis. Essa novidade está presente somente no Blogger in Draft. Clique em Lay-out &nbsp;e depois em Designer de modelo: Atenção: Templates de terceiros não dá para serem customizados. Descobri isso ao tentar aplicar algumas funcionalidades neste template. Atualização 14/03: Para quem quiser aprender como mexer nessa nova ferramenta, recomendo os seguintes tutoriais: - Blogger in Draft: Novidades na troca de layouts! - Sem Preceito - C omo criar um template para Blogger / Blogspot - Dicas Blogger Chupa Wordpress!!! Este artigo pertence ao Crazyseawolf's Blog . Plágio é crime e está previsto no artigo 184 do Código Penal. Opinião é que nem cú, todo mundo tem. Com ou sem embasamento, muitos falam sobre um determinado assunto, pois cada um tem o seu ponto de vista e o que é melhor, vivemos num país democrático e a liberdade de expressão é garantida pela constituição, embora certos setores nem pensem assim. Quando uma pessoa opina, ela quer passar o seu pensamento a respeito de alguma coisa, estando ela certa ou errada, é um direito dela, exclusivamente dela. Os outros podem concordar ou discordar, críticas e sugestões sempre são bem vindas, a não ser quando querem impor uma verdade, o que é discutível e também quando começam a atacar o autor. Eu aqui no meu blog, eu escrevo o que quero, o que penso, o que acredito ser certo. Aceito as críticas e respeito a opinião de quem discorda de mim, mas nunca aceitarei que me imponham algo. Não sou o dono da verdade e nem quero ser, mas eu só quero uma palavra: Respeito! Respeito que muitos não tiveram com o autor deste post no blog Nerds Somos Nozes . O Gabriel Radd , que eu não conheço, é um dos colaboradores do blog e começou a ser patrulhado e achincalhado por aqueles que não respeitam a opinião dos outros. Tudo porque ele escreveu que a literatura brasileira é um pé no saco e fez algumas comparações a J. R. R. Tolkien, por exemplo. Os defensores da cultura nacional e do politicamente correto cairam em cima e o Gabriel até pediu para que o seu post fosse apagado, por causa das proporções que chegou a polêmica. Ainda bem que os editores do Nerds Somos Nozes não apagaram o post em questão , porque seria uma tremenda censura, algo que lá atrás lutamos para que ela fosse extirpada da nossa sociedade. Eu não tenho rabo preso com ninguém, e portanto engrosso a discussão concordando que a Literatura brasileira é um tremendo pé no saco mesmo! E eu não coloco a culpa nos professores não. A Literatura faz parte do currículo e possui um conteúdo programático que tem que ser cumprido. Infelizmente os livros são massantes e sem nenhum apelo, muitos retratam épocas passadas que não interessantes segundo o meu ponto de vista. Se eu tivesse iniciado a leitura a partir dela, eu não teria gosto e nenhum apreço à leitura. Tudo é desestimulante, desde a paisagem até o português arcaico dos séculos anteriores. Talvez o modernismo ainda pareça interessante, mas é só. O meu gosto da leitura se deve a Stan Lee, Carl Barks, Richard Bach, Alan Moore, J. R. R. Tolkien, Peter David, Maurício de Souza, Roy Thomas, Jorge Amado (um brasileiro!!!), Ray Bradmoore, Clarice Lispector (uma brasileira!!!), etc, etc. Sim, eu cresci lendo muitos quadrinhos, ficção científica e RPG. Se hoje a leitura está inserida e latente em mim, eu não agradeço à Literatura Brasileira, pois ela destruiria totalmente esse meu prazer, que por muitas vezes tive que agüentar por causa unica e exclusivamente do vestibular. Espero que meus colegas de profissão Bauru e Jo_Angel não tenham se assustados com essas minhas declarações, a língua portuguesa é bela e rica, reconheço, mas a sua literatura é mesmo um pé no saco. E um recado para os patrulheiros de plantão: Eu não sigo a porra de reforma nenhuma, e não me venham reclamar que o trema caiu. Este artigo pertence ao Crazyseawolf's Blog . Plágio é crime e está previsto no artigo 184 do Código Penal. Quem me conhece sabe que eu fujo de relacionamentos e casamentos assim como o Diabo foge da cruz. Juro que eu não consigo me imaginar dentro de algo que acaba com a sua masculinidade. Uma verdadeira prisão! As duas webcomics abaixo são engraçadas para não dizer trágicas. Via Doghouse - He said She said Via Doghouse - The Pants O pior é que no fim elas é quem mandam. Este artigo pertence ao Crazyseawolf's Blog . Plágio é crime e está previsto no artigo 184 do Código Penal. \n",
      "\n",
      "{'language': 'fr', 'score': 0.9999937881954913}\n",
      " Bonjour à tous et bienvenue! Moi, gourmande ? Noooon franchement ? Bon ok j'avoue ! Vous trouverez ici toutes les recettes (enfin certaines) que j'ai soigneusement gardées depuis quelques années: recettes de famille, experimentations personnelles, recettes approuvées ... etc. Je suis sure que vous trouverez de quoi régaler vos papilles et épater vos amis ! Séverine .... Bon ... cela fait 2 mois que je n'ai pas mis de recettes .... mais c'était pour la bonne cause car je me suis inscrite à des cours de cuisine japonaise. Et comme je suis super sympa je vais partager avec vous les recettes que j'ai apprises dans les cours mais aussi d'autres recettes que j'ai prises à droite et à gauche. Cette recette par exemple, je l'ai prise d'un livre australien dédié à la cuisine japonaise. J'ai fait cette recette deux fois .. et a chaque fois cela a été un grand succès !! Ingrédients : - 300g de filet de boeuf coupé en environ 12 tranches fines. - 2 carottes moyennes (240 g) - 3 oignons frais - 6 queues d'asperges coupées en deux dans le sens de la longueur - 2 cuillères à soupe de maizena - 1 cuillère à soupe d'huile végétale - 1 cuillère à soupe de sucre - 60 mL de mirin. Le mirin se trouve dans les supermarchés asiatiques ...cela ressemble a une bouteille d'huile. En général la bouteille est assez chere .... mais elle vous durera longtemps ! - 2 cuillères à café de sake (le japonais, pas le super fort qu'on vous sert à la fin du repas dans les restaurants chinois) - 60 mL de sauce soja japonaise. Je vous recommande fortement la Kikkoman ... c'est vraiment la meilleure. Et faites bien attention de ne pas prendre une sauce soja d un autre pays car la saveur est totalement differente! Instructions: - Pelez les carottes et à l'aide de l'éplucheur faites des bandes fines de carottes (env. 1.5 cm de largeur ...enfin cela dépend de votre carotte :-P). Coupez les bandes de carottes de façon à ce qu'elles soient de la même longueur que les tranches de boeuf. - Dans un bol resistant à la chaleur, mettre les asperges coupées et couvrir avec de l'eau bouillante. Laissez reposer 2 min puis rincez sous l'eau froide. - Coupez les asperges et les oignons&nbsp; de façon à ce qu'ils soient de la même largueur que les tranches de boeuf. (Si ca dépasse un peu ce n'est pas très grave ;-) ) - Etalez les tranches de boeuf et saupoudrez d' 1 cuillère à soupe de maizena. - Mettre sur chaque tranche (coté maizena): 2 morceaux de carottes, 2 morceaux d'oignon, 1 morceau d'asperge. - Roulez les filets et sécurisez avec un cure dent. - Saupoudrez les rouleaux de maizena. - Dans une poêle anti-adhérente, chauffez l'huile à feu moyen. - Ajoutez les rouleaux et les faire cuire jusqu'à ce qu'ils soient légèrement dorés de tous les cotés. - Retirez les rouleaux et enlevez l'huile de la poêle en utilisant du papier absorbant. - Remettre la poêle sur le feu. Ajoutez le sucre, le saké, le mirin et la sauce soja et cuire jusqu'à ébullition. - Baissez le feu et ajoutez les rouleaux. Mijotez en retournant les rouleaux régulièrement jusqu'à ce que la viande soit cuite. - Si vous voulez une sauce plus épaisse, retirez les rouleaux et faites réduire la sauce. - Laissez reposer les rouleaux 2 minutes puis retirez les cure dents et coupez chaque rouleaux en deux. - Servir avec la sauce. Le Saviez-Vous?&nbsp; Vous pouvez trouver dans les supermarchés asiatiques de fines tranches de boeuf vendues sous le nom de \"yakiniku\" ou \"sukiyaki\" .... elles sont souvent surgelées et très pratiques pour cette recette !! Voici un recette de flautas vertes au poulet très facile à réaliser. Attention la salsa verde est très picante donc pas trop conseillée pour les enfants ! Ingrédients: (pour environ 10 flautas) - 2 blancs de poulet (env. 450 - 500g) - 2 cubes de bouillon de poulet - 10 tortillas - 1 ou 2 avocats mûr - De la \"salsa verde\" que vous trouverez dans les épiceries proposant des produits d'amérique latine - Lait - Coriandre - Sel - Huile pour la friture Préparation de la sauce à l'avocat: - Coupez les avocats en deux puis retirez les noyaux (en \"plantant\" un couteau dans le noyau, vous devriez pouvoir le sortir facilement si vos avocats sont assez murs...) - Retirez la chair de l'avocat et mettez la dans un mixeur (ou dans un saladier si vous n'avez pas de mixeur). - Ajoutez de la coriandre (quantité suivant votre goût), un peu de lait et du sel. - Mixez (ou écrasez avec une fourchette) entièrement, il ne doit pas rester de morceaux d'avocat. - Ajouter si besoin du lait. Vous devez obtenir une sauce crémeuse mais pas liquide! - Rectifiez l'assaisonnement. Préparation des flautas: - Mettre une assez grande quantité d'eau à bouillir dans une casserole avec les 2 cubes de poulet. - Ajoutez les blancs de poulet et laissez cuire 20-30 min - Une fois les blancs de poulet cuits, sortez les de la casserole et posez les sur une plaque à découper. - En utilisant 2 fourchettes, \"déchirez\" les blancs de poulet en filaments (voir photo). Encore une fois, cela devrait se détacher assez facilement si 1/ vos blancs sont assez cuits 2/vous déchirez dans le sens de la fibre. - Déposez une tortilla sur votre plan de travail et mettez un peu de poulet sur toute la longueur. - Roulez la flauta en prenant soin de bien serrer et de rabattre les cotés au fur et à mesure que vous enroulez. - Sécurisez à l'aide de cure dents. Vous devriez pouvoir mettre deux flauta sur un seul cure dent. - Repétez l'opération \"enroulage\" jusqu'à épuisement du poulet. - Mettre de l'huile a chauffer (environ 1 cm) dans une poêle assez large. - Faites frire les flautas jusqu'à que les deux cotés soient bien dorés. - Retirez et mettre sur du papier absorbant quelques minutes Pour servir: - Mettre 4 flautas (pour les gros apétits) dans un assiette sans oublier de retirer les cure dents ! - Badigeonner à volonté de sauce à l'avocat et de salsa verde !!! La douceur de l'avocat va contrebalancé le piment de la salsa verde. Ne pas hésitez sur les quantité faut vraiment que les flauras baignent dans la sauce !! Voilà, bon apétit !!! J'espère que cette recette vous plaira ! Le Saviez-Vous ? La salsa verde est une sauce mexicaine faite à partir de \"tomatillos\", de piments, de coriandre et de citron. Bien que les tomatillos ressemblent à des tomates vertes, ce ne sont pas des tomates cueillies avant maturité mais une variété de physalis. Cela fait maintenant très longtemps que je n'ai pas ajouté de recettes à me petit blog :( Enfin j avais l'intention de faire un vrai site ... mais au final je n'ai rien fait ... même si cette idée est toujours dans mon esprit, je sais que je ne pourrai pas le faire dans le court terme, j'ai donc juste décidé de reprendre mon blog. Pour cela, je vous propose une petite recette d´épaule d'agneau que j'ai essayé ce weekend. Malheureusement, je n'ai pas pris de photos ..... J'étais bien trop pressée de le manger :-P .. ah la la .. la gourmandise ... ca joue des tours. Mais bon tant pis, cela veut dire qu'il faudra que je le refasse pour ensuite vous mettre une jolie photo :) Ou si vous le souhaitez, envoyez vos photos et je les mettrai sur le site ! Cette recette est super facile à faire. Elle demande cependant un très long temps de cuisson ... mais vous pourrez vous absenter pendant toute la durée de la cuisson. En effet, nous allons utiliser un four à température basse et recouvrir le plat d'aluminium ...donc rien ne risque de cramer en quelques secondes ! Allez c'est parti ! Ingrédients: - Une épaule d´agneau - Une tête d'ail - Une botte de romarin frais - Une botte de menthe fraiche - Des câpres au vinaigre (moi j adore ca donc j en ai mis pas mal (100g) ..mais vous faites a votre gout) - 1/2 L de bouillon de poulet - 1 cuillère à soupe de farine bien remplie - Un peu d'huile d'olive - Un peu de vinaigre ou vin rouge Préparation: - Préchauffez votre four au maximum (220 degres par ex) ..on baissera ensuite. - Sur une planche, placez l'épaule d'agneau et avec la pointe d'un couteau , entaillez la légèrement. Il faut faire plusieurs lignes sur la largeur tout le long de l'épaule d'agneau. - Salez et poivrez généreusement les deux cotés de l'épaule d'agneau. - Détachez toutes les gousses d'ails de la tête. Vous devez enlever la peau blanche de la tête d'ail mais vous n'avez pas besoin d'éplucher les gousses. - Dans un plat à four mettre les 3/4 des gousses au fond. - Prenez 3-4 branches de romarin, coupez les en 2/3 (ciseaux, mains ...) et placez les également au fond de votre plat. N'hésitez surtout pas sur les quantités de romarin, il en faut beaucoup. - Posez votre épaule d'agneau dessus et ajoutez dessus les gousses d'ail restantes et encore du romarin. - Mettez quelques filets d'huiles d'olives par dessus. - Couvrez votre plat avec de la feuille d'aluminium et fermez bien. - Et zouuuuu au four pendant 4h ! Baissez votre four a 160 degrés environ. Pendant toute la durée de cuisson, n'ouvrez pas votre four ... Votre épaule cuit bien gentillement sous l'alu et sera merveilleuse ! ... entre temps.. allez prendre un bain .. allez voir un film .. etc. Comme je l'ai dit plus haut la préparation est vraiment super facile et je suis sure que les plus nuls d'entre vous y arriveront .. c'est juste la cuisson qui est un peu longue. Donc au bout de 4h .... neu non, ce n'est pas encore tout à fait fini ;) Il faut maintenant faire la sauce .. mais la aussi ne vous inquiétez pas, c'est super simple. - Cisailler finement une grosse poignée de feuilles de menthe (juste les feuilles !!) et les câpres. Je vous conseille de faire ça quelques minutes avant la fin de la cuisson. - Sortez votre épaule du four. Normalement la viande devrait se détacher toute seule. La viande à ce stade doit avoir un aspect assez collant.... si si si je vous assure c'est délicieux, la viande est super fondante. Mettez aussi les gousses d'ail de coté et enlevez les branches de romarin du plat. - Enlevez l'excès d'huile du plat ... ne raclez pas il faut garder les \"jus\" de cuisson pour faire la sauce !!! - Mettre votre plat sur les plaques de cuissons (allumées sur feux moyen-fort) - Saupoudrez de farine et \"grattez\" un peu le fond pour détacher les jus de cuissons. - Ajoutez la menthe et câpres et continuez à touiller - Ajoutez le bouillon de poulet. - Faites bouillir jusqu'à ce que la sauce s'épaississe un peu. - Ajoutez une cuillère à soupe de vinaigre ou vin rouge. .... Et voiiiiilà votre sauce est prête.... mettez la dans un bol pour servir. Vous voyez ce n'était pas sorcier :) Pour servir donc, il faut la viande, la sauce ... et vous pouvez accompagner ça de quelques légumes tels que épinards (cuits simplement a l'eau) ou un mélange de patates + carottes en semi-purée (comprenez par là qu'il faut que ce soit écrasé mais sans que cela ressemble à un pot pour bébé :P) Bon appétit .. et envoyez moi vos photos ! Le Saviez-Vous ? Le romarin est excellent pour activer les fonctions digestives (notamment la vésicule biliaire) et a une action stimulante sur le système nerveux. Il est aussi utilisé depuis des siècles en parfumerie. Mmmm voici une petite recette sympa de truffes au chocolat. Parfait pour les fêtes de Noël. La première fois que je les ai faites toute ma famille les a adoré ! Cette semaine je les teste sur mes collègues de bureau ;-) Ingrédients pour environ 1 kg de truffes: - 190 g de sucre - 40 g de beurre demi sel - 260 g de crème fraiche liquide - 300 g de chocolat noir patissier (j'utilise toujours un chocolat noir à 64% de cacao) - 180 g de chocolat au lait - Cacao Van Houten Préparation: - Raper le chocolat noir et le chocolat au lait. Mettez le dans un bol résistant à la chaleur. - Faire fondre le beurre et chauffer la crème - En même temps, préparez un caramel avec le sucre et environ 2 cuillères à soupe d'eau. Surveillez bien votre caramel et éloignez les enfants! - Une fois votre caramel roux, versez dessus la crème, le beurre et mélangez bien. Attention !! La différence de température va créer des éclaboussures, éloignez vous le plus possible de la casserole. Par ailleurs, la crème va \"monter\" donc je vous conseille de prendre une casserole assez grande. - Versez la préparation chaude sur le chocolat. Remuez bien jusqu'à obtention du pâte lisse. Si vous avez bien râpé votre chocolat il fond très rapidement! - Tapissez un moule ou une plaque de papier sulfurisé et versez y la pâte. Faire reposer quelques heures au réfrigérateur le temps que cela durcisse. - Ensuite, coupez des petits carrés de pâte (2-3 cm), roulez les dans la paume de vos mains (oui, vous allez vous en mettre de partout !) puis roulez la truffe dans le cacao. - Conservez vos truffes dans un jolie boite ... de préférence au frigo car sinon elles ramolliront trop vite. Oui oui je sais ... ce n'est pas du tout diététique ... mais c'est tellement bon !! Le Saviez-Vous? Pour que le caramel reste liquide plus longtemps vous pouvez ajouter ½ cuiller à café de vinaigre ou un filet de citron pour 100 g de sucre. Encore une petite recette avec du thon.. mais cette fois ci, nous allons utiliser du thon en boite... c'est bien plus pratique! Ce soufflé est délicieux servi froid en entrée avec une petite salade :-) La recette m'a été transmise par ma marraine :-) Ingrédients: - 8 Oeufs (séparez blancs et jaunes) - 30 - 40 g de beurre ramolli - 3 boites de thon à l'huile (1 boite = 160g = 112g égoutté) - 2 poivrons rouges coupés en petits dés - 1 petite boite de concentré de tomates - Noix de muscade (option) - Sel et poivre Préparation : - Battre les jeunes d'oeufs dans un saladier - Ajoutez le beurre - Ajoutez les 3 boites de thon émiétté. Attention, il faut mettre une boite de thon entière (thon + huile) et égoutez les deux autres boites en gardant l'huile dans une tasse. - Ajoutez les poivrons et la boite de tomate concentrée. - Ajoutez de la noix de muscade si vous aimez ca, ainsi que le sel et le poivre. Le thon étant déjà salé faites attention à ne pas trop en mettre. - Mélangez bient le tout. - Montez les blancs en neige ferme (cela sera plus facile si les blancs sont à la température de la pièce et si vous ajoutez just une pincée de sel avant de les monter). Ajoutez ensuite les blancs montés à la préparation en mélangeant délicatement. - Si le mélange vous semble trop sec, ajoutez un peu d'huile des boites de thon que vous avez gardée. - Mettre le tout dans un moule huilé ou beurré et faire cuire au four thermosta 6 ou 7 ( 180 ou 210) au moins une 1/2 heure au bain marie. Le dessus doit être bien marron, pour verifier la cuisson piquer le soufflé avec un couteau. Voila, il ne reste plus qu'à laisser refroidir tout ca ! Le Saviez-Vous ? Le poivron est très faible en calorie (seulement 27 kcal au 100g !) et est une excellente source vitamines A et C. Le poivron est également appelé piment doux ou encore poivron d'Amérique. Donc, en résumé non seulement le poivron est bon pour votre santé mais en plus il met de la couleur dans votre assiette ! Voici une recette très facile à effectuer ! :-) La cuisson prolongée rend les aubergines fondantes :-) Ingrédients: - 4 Aubergines épluchés - 1 Gros oignon - Une tranche de lard - 1 cuillere à café de poudre de curry - Sel et huile Préparation: - Faire dégorger les aubergines coupées en rondelle dans du sel pendant environ 30 min. Ensuite rincez les bien afin d'éliminer le sel et séchez les bien. - Faites chauffer un peu d'huile dans une poêle et faites-y revenir le lard émincé ainsi que l'oignon qu vous aurez péalablement haché. Ne mettez pas trop d'huile car le lard est déjà très gras! - Ajoutez le curry puis ajoutez les aubergines. - Lorsque les aubergines sont dorées, prolongez la cuisson a petit feu pendant environ 45 minutes. Voila c'est prêt! Servez bien chaud. Vous pouvez utiliser ce curry en acompagnement avec du riz. Le Saviez-Vous ? Les premiers pays producteurs d'aubergine au niveau mondial sont la Chine, l'Inde et la Turquie. L'aubergine doit se choisir bien ferme avec une peau lisse et brillante. Prenez une aubergine d'une belle couleur violette. Cela fait un long moment que je n'ai pas posté de recettes :-( ... donc pour me rattraper, vous trouverez ci dessous la recette du thon à la catalane de Maman... et comme tout le monde le sait les recettes des mamans sont toujours les meilleures ! Ce plat peut se manger chaud ou froid et se conserve très bien quelques jours au frigo :-) Encore une fois je n'ai pas les proportions exactes mais cela n'est pas tres grave, faites selon votre gout et l'appétit de vos hotes ! Ingrédients: - Darnes de thon frais - Oignons -Tomates ou 1 boite de tomates pelées - Poivrons rouges - Ail - Paprika doux - Feuilles de lauriers - Cornichons - Jus des cornichons du pot de cornichon - Un peu de farine Préparation: - Fariner et frire les darnes de thon dans de l'huile d'olive ( pas trop). - Mettre le thon de coté. - Couper les oignons en lamelles , le poivrons en dés, ail en lamelles. - Faire revenir le tout dans l'huile de friture du thon avec les feuilles de laurier. - Ajouter des tomates fraîches coupées en petits dés....ou a defaut une grosse boite de tomates pelées. - Ajouter un peu de paprika et laisser cuire le tout quelques instants. - Ajouter cornichons coupés en deux dans le sens de la longueur et du jus de conserve des cornichons (pas trop sinon ca va être trop vinaigré) - Laisser mijoter encore quelques instant - Pendant ce temps nettoyer les darnes de thon...enlever peau..arêtes..et couper le thon en morceaux pas trop gros... mais pas trop petits non plus .. des morceaux de 5 cms environ devraient faire l'affaire! - Mettre le thon dans la sauce laisser mijoter 4 à 5 minutes a feu doux. C'est prêt!! Le Saviez-Vous? Le thon désigne plusieurs espèces de poisson. Il y a les thons rouges; les thons blancs (ou germon), jaune (ou albacore), patudo, listao ... ces trois dernières espèces étants des thons tropicaux. Le thon est un très bon aliment car il contient énormément de protéines, peu de cholestérol et regorge d'élément nutritif ! \n",
      "\n",
      "{'language': 'en', 'score': 0.8571394766647182}\n",
      "ayyo ayyo ayyo indha AVK ku oru testimonial ??? romba kadinamana vishayam serious a ezhudha mudiyadhu ivana pathi because namma vivek, comedian vivek madhiriye oru super comedy character  eppidi???\n",
      "\n",
      "ok ok now things abt vivek, ivan samma cook [milk boil panna kooda theriyum namma paiyan , ana milk spill panniduvan.. appo yosichu pakalam how gr8 a cook he is]. supera maggie pannuvane avane dhan sapduvan\n",
      "\n",
      "seri ippo serious a ve good things abt vivek. he is soooooo studious, sooooo hard workin, soooooooo brainy, sooooo creative and of course a very gr8 cook o cook vivek a kindal pannala na enaku day mudinja madhiri e irukadhu. but he is sooooo sweet.. adhukellam kochukave maatan.. adhu dhan enaku ivana kindal panna oru big motivation\n",
      "\n",
      "Vivek, u have a very bright future ahead.. All the very best. wish u lotsa luck, happiness and hope all ur ambitions come true.\n",
      "\n",
      "\n",
      "{'language': 'es', 'score': 0.9999971670073049}\n",
      " Nota: Haz click aquí o sobre la imagen para entrar y ver todas las fotografías. Una verdadera pasarela de los mejores fotógrafos fue necesaria para coleccionar 30 hermosas fotografías de casas abandonadas . Todas las fotografías, han sido alojadas en Flickr por quienes las han tomado y han decidido compartirlas. Luego, fue PhotographyBlogger quien se dio a la tarea de ponerlas en un solo lugar para todos ustedes. Si deseas ver todas las fotografias de casas abandonadas , haz click aquí . Si prefieres regresar a la página principal , haz click acá . Gracias. Nota: Haz click aquí o sobre la imagen para entrar y ver todas las fotografías. Si deseas ver todas las imágenes de la vida es hermosa o life is beautiful , haz click aquí . Si prefieres regresar a la página principal , haz click acá . Gracias. Nota: Haz click aquí o sobre la imagen para entrar y ver todas las fotografías. Si deseas ver todas las fotografías de mujeres muy lindas , haz click aquí . Si prefieres regresar a la página principal , haz click acá . Gracias. Nota: Haz click aquí o sobre la imagen para entrar y ver todas las fotografías. Joergen Geerds , es un excelente fotógrafo que ha coleccionado al paso del tiempo una serie de fotos bien guapas sobre la ciudad de Nueva York . Se trata de una extraordinaria recopilación de fotos nocturnas que él ha titulado ' Luminous New York '. Si deseas ver todas las fotografías nocturnas de la ciudad de Nueva York , haz click aquí . Si prefieres regresar a la página principal , haz click acá . Gracias. Nota: Haz click aquí o sobre la imagen para entrar y ver todas las fotografías. Si deseas ver todas las imágenes de caídas fatales o Fatal Falling , haz click aquí . Si prefieres regresar a la página principal , haz click acá . Gracias. Nota: Haz click aquí o sobre la imagen para entrar y ver todas las fotografías. Interesante recopilación de fotografías la que ha logrado reunir Corcholat donde nos ilustra un poco sobre los personajes que tienen el poder sobre las naciones. Esta colección, incluye fotos de los presidentes y presidentas más famosas e información sobre el país en el que gobiernan. Si deseas ver todas las fotografías de los Rostros del Poder , haz click aquí . Si prefieres regresar a la página principal , haz click acá . Gracias. Nota: Haz click aquí o sobre la imagen para entrar y ver todas las fotografías. Hermosa colección de imágenes donde predominan los paisajes naturales, paraísos terrenales y escenarios campestres. En esta ocasión y estrenando nuevo estilo en la presentación de nuestras galerías, le ofrecemos dos páginas que incluyen la colección completa. Si deseas ver todas las imágenes de Paisajes de la República Checa , deberás hacer click aquí para ver la página número 1 . Luego, puedes hacer click aquí para ver la segunda página . Si prefieres regresar a la página principal , haz click acá . Gracias. www.BancoImágenesGratuitas.com Nota: Haz click aquí o sobre la imagen para entrar y ver todas las fotografías. El día de hoy, miré un documental sobre los hermosos y tiernos osos polares . Eso fue lo que me dio la idea de traer ante ustedes el acceso directo para ver más de 5,000 imágenes, fotos y dibujos de estos simpáticos animalitos peludos que habitan precisamente en el Polo Norte. Si deseas ver todas las imágenes, dibujos y fotos de osos polares , haz click aquí . Si prefieres regresar a la página principal , haz click acá . Gracias. \n",
      "\n"
     ]
    }
   ],
   "source": [
    "for count, idx in enumerate(indices):\n",
    "    print(language[count])\n",
    "    print(df.iloc[idx].post)\n",
    "    print(\"\")"
   ]
  },
  {
   "cell_type": "markdown",
   "metadata": {},
   "source": [
    "Delete the samples that were detected as not English"
   ]
  },
  {
   "cell_type": "code",
   "execution_count": 22,
   "metadata": {},
   "outputs": [],
   "source": [
    "for i in indices:\n",
    "    df.drop(index=i, inplace=True)"
   ]
  },
  {
   "cell_type": "markdown",
   "metadata": {
    "id": "70NS8k7TqDk5"
   },
   "source": [
    "### Check if data distribution between male and female is equal"
   ]
  },
  {
   "cell_type": "code",
   "execution_count": 23,
   "metadata": {
    "colab": {
     "base_uri": "https://localhost:8080/",
     "height": 577
    },
    "executionInfo": {
     "elapsed": 453,
     "status": "ok",
     "timestamp": 1645639290807,
     "user": {
      "displayName": "Lisa Spahn Lundgren",
      "photoUrl": "https://lh3.googleusercontent.com/a/default-user=s64",
      "userId": "13266833213640265739"
     },
     "user_tz": -60
    },
    "id": "KgzOsyL_yc8t",
    "outputId": "d9ceb852-87f1-42ef-b5fb-03bfcb07f6cd"
   },
   "outputs": [
    {
     "data": {
      "image/png": "[encoded data removed]",
      "text/plain": [
       "<Figure size 432x360 with 1 Axes>"
      ]
     },
     "metadata": {},
     "output_type": "display_data"
    },
    {
     "name": "stdout",
     "output_type": "stream",
     "text": [
      "0    1673\n",
      "1    1546\n",
      "Name: gender, dtype: int64\n"
     ]
    }
   ],
   "source": [
    "import matplotlib.pyplot as plt\n",
    "import seaborn as sns\n",
    "\n",
    "sns.set(font_scale=1.2)\n",
    "df['gender'].value_counts().plot(kind='bar', rot=0, figsize=(6,5))\n",
    "plt.xlabel(\"Author gender (0: male, 1: female)\")\n",
    "plt.ylabel(\"Count of texts\")\n",
    "plt.title(\"Counts of texts written by male / female authors\", y=1.05)\n",
    "plt.show()\n",
    "\n",
    "print(df['gender'].value_counts())"
   ]
  },
  {
   "cell_type": "markdown",
   "metadata": {
    "id": "u-oQGQuMqK7k"
   },
   "source": [
    "Check distribution of post length"
   ]
  },
  {
   "cell_type": "code",
   "execution_count": 24,
   "metadata": {
    "colab": {
     "base_uri": "https://localhost:8080/"
    },
    "executionInfo": {
     "elapsed": 21,
     "status": "ok",
     "timestamp": 1645639290810,
     "user": {
      "displayName": "Lisa Spahn Lundgren",
      "photoUrl": "https://lh3.googleusercontent.com/a/default-user=s64",
      "userId": "13266833213640265739"
     },
     "user_tz": -60
    },
    "id": "7DFw5aIdqBPR",
    "outputId": "f30cc557-c89c-4200-ce2f-48a33ccfa0ba"
   },
   "outputs": [
    {
     "name": "stdout",
     "output_type": "stream",
     "text": [
      "Minimum post length: 11\n",
      "Maximum post length: 6148\n",
      "Average post length: 420.0959925442684\n",
      "Median:              194.0\n"
     ]
    }
   ],
   "source": [
    "post_lengths = df['post'].str.split().str.len()\n",
    "\n",
    "print(\"Minimum post length: \" + str(min(post_lengths)))\n",
    "print(\"Maximum post length: \" + str(max(post_lengths)))\n",
    "print(\"Average post length: \" + str(np.mean(post_lengths)))\n",
    "print(\"Median:              \" + str(np.median(post_lengths)))"
   ]
  },
  {
   "cell_type": "code",
   "execution_count": 25,
   "metadata": {},
   "outputs": [
    {
     "name": "stdout",
     "output_type": "stream",
     "text": [
      "Most frequent post length: 90\n"
     ]
    }
   ],
   "source": [
    "# most frequent post length\n",
    "counts = np.bincount(post_lengths)\n",
    "print(\"Most frequent post length: \" + str(np.argmax(counts)))"
   ]
  },
  {
   "cell_type": "code",
   "execution_count": 26,
   "metadata": {},
   "outputs": [
    {
     "data": {
      "image/png": "[encoded data removed]",
      "text/plain": [
       "<Figure size 792x576 with 1 Axes>"
      ]
     },
     "metadata": {},
     "output_type": "display_data"
    }
   ],
   "source": [
    "plt.figure(figsize=(11,8))\n",
    "plt.style.use('seaborn')\n",
    "plt.hist(post_lengths, bins=50)\n",
    "plt.title(\"Histogram of post lengths in nr. of words\")\n",
    "plt.show()"
   ]
  },
  {
   "cell_type": "code",
   "execution_count": 27,
   "metadata": {
    "colab": {
     "base_uri": "https://localhost:8080/",
     "height": 504
    },
    "executionInfo": {
     "elapsed": 972,
     "status": "ok",
     "timestamp": 1645639320173,
     "user": {
      "displayName": "Lisa Spahn Lundgren",
      "photoUrl": "https://lh3.googleusercontent.com/a/default-user=s64",
      "userId": "13266833213640265739"
     },
     "user_tz": -60
    },
    "id": "FKX23HV3rIRs",
    "outputId": "4912ff8f-88fc-467a-978b-9ffe430aac56"
   },
   "outputs": [
    {
     "data": {
      "image/png": "[encoded data removed]",
      "text/plain": [
       "<Figure size 792x576 with 1 Axes>"
      ]
     },
     "metadata": {},
     "output_type": "display_data"
    }
   ],
   "source": [
    "plt.figure(figsize=(11,8))\n",
    "plt.style.use('seaborn')\n",
    "plt.hist(post_lengths, bins=40, range=[0, 500])\n",
    "plt.title(\"Histogram of post lengths in nr. of words - smaller range\")\n",
    "plt.show()"
   ]
  },
  {
   "cell_type": "markdown",
   "metadata": {
    "id": "g6yC5-yYVs5x"
   },
   "source": [
    "## Clean up and tokenize the data"
   ]
  },
  {
   "cell_type": "code",
   "execution_count": 28,
   "metadata": {
    "colab": {
     "base_uri": "https://localhost:8080/"
    },
    "executionInfo": {
     "elapsed": 453,
     "status": "ok",
     "timestamp": 1645568739494,
     "user": {
      "displayName": "Lisa Spahn Lundgren",
      "photoUrl": "https://lh3.googleusercontent.com/a/default-user=s64",
      "userId": "13266833213640265739"
     },
     "user_tz": -60
    },
    "id": "lSKzyQluJfKk",
    "outputId": "53e50bbf-5f1b-4906-e7bf-c80b6bbf772e"
   },
   "outputs": [
    {
     "name": "stderr",
     "output_type": "stream",
     "text": [
      "[nltk_data] Downloading package punkt to /home/lisa/nltk_data...\n",
      "[nltk_data]   Package punkt is already up-to-date!\n",
      "[nltk_data] Downloading package stopwords to /home/lisa/nltk_data...\n",
      "[nltk_data]   Package stopwords is already up-to-date!\n",
      "[nltk_data] Downloading package averaged_perceptron_tagger to\n",
      "[nltk_data]     /home/lisa/nltk_data...\n",
      "[nltk_data]   Package averaged_perceptron_tagger is already up-to-\n",
      "[nltk_data]       date!\n",
      "[nltk_data] Downloading package wordnet to /home/lisa/nltk_data...\n",
      "[nltk_data]   Package wordnet is already up-to-date!\n"
     ]
    },
    {
     "data": {
      "text/plain": [
       "True"
      ]
     },
     "execution_count": 28,
     "metadata": {},
     "output_type": "execute_result"
    }
   ],
   "source": [
    "import nltk\n",
    "import string\n",
    "from nltk import word_tokenize, pos_tag\n",
    "from nltk.corpus import stopwords, wordnet\n",
    "from nltk.stem import WordNetLemmatizer\n",
    "from collections import defaultdict\n",
    "\n",
    "nltk.download('punkt')\n",
    "nltk.download('stopwords')\n",
    "nltk.download('averaged_perceptron_tagger')\n",
    "nltk.download('wordnet')"
   ]
  },
  {
   "cell_type": "code",
   "execution_count": 29,
   "metadata": {
    "id": "UwQH00yYyjKK"
   },
   "outputs": [],
   "source": [
    "# tag map for POS tag (needed for lemmatization)\n",
    "tag_map = defaultdict(lambda : wordnet.NOUN)\n",
    "tag_map['J'] = wordnet.ADJ\n",
    "tag_map['V'] = wordnet.VERB\n",
    "tag_map['R'] = wordnet.ADV\n",
    "\n",
    "def preprocess(text):\n",
    "    \n",
    "    # transform to lower-case and remove punctuation\n",
    "    text_p = \"\".join([char for char in text.lower() if char not in string.punctuation])\n",
    "    \n",
    "    # transform to lower-case but keep punctuation -> maybe punctuation differs between men and women?\n",
    "    #text_p = text.lower()\n",
    "\n",
    "    # split tokens\n",
    "    words = word_tokenize(text_p)\n",
    "    \n",
    "    # remove common english stopwords\n",
    "    stop_words = stopwords.words('english')\n",
    "    filtered_words = [word for word in words if word not in stop_words]\n",
    "\n",
    "    # lemmatization (convert each token to its base form)\n",
    "    lemmatizer = WordNetLemmatizer()\n",
    "    lemmatized = []\n",
    "    for token, tag in pos_tag(filtered_words):\n",
    "      lemma = lemmatizer.lemmatize(token, tag_map[tag[0]])\n",
    "      lemmatized.append(lemma)\n",
    "    \n",
    "    return lemmatized"
   ]
  },
  {
   "cell_type": "code",
   "execution_count": 31,
   "metadata": {},
   "outputs": [
    {
     "data": {
      "text/plain": [
       "['lunch', 'break', 'need', 'finish', 'programming', 'assignment']"
      ]
     },
     "execution_count": 31,
     "metadata": {},
     "output_type": "execute_result"
    }
   ],
   "source": [
    "preprocess(\"After my lunch break, I need to finish my programming assignment.\")"
   ]
  },
  {
   "cell_type": "code",
   "execution_count": 21,
   "metadata": {
    "colab": {
     "base_uri": "https://localhost:8080/"
    },
    "executionInfo": {
     "elapsed": 21,
     "status": "ok",
     "timestamp": 1645568739496,
     "user": {
      "displayName": "Lisa Spahn Lundgren",
      "photoUrl": "https://lh3.googleusercontent.com/a/default-user=s64",
      "userId": "13266833213640265739"
     },
     "user_tz": -60
    },
    "id": "rfM8n650GZdv",
    "outputId": "89c474ce-d485-4e4f-d630-66f852a490a5"
   },
   "outputs": [
    {
     "name": "stdout",
     "output_type": "stream",
     "text": [
      " Long time no see. Like always I was rewriting it from scratch a couple of times. But nevertheless it's still java and now it uses metropolis sampling to help that poor path tracing converge.\n",
      "\n",
      "Btw. I did MLT on yesterday evening after 2 beers (it had to be Ballmer peak).\n",
      "\n",
      "Altough the implementation is still very fresh it easily outperforms standard path tracing, what is to be seen especially when difficult caustics are involved.\n",
      "\n",
      "I've implemented spectral rendering too, it was very easy actually, cause all computations on wavelengths are linear just like rgb. But then I realised that even if it does feel more physically correct to do so, whats the point? 3d applications are operating in rgb color space, and because I cant represent a rgb color as spectrum interchangeably I have to approximate it, so as long as I'm not running a physical simulation or something I don't see the benefits (please correct me if I'm wrong), thus I abandoned that.\n",
      "['long', 'time', 'see', 'like', 'always', 'rewrite', 'scratch', 'couple', 'time', 'nevertheless', 'still', 'java', 'us', 'metropolis', 'sample', 'help', 'poor', 'path', 'trace', 'converge', 'btw', 'mlt', 'yesterday', 'even', '2', 'beer', 'ballmer', 'peak', 'altough', 'implementation', 'still', 'fresh', 'easily', 'outperform', 'standard', 'path', 'trace', 'see', 'especially', 'difficult', 'caustic', 'involve', 'ive', 'implement', 'spectral', 'render', 'easy', 'actually', 'cause', 'computation', 'wavelengths', 'linear', 'like', 'rgb', 'realise', 'even', 'feel', 'physically', 'correct', 'whats', 'point', '3d', 'application', 'operate', 'rgb', 'color', 'space', 'cant', 'represent', 'rgb', 'color', 'spectrum', 'interchangeably', 'approximate', 'long', 'im', 'run', 'physical', 'simulation', 'something', 'dont', 'see', 'benefit', 'please', 'correct', 'im', 'wrong', 'thus', 'abandon']\n"
     ]
    }
   ],
   "source": [
    "print(df['post'][0])\n",
    "print(preprocess(df['post'][0]))"
   ]
  },
  {
   "cell_type": "code",
   "execution_count": 22,
   "metadata": {
    "colab": {
     "base_uri": "https://localhost:8080/",
     "height": 424
    },
    "executionInfo": {
     "elapsed": 13,
     "status": "ok",
     "timestamp": 1645568739497,
     "user": {
      "displayName": "Lisa Spahn Lundgren",
      "photoUrl": "https://lh3.googleusercontent.com/a/default-user=s64",
      "userId": "13266833213640265739"
     },
     "user_tz": -60
    },
    "id": "cjLX6J5TXG76",
    "outputId": "61e6e357-6e10-4f51-ec57-1d74241583c4"
   },
   "outputs": [
    {
     "data": {
      "text/html": [
       "<div>\n",
       "<style scoped>\n",
       "    .dataframe tbody tr th:only-of-type {\n",
       "        vertical-align: middle;\n",
       "    }\n",
       "\n",
       "    .dataframe tbody tr th {\n",
       "        vertical-align: top;\n",
       "    }\n",
       "\n",
       "    .dataframe thead th {\n",
       "        text-align: right;\n",
       "    }\n",
       "</style>\n",
       "<table border=\"1\" class=\"dataframe\">\n",
       "  <thead>\n",
       "    <tr style=\"text-align: right;\">\n",
       "      <th></th>\n",
       "      <th>post</th>\n",
       "      <th>gender</th>\n",
       "    </tr>\n",
       "  </thead>\n",
       "  <tbody>\n",
       "    <tr>\n",
       "      <th>0</th>\n",
       "      <td>Long time no see. Like always I was rewriting...</td>\n",
       "      <td>0</td>\n",
       "    </tr>\n",
       "    <tr>\n",
       "      <th>1</th>\n",
       "      <td>Guest Demo: Eric Iverson’s Itty Bitty Search\\...</td>\n",
       "      <td>0</td>\n",
       "    </tr>\n",
       "    <tr>\n",
       "      <th>2</th>\n",
       "      <td>Who moved my Cheese???   The world has been de...</td>\n",
       "      <td>0</td>\n",
       "    </tr>\n",
       "    <tr>\n",
       "      <th>3</th>\n",
       "      <td>Yesterday I attended a biweekly meeting of an...</td>\n",
       "      <td>0</td>\n",
       "    </tr>\n",
       "    <tr>\n",
       "      <th>4</th>\n",
       "      <td>Liam is nothing like Natalie. Natalie never w...</td>\n",
       "      <td>1</td>\n",
       "    </tr>\n",
       "    <tr>\n",
       "      <th>...</th>\n",
       "      <td>...</td>\n",
       "      <td>...</td>\n",
       "    </tr>\n",
       "    <tr>\n",
       "      <th>3227</th>\n",
       "      <td>It was a scavenger style race with checkpoints...</td>\n",
       "      <td>0</td>\n",
       "    </tr>\n",
       "    <tr>\n",
       "      <th>3228</th>\n",
       "      <td>Finally! I got a full day's work done. Almost ...</td>\n",
       "      <td>1</td>\n",
       "    </tr>\n",
       "    <tr>\n",
       "      <th>3229</th>\n",
       "      <td>At the height of laughter, the universe is flu...</td>\n",
       "      <td>0</td>\n",
       "    </tr>\n",
       "    <tr>\n",
       "      <th>3230</th>\n",
       "      <td>I like birds, especially woodpeckers and MOST ...</td>\n",
       "      <td>0</td>\n",
       "    </tr>\n",
       "    <tr>\n",
       "      <th>3231</th>\n",
       "      <td>Oh friends, it's finally here! I thought the m...</td>\n",
       "      <td>1</td>\n",
       "    </tr>\n",
       "  </tbody>\n",
       "</table>\n",
       "<p>3218 rows × 2 columns</p>\n",
       "</div>"
      ],
      "text/plain": [
       "                                                   post gender\n",
       "0      Long time no see. Like always I was rewriting...      0\n",
       "1      Guest Demo: Eric Iverson’s Itty Bitty Search\\...      0\n",
       "2     Who moved my Cheese???   The world has been de...      0\n",
       "3      Yesterday I attended a biweekly meeting of an...      0\n",
       "4      Liam is nothing like Natalie. Natalie never w...      1\n",
       "...                                                 ...    ...\n",
       "3227  It was a scavenger style race with checkpoints...      0\n",
       "3228  Finally! I got a full day's work done. Almost ...      1\n",
       "3229  At the height of laughter, the universe is flu...      0\n",
       "3230  I like birds, especially woodpeckers and MOST ...      0\n",
       "3231  Oh friends, it's finally here! I thought the m...      1\n",
       "\n",
       "[3218 rows x 2 columns]"
      ]
     },
     "execution_count": 22,
     "metadata": {},
     "output_type": "execute_result"
    }
   ],
   "source": [
    "df"
   ]
  },
  {
   "cell_type": "code",
   "execution_count": 23,
   "metadata": {
    "id": "719BSe7nYPa_"
   },
   "outputs": [],
   "source": [
    "tokenized = []\n",
    "for post in df['post']:\n",
    "  tokenized.append(preprocess(post))"
   ]
  },
  {
   "cell_type": "code",
   "execution_count": 26,
   "metadata": {
    "colab": {
     "base_uri": "https://localhost:8080/"
    },
    "executionInfo": {
     "elapsed": 41,
     "status": "ok",
     "timestamp": 1645568809823,
     "user": {
      "displayName": "Lisa Spahn Lundgren",
      "photoUrl": "https://lh3.googleusercontent.com/a/default-user=s64",
      "userId": "13266833213640265739"
     },
     "user_tz": -60
    },
    "id": "-a8eDzlZHhLt",
    "outputId": "72f67a25-2120-4ee9-c4ba-9c2878637680"
   },
   "outputs": [
    {
     "name": "stdout",
     "output_type": "stream",
     "text": [
      " Long time no see. Like always I was rewriting it from scratch a couple of times. But nevertheless it's still java and now it uses metropolis sampling to help that poor path tracing converge.\n",
      "\n",
      "Btw. I did MLT on yesterday evening after 2 beers (it had to be Ballmer peak).\n",
      "\n",
      "Altough the implementation is still very fresh it easily outperforms standard path tracing, what is to be seen especially when difficult caustics are involved.\n",
      "\n",
      "I've implemented spectral rendering too, it was very easy actually, cause all computations on wavelengths are linear just like rgb. But then I realised that even if it does feel more physically correct to do so, whats the point? 3d applications are operating in rgb color space, and because I cant represent a rgb color as spectrum interchangeably I have to approximate it, so as long as I'm not running a physical simulation or something I don't see the benefits (please correct me if I'm wrong), thus I abandoned that.\n",
      "['long', 'time', 'see', 'like', 'always', 'rewrite', 'scratch', 'couple', 'time', 'nevertheless', 'still', 'java', 'us', 'metropolis', 'sample', 'help', 'poor', 'path', 'trace', 'converge', 'btw', 'mlt', 'yesterday', 'even', '2', 'beer', 'ballmer', 'peak', 'altough', 'implementation', 'still', 'fresh', 'easily', 'outperform', 'standard', 'path', 'trace', 'see', 'especially', 'difficult', 'caustic', 'involve', 'ive', 'implement', 'spectral', 'render', 'easy', 'actually', 'cause', 'computation', 'wavelengths', 'linear', 'like', 'rgb', 'realise', 'even', 'feel', 'physically', 'correct', 'whats', 'point', '3d', 'application', 'operate', 'rgb', 'color', 'space', 'cant', 'represent', 'rgb', 'color', 'spectrum', 'interchangeably', 'approximate', 'long', 'im', 'run', 'physical', 'simulation', 'something', 'dont', 'see', 'benefit', 'please', 'correct', 'im', 'wrong', 'thus', 'abandon']\n",
      "\n",
      "MEN\"O\"PAUSE - Just don't freak out its just not another biology lecture. Not even the agony aunt section nether i am trying to tell you the psychological and vital stats of middle aged women... ( I know the title will force you to think so)\n",
      "\" Aurat ko pav ki jhooti samajhna chod do\"(Its a dialog from some yesteryear movie)\n",
      "Yes indeed I am talking about our very much prevalent \"PATRIARCHAL SOCIETY\" male dominance, power and superiority complex. It all started to monitor families more over it was about the family tree that followed which is why the oldest male member had the power to take major decisions to make life simple and methodical. Rules were different for different families. Its basic objective was to follow a routine and have discipline in life.\n",
      "But as lifestyle got more pacey homo sapiens, typical to there behavior are champions in escaping things. Like the rituals nowadays have become more simplistic even more are celebrated twice in just one year! Moreover this modifying trend and escapist behaviors is now seen everywhere even in are daily mundane chores. This is what we women have been the victim of ...\n",
      "First place a woman is a symbol of power, force,love and affection. We worship her in many forms like 'Durga', 'Kali' , even when we want wealth and prosperity its Goddess 'Laxmi' whose worshiped before Lord 'Kuber comes in the picture. Then why do have such hypocritical society with double standards, where at one place we give her status of the Almighty and also keep the odacity to harass, abuse and molest her.\n",
      "I might not be the one give the absolute decision, neither have I researched enough but I chose to speak my mind with perception and knowledge of my own. Patriarchal Society was just pictured and coined not to objectify women or manhandle them. It was just to protect them and allow them to do chores suited for them not because they are weak, but its a proven fact that physically they are not meant to do certain things. As men they are totally misinterpreted it and we have purda-system, female fetuscide and infanticide.\n",
      "Many conventional writers will freak out at the boldness of my statement but I think its time to say it and face it. other than eve's teasing, lecherous gaze,just being felt in public are the most humiliating experiences experienced by almost every women. But whats most humiliating is when that same women whose your mother, wife and sister is completely shunned for five days of the month.( Its just a situation I am mentioning have been among the luckiest one by not facing it) Now my logic to it is that those five days are for her to rest even the body purges itself. Its like giving her a small vacation from her daily chores. But again the theory of misinterpretation comes in, we absolutely shun her to be in complete isolation not even allowed to worship, why would God have a problem with it when he himself created it. :)\n",
      "One more dominant characteristic of this kind of society is they die for a son to carry on the lineage and the heir to the property. The most hilarious concept I have ever understood. What will the son do with the million and zillion of sperms when he will not the a women to bore it. After God its the immortal women are the ones who gives life and birth and ironically still seen as the fairer sex or the suppressed one.\n",
      "So men 'o' pause and together with the support of both the genders we can practice equality and not just talk equality.\n",
      "['menopause', 'dont', 'freak', 'another', 'biology', 'lecture', 'even', 'agony', 'aunt', 'section', 'nether', 'try', 'tell', 'psychological', 'vital', 'stats', 'middle', 'age', 'woman', 'know', 'title', 'force', 'think', 'aurat', 'ko', 'pav', 'ki', 'jhooti', 'samajhna', 'chod', 'doits', 'dialog', 'yesteryear', 'movie', 'yes', 'indeed', 'talk', 'much', 'prevalent', 'patriarchal', 'society', 'male', 'dominance', 'power', 'superiority', 'complex', 'start', 'monitor', 'family', 'family', 'tree', 'follow', 'old', 'male', 'member', 'power', 'take', 'major', 'decision', 'make', 'life', 'simple', 'methodical', 'rule', 'different', 'different', 'family', 'basic', 'objective', 'follow', 'routine', 'discipline', 'life', 'lifestyle', 'get', 'pacey', 'homo', 'sapiens', 'typical', 'behavior', 'champion', 'escape', 'thing', 'like', 'ritual', 'nowadays', 'become', 'simplistic', 'even', 'celebrate', 'twice', 'one', 'year', 'moreover', 'modify', 'trend', 'escapist', 'behavior', 'see', 'everywhere', 'even', 'daily', 'mundane', 'chore', 'woman', 'victim', 'first', 'place', 'woman', 'symbol', 'power', 'forcelove', 'affection', 'worship', 'many', 'form', 'like', 'durga', 'kali', 'even', 'want', 'wealth', 'prosperity', 'goddess', 'laxmi', 'whose', 'worship', 'lord', 'kuber', 'come', 'picture', 'hypocritical', 'society', 'double', 'standard', 'one', 'place', 'give', 'status', 'almighty', 'also', 'keep', 'odacity', 'harass', 'abuse', 'molest', 'might', 'one', 'give', 'absolute', 'decision', 'neither', 'research', 'enough', 'chose', 'speak', 'mind', 'perception', 'knowledge', 'patriarchal', 'society', 'picture', 'coined', 'objectify', 'woman', 'manhandle', 'protect', 'allow', 'chore', 'suit', 'weak', 'proven', 'fact', 'physically', 'mean', 'certain', 'thing', 'men', 'totally', 'misinterpret', 'purdasystem', 'female', 'fetuscide', 'infanticide', 'many', 'conventional', 'writer', 'freak', 'boldness', 'statement', 'think', 'time', 'say', 'face', 'eve', 'tease', 'lecherous', 'gazejust', 'felt', 'public', 'humiliating', 'experience', 'experience', 'almost', 'every', 'woman', 'whats', 'humiliate', 'woman', 'whose', 'mother', 'wife', 'sister', 'completely', 'shun', 'five', 'day', 'month', 'situation', 'mention', 'among', 'lucky', 'one', 'face', 'logic', 'five', 'day', 'rest', 'even', 'body', 'purge', 'like', 'give', 'small', 'vacation', 'daily', 'chore', 'theory', 'misinterpretation', 'come', 'absolutely', 'shun', 'complete', 'isolation', 'even', 'allow', 'worship', 'would', 'god', 'problem', 'create', 'one', 'dominant', 'characteristic', 'kind', 'society', 'die', 'son', 'carry', 'lineage', 'heir', 'property', 'hilarious', 'concept', 'ever', 'understand', 'son', 'million', 'zillion', 'sperm', 'woman', 'bore', 'god', 'immortal', 'woman', 'one', 'give', 'life', 'birth', 'ironically', 'still', 'see', 'fairer', 'sex', 'suppress', 'one', 'men', 'pause', 'together', 'support', 'gender', 'practice', 'equality', 'talk', 'equality']\n"
     ]
    }
   ],
   "source": [
    "print(df['post'][0])\n",
    "print(tokenized[0])\n",
    "\n",
    "print(\"\")\n",
    "\n",
    "print(df['post'][100])\n",
    "print(tokenized[100])"
   ]
  },
  {
   "cell_type": "code",
   "execution_count": 27,
   "metadata": {
    "colab": {
     "base_uri": "https://localhost:8080/"
    },
    "executionInfo": {
     "elapsed": 25,
     "status": "ok",
     "timestamp": 1645568809824,
     "user": {
      "displayName": "Lisa Spahn Lundgren",
      "photoUrl": "https://lh3.googleusercontent.com/a/default-user=s64",
      "userId": "13266833213640265739"
     },
     "user_tz": -60
    },
    "id": "ZIS2m8VtZFf1",
    "outputId": "328b90cc-aa64-4261-d624-138d30a52f80"
   },
   "outputs": [
    {
     "data": {
      "text/html": [
       "<div>\n",
       "<style scoped>\n",
       "    .dataframe tbody tr th:only-of-type {\n",
       "        vertical-align: middle;\n",
       "    }\n",
       "\n",
       "    .dataframe tbody tr th {\n",
       "        vertical-align: top;\n",
       "    }\n",
       "\n",
       "    .dataframe thead th {\n",
       "        text-align: right;\n",
       "    }\n",
       "</style>\n",
       "<table border=\"1\" class=\"dataframe\">\n",
       "  <thead>\n",
       "    <tr style=\"text-align: right;\">\n",
       "      <th></th>\n",
       "      <th>post</th>\n",
       "      <th>gender</th>\n",
       "      <th>tokenized</th>\n",
       "    </tr>\n",
       "  </thead>\n",
       "  <tbody>\n",
       "    <tr>\n",
       "      <th>0</th>\n",
       "      <td>Long time no see. Like always I was rewriting...</td>\n",
       "      <td>0</td>\n",
       "      <td>[long, time, see, like, always, rewrite, scrat...</td>\n",
       "    </tr>\n",
       "    <tr>\n",
       "      <th>1</th>\n",
       "      <td>Guest Demo: Eric Iverson’s Itty Bitty Search\\...</td>\n",
       "      <td>0</td>\n",
       "      <td>[guest, demo, eric, iverson, ’, itty, bitty, s...</td>\n",
       "    </tr>\n",
       "    <tr>\n",
       "      <th>2</th>\n",
       "      <td>Who moved my Cheese???   The world has been de...</td>\n",
       "      <td>0</td>\n",
       "      <td>[move, cheese, world, develop, area, create, d...</td>\n",
       "    </tr>\n",
       "    <tr>\n",
       "      <th>3</th>\n",
       "      <td>Yesterday I attended a biweekly meeting of an...</td>\n",
       "      <td>0</td>\n",
       "      <td>[yesterday, attend, biweekly, meeting, informa...</td>\n",
       "    </tr>\n",
       "    <tr>\n",
       "      <th>4</th>\n",
       "      <td>Liam is nothing like Natalie. Natalie never w...</td>\n",
       "      <td>1</td>\n",
       "      <td>[liam, nothing, like, natalie, natalie, never,...</td>\n",
       "    </tr>\n",
       "    <tr>\n",
       "      <th>...</th>\n",
       "      <td>...</td>\n",
       "      <td>...</td>\n",
       "      <td>...</td>\n",
       "    </tr>\n",
       "    <tr>\n",
       "      <th>3227</th>\n",
       "      <td>It was a scavenger style race with checkpoints...</td>\n",
       "      <td>0</td>\n",
       "      <td>[scavenger, style, race, checkpoint, throughou...</td>\n",
       "    </tr>\n",
       "    <tr>\n",
       "      <th>3228</th>\n",
       "      <td>Finally! I got a full day's work done. Almost ...</td>\n",
       "      <td>1</td>\n",
       "      <td>[finally, get, full, day, work, do, almost, 4k...</td>\n",
       "    </tr>\n",
       "    <tr>\n",
       "      <th>3229</th>\n",
       "      <td>At the height of laughter, the universe is flu...</td>\n",
       "      <td>0</td>\n",
       "      <td>[height, laughter, universe, flung, kaleidosco...</td>\n",
       "    </tr>\n",
       "    <tr>\n",
       "      <th>3230</th>\n",
       "      <td>I like birds, especially woodpeckers and MOST ...</td>\n",
       "      <td>0</td>\n",
       "      <td>[like, bird, especially, woodpecker, especiall...</td>\n",
       "    </tr>\n",
       "    <tr>\n",
       "      <th>3231</th>\n",
       "      <td>Oh friends, it's finally here! I thought the m...</td>\n",
       "      <td>1</td>\n",
       "      <td>[oh, friend, finally, think, month, christmas,...</td>\n",
       "    </tr>\n",
       "  </tbody>\n",
       "</table>\n",
       "<p>3218 rows × 3 columns</p>\n",
       "</div>"
      ],
      "text/plain": [
       "                                                   post gender  \\\n",
       "0      Long time no see. Like always I was rewriting...      0   \n",
       "1      Guest Demo: Eric Iverson’s Itty Bitty Search\\...      0   \n",
       "2     Who moved my Cheese???   The world has been de...      0   \n",
       "3      Yesterday I attended a biweekly meeting of an...      0   \n",
       "4      Liam is nothing like Natalie. Natalie never w...      1   \n",
       "...                                                 ...    ...   \n",
       "3227  It was a scavenger style race with checkpoints...      0   \n",
       "3228  Finally! I got a full day's work done. Almost ...      1   \n",
       "3229  At the height of laughter, the universe is flu...      0   \n",
       "3230  I like birds, especially woodpeckers and MOST ...      0   \n",
       "3231  Oh friends, it's finally here! I thought the m...      1   \n",
       "\n",
       "                                              tokenized  \n",
       "0     [long, time, see, like, always, rewrite, scrat...  \n",
       "1     [guest, demo, eric, iverson, ’, itty, bitty, s...  \n",
       "2     [move, cheese, world, develop, area, create, d...  \n",
       "3     [yesterday, attend, biweekly, meeting, informa...  \n",
       "4     [liam, nothing, like, natalie, natalie, never,...  \n",
       "...                                                 ...  \n",
       "3227  [scavenger, style, race, checkpoint, throughou...  \n",
       "3228  [finally, get, full, day, work, do, almost, 4k...  \n",
       "3229  [height, laughter, universe, flung, kaleidosco...  \n",
       "3230  [like, bird, especially, woodpecker, especiall...  \n",
       "3231  [oh, friend, finally, think, month, christmas,...  \n",
       "\n",
       "[3218 rows x 3 columns]"
      ]
     },
     "execution_count": 27,
     "metadata": {},
     "output_type": "execute_result"
    }
   ],
   "source": [
    "df['tokenized'] = tokenized\n",
    "df"
   ]
  },
  {
   "cell_type": "code",
   "execution_count": 79,
   "metadata": {},
   "outputs": [],
   "source": [
    "from operator import index\n",
    "\n",
    "df.to_csv('../data/tokenized.csv', index=False)"
   ]
  },
  {
   "cell_type": "code",
   "execution_count": 48,
   "metadata": {},
   "outputs": [],
   "source": [
    "from sklearn.feature_extraction.text import TfidfVectorizer\n",
    "\n",
    "def dummy(doc):\n",
    "    return doc\n",
    "\n",
    "vec = TfidfVectorizer(tokenizer=dummy, preprocessor=dummy)\n",
    "posts = vec.fit_transform(df['tokenized'])"
   ]
  },
  {
   "cell_type": "code",
   "execution_count": 49,
   "metadata": {},
   "outputs": [],
   "source": [
    "from sklearn.cluster import KMeans\n",
    "\n",
    "kmeans = KMeans(n_clusters=3, random_state=0, n_init=5).fit(posts)"
   ]
  },
  {
   "cell_type": "code",
   "execution_count": 37,
   "metadata": {},
   "outputs": [
    {
     "data": {
      "text/plain": [
       "<AxesSubplot:xlabel='0'>"
      ]
     },
     "execution_count": 37,
     "metadata": {},
     "output_type": "execute_result"
    },
    {
     "data": {
      "image/png": "[encoded data removed]",
      "text/plain": [
       "<Figure size 576x396 with 1 Axes>"
      ]
     },
     "metadata": {},
     "output_type": "display_data"
    }
   ],
   "source": [
    "import numpy as np\n",
    "import matplotlib.pyplot as plt\n",
    "\n",
    "pd.DataFrame(kmeans.labels_).value_counts().plot(kind='bar')"
   ]
  },
  {
   "cell_type": "code",
   "execution_count": 50,
   "metadata": {},
   "outputs": [],
   "source": [
    "def top_terms(k, n):\n",
    "  kmeans = KMeans(n_clusters=k, random_state=0, n_init=5).fit(posts)\n",
    "\n",
    "  indxes = np.argsort(kmeans.cluster_centers_, axis=1)[:, -n:]\n",
    "\n",
    "  inv_vocab = {v: k for k, v in vec.vocabulary_.items()}\n",
    "\n",
    "  i=0\n",
    "  for idx in indxes:\n",
    "    print('Top terms of cluster', i, [inv_vocab[j] for j in idx])\n",
    "    i+=1"
   ]
  },
  {
   "cell_type": "code",
   "execution_count": 51,
   "metadata": {},
   "outputs": [
    {
     "name": "stdout",
     "output_type": "stream",
     "text": [
      "Top terms of cluster 0 ['–', 'say', 'time', 'like', 'one', 'get', 'make', '”', '“', '’']\n",
      "Top terms of cluster 1 ['would', 'new', 'take', 'year', 'like', 'time', 'make', 'go', 'get', 'one']\n",
      "Top terms of cluster 2 ['make', 'one', 'think', 'know', 'like', 'day', 'time', 'go', 'get', 'im']\n",
      "Top terms of cluster 3 ['time', 'like', 'person', 'one', 'u', 'love', 'know', 'friend', 'god', 'life']\n",
      "Top terms of cluster 4 ['tat', 'always', 'gud', '2', 'guy', 'r', 'ur', 'abt', 'u', 'n']\n"
     ]
    }
   ],
   "source": [
    "# 5 clusters, top 10 terms\n",
    "top_terms(5, 10) "
   ]
  },
  {
   "cell_type": "code",
   "execution_count": 52,
   "metadata": {},
   "outputs": [],
   "source": [
    "import spacy\n",
    "\n",
    "nlp = spacy.load(\"en_core_web_sm\")\n",
    "\n",
    "def preprocess(text):\n",
    "  doc = nlp(text,  disable=[\"parser\", \"ner\"])\n",
    "  result = []\n",
    "\n",
    "  for token in doc:\n",
    "    if not token.is_stop and token.is_alpha and len(token)>=3:\n",
    "      result.append(token.lemma_)\n",
    "\n",
    "  return result"
   ]
  },
  {
   "cell_type": "code",
   "execution_count": 53,
   "metadata": {},
   "outputs": [],
   "source": [
    "nested = []\n",
    "\n",
    "for doc in df.post:\n",
    "  nested.append(preprocess(doc))"
   ]
  },
  {
   "cell_type": "code",
   "execution_count": 58,
   "metadata": {},
   "outputs": [
    {
     "name": "stdout",
     "output_type": "stream",
     "text": [
      "['long', 'time', 'like', 'rewrite', 'scratch', 'couple', 'time', 'java', 'use', 'metropolis', 'sample', 'help', 'poor', 'path', 'trace', 'converge', 'btw', 'MLT', 'yesterday', 'evening', 'beer', 'Ballmer', 'peak', 'Altough', 'implementation', 'fresh', 'easily', 'outperform', 'standard', 'path', 'trace', 'see', 'especially', 'difficult', 'caustic', 'involve', 'implement', 'spectral', 'rendering', 'easy', 'actually', 'cause', 'computation', 'wavelength', 'linear', 'like', 'rgb', 'realise', 'feel', 'physically', 'correct', 'point', 'application', 'operate', 'rgb', 'color', 'space', 'represent', 'rgb', 'color', 'spectrum', 'interchangeably', 'approximate', 'long', 'run', 'physical', 'simulation', 'benefit', 'correct', 'wrong', 'abandon']\n",
      "\n",
      " Long time no see. Like always I was rewriting it from scratch a couple of times. But nevertheless it's still java and now it uses metropolis sampling to help that poor path tracing converge.\n",
      "\n",
      "Btw. I did MLT on yesterday evening after 2 beers (it had to be Ballmer peak).\n",
      "\n",
      "Altough the implementation is still very fresh it easily outperforms standard path tracing, what is to be seen especially when difficult caustics are involved.\n",
      "\n",
      "I've implemented spectral rendering too, it was very easy actually, cause all computations on wavelengths are linear just like rgb. But then I realised that even if it does feel more physically correct to do so, whats the point? 3d applications are operating in rgb color space, and because I cant represent a rgb color as spectrum interchangeably I have to approximate it, so as long as I'm not running a physical simulation or something I don't see the benefits (please correct me if I'm wrong), thus I abandoned that.\n"
     ]
    }
   ],
   "source": [
    "print(nested[0][:])\n",
    "print(\"\")\n",
    "print(df['post'][0])"
   ]
  },
  {
   "cell_type": "code",
   "execution_count": 66,
   "metadata": {},
   "outputs": [],
   "source": [
    "from gensim.corpora import Dictionary\n",
    "\n",
    "# Create a dictionary representation of the documents.\n",
    "dictionary = Dictionary(nested)\n",
    "\n",
    "# Filter out words that occur less than 20 documents, or more than 50% of the documents.\n",
    "dictionary.filter_extremes(no_below=20, no_above=0.5)"
   ]
  },
  {
   "cell_type": "code",
   "execution_count": 67,
   "metadata": {},
   "outputs": [],
   "source": [
    "# Bag-of-words representation of the documents.\n",
    "corpus = [dictionary.doc2bow(doc) for doc in nested]"
   ]
  },
  {
   "cell_type": "code",
   "execution_count": 68,
   "metadata": {},
   "outputs": [
    {
     "name": "stdout",
     "output_type": "stream",
     "text": [
      "Number of unique tokens: 3159\n",
      "Number of documents: 3218\n"
     ]
    }
   ],
   "source": [
    "print('Number of unique tokens: %d' % len(dictionary))\n",
    "print('Number of documents: %d' % len(corpus))"
   ]
  },
  {
   "cell_type": "code",
   "execution_count": 73,
   "metadata": {},
   "outputs": [],
   "source": [
    "import logging\n",
    "import re\n",
    "\n",
    "logging.basicConfig(filename='gensim.log', format='%(asctime)s:%(levelname)s:%(message)s', level=logging.INFO)\n",
    "\n",
    "def parse_logfile():\n",
    "    matcher = re.compile('(-*\\d+\\.\\d+) per-word .* (\\d+\\.\\d+) perplexity')\n",
    "    likelihoods = []\n",
    "    with open('gensim.log') as source:\n",
    "        for line in source:\n",
    "            match = matcher.search(line)\n",
    "            if match:\n",
    "                likelihoods.append(float(match.group(1)))\n",
    "    return likelihoods"
   ]
  },
  {
   "cell_type": "code",
   "execution_count": 78,
   "metadata": {},
   "outputs": [
    {
     "data": {
      "text/plain": [
       "[<matplotlib.lines.Line2D at 0x7fdc5d525a60>]"
      ]
     },
     "execution_count": 78,
     "metadata": {},
     "output_type": "execute_result"
    },
    {
     "data": {
      "image/png": "[encoded data removed]",
      "text/plain": [
       "<Figure size 576x396 with 1 Axes>"
      ]
     },
     "metadata": {},
     "output_type": "display_data"
    }
   ],
   "source": [
    "# Set training parameters.\n",
    "num_topics = 5\n",
    "passes = 20\n",
    "\n",
    "# Make a index to word dictionary.\n",
    "temp = dictionary[0]  # This is only to \"load\" the dictionary.\n",
    "id2word = dictionary.id2token\n",
    "\n",
    "model = LdaModel(\n",
    "    corpus=corpus,\n",
    "    id2word=id2word,\n",
    "    alpha='auto',\n",
    "    eta='auto',\n",
    "    num_topics=num_topics,\n",
    "    passes=passes,\n",
    "    random_state=1\n",
    ")\n",
    "\n",
    "likelihoods = parse_logfile()\n",
    "plt.plot(list(range(len(likelihoods))), likelihoods)"
   ]
  },
  {
   "cell_type": "code",
   "execution_count": 76,
   "metadata": {},
   "outputs": [],
   "source": [
    "# TODO: Enter code here to train an LDA model and store it in a variable `model`\n",
    "from gensim.models import LdaModel\n",
    "\n",
    "# Set training parameters.\n",
    "num_topics = 5\n",
    "passes = 10\n",
    "\n",
    "# Make a index to word dictionary.\n",
    "temp = dictionary[0]  # This is only to \"load\" the dictionary.\n",
    "id2word = dictionary.id2token\n",
    "\n",
    "model = LdaModel(\n",
    "    corpus=corpus,\n",
    "    id2word=id2word,\n",
    "    alpha='auto',\n",
    "    eta='auto',\n",
    "    num_topics=num_topics,\n",
    "    passes=passes,\n",
    "    random_state=1\n",
    ")\n",
    "\n",
    "model.print_topics()"
   ]
  },
  {
   "cell_type": "markdown",
   "metadata": {
    "id": "pPqBDQw3VeaH"
   },
   "source": [
    "## Split into training and test data"
   ]
  },
  {
   "cell_type": "code",
   "execution_count": 22,
   "metadata": {
    "colab": {
     "base_uri": "https://localhost:8080/"
    },
    "executionInfo": {
     "elapsed": 21,
     "status": "ok",
     "timestamp": 1645568809824,
     "user": {
      "displayName": "Lisa Spahn Lundgren",
      "photoUrl": "https://lh3.googleusercontent.com/a/default-user=s64",
      "userId": "13266833213640265739"
     },
     "user_tz": -60
    },
    "id": "QlesC4aGV03A",
    "outputId": "d1388401-5031-4f48-eaf0-c22957997afa"
   },
   "outputs": [
    {
     "data": {
      "text/html": [
       "<div>\n",
       "<style scoped>\n",
       "    .dataframe tbody tr th:only-of-type {\n",
       "        vertical-align: middle;\n",
       "    }\n",
       "\n",
       "    .dataframe tbody tr th {\n",
       "        vertical-align: top;\n",
       "    }\n",
       "\n",
       "    .dataframe thead th {\n",
       "        text-align: right;\n",
       "    }\n",
       "</style>\n",
       "<table border=\"1\" class=\"dataframe\">\n",
       "  <thead>\n",
       "    <tr style=\"text-align: right;\">\n",
       "      <th></th>\n",
       "      <th>post</th>\n",
       "      <th>gender</th>\n",
       "      <th>tokenized</th>\n",
       "    </tr>\n",
       "  </thead>\n",
       "  <tbody>\n",
       "    <tr>\n",
       "      <th>2851</th>\n",
       "      <td>Again, Lights Out San Francisco was a huge su...</td>\n",
       "      <td>0</td>\n",
       "      <td>[light, san, francisco, huge, success, thanks,...</td>\n",
       "    </tr>\n",
       "    <tr>\n",
       "      <th>2172</th>\n",
       "      <td>The end for a new beginning - Date: Dec 8, 200...</td>\n",
       "      <td>1</td>\n",
       "      <td>[end, new, begin, date, dec, 8, 2009, location...</td>\n",
       "    </tr>\n",
       "    <tr>\n",
       "      <th>1780</th>\n",
       "      <td>Real school starts on Wednesday. I am excited ...</td>\n",
       "      <td>1</td>\n",
       "      <td>[real, school, start, wednesday, excite, nervo...</td>\n",
       "    </tr>\n",
       "    <tr>\n",
       "      <th>2906</th>\n",
       "      <td>so now that i got you going about that hot tea...</td>\n",
       "      <td>0</td>\n",
       "      <td>[get, go, hot, teacher, hots, kick, hotness, f...</td>\n",
       "    </tr>\n",
       "    <tr>\n",
       "      <th>1182</th>\n",
       "      <td>\"bodhai\"-(I shall not dwell into the details o...</td>\n",
       "      <td>0</td>\n",
       "      <td>[bodhaii, shall, dwell, detail, name, come, ri...</td>\n",
       "    </tr>\n",
       "    <tr>\n",
       "      <th>...</th>\n",
       "      <td>...</td>\n",
       "      <td>...</td>\n",
       "      <td>...</td>\n",
       "    </tr>\n",
       "    <tr>\n",
       "      <th>2570</th>\n",
       "      <td>Mrs. Clinton, I work in health care and see ma...</td>\n",
       "      <td>1</td>\n",
       "      <td>[mr, clinton, work, health, care, see, many, p...</td>\n",
       "    </tr>\n",
       "    <tr>\n",
       "      <th>1288</th>\n",
       "      <td>Obesity: The killer combination of salt, fat ...</td>\n",
       "      <td>0</td>\n",
       "      <td>[obesity, killer, combination, salt, fat, suga...</td>\n",
       "    </tr>\n",
       "    <tr>\n",
       "      <th>1536</th>\n",
       "      <td>If there was anything more terrible than Rena ...</td>\n",
       "      <td>1</td>\n",
       "      <td>[anything, terrible, rena, riffel, ’, attempt,...</td>\n",
       "    </tr>\n",
       "    <tr>\n",
       "      <th>1419</th>\n",
       "      <td>Painted this one at Dale Hollow Lake State Res...</td>\n",
       "      <td>0</td>\n",
       "      <td>[paint, one, dale, hollow, lake, state, resort...</td>\n",
       "    </tr>\n",
       "    <tr>\n",
       "      <th>1324</th>\n",
       "      <td>In all my years of reading horror comics I've ...</td>\n",
       "      <td>0</td>\n",
       "      <td>[year, read, horror, comic, ive, learn, import...</td>\n",
       "    </tr>\n",
       "  </tbody>\n",
       "</table>\n",
       "<p>2572 rows × 3 columns</p>\n",
       "</div>"
      ],
      "text/plain": [
       "                                                   post gender  \\\n",
       "2851   Again, Lights Out San Francisco was a huge su...      0   \n",
       "2172  The end for a new beginning - Date: Dec 8, 200...      1   \n",
       "1780  Real school starts on Wednesday. I am excited ...      1   \n",
       "2906  so now that i got you going about that hot tea...      0   \n",
       "1182  \"bodhai\"-(I shall not dwell into the details o...      0   \n",
       "...                                                 ...    ...   \n",
       "2570  Mrs. Clinton, I work in health care and see ma...      1   \n",
       "1288   Obesity: The killer combination of salt, fat ...      0   \n",
       "1536  If there was anything more terrible than Rena ...      1   \n",
       "1419  Painted this one at Dale Hollow Lake State Res...      0   \n",
       "1324  In all my years of reading horror comics I've ...      0   \n",
       "\n",
       "                                              tokenized  \n",
       "2851  [light, san, francisco, huge, success, thanks,...  \n",
       "2172  [end, new, begin, date, dec, 8, 2009, location...  \n",
       "1780  [real, school, start, wednesday, excite, nervo...  \n",
       "2906  [get, go, hot, teacher, hots, kick, hotness, f...  \n",
       "1182  [bodhaii, shall, dwell, detail, name, come, ri...  \n",
       "...                                                 ...  \n",
       "2570  [mr, clinton, work, health, care, see, many, p...  \n",
       "1288  [obesity, killer, combination, salt, fat, suga...  \n",
       "1536  [anything, terrible, rena, riffel, ’, attempt,...  \n",
       "1419  [paint, one, dale, hollow, lake, state, resort...  \n",
       "1324  [year, read, horror, comic, ive, learn, import...  \n",
       "\n",
       "[2572 rows x 3 columns]"
      ]
     },
     "execution_count": 22,
     "metadata": {},
     "output_type": "execute_result"
    }
   ],
   "source": [
    "from sklearn.model_selection import train_test_split\n",
    "\n",
    "df_train, df_test = train_test_split(df, test_size=0.2, stratify=df['gender'], random_state=0)\n",
    "df_train"
   ]
  },
  {
   "cell_type": "code",
   "execution_count": 23,
   "metadata": {
    "colab": {
     "base_uri": "https://localhost:8080/",
     "height": 426
    },
    "executionInfo": {
     "elapsed": 18,
     "status": "ok",
     "timestamp": 1645568809825,
     "user": {
      "displayName": "Lisa Spahn Lundgren",
      "photoUrl": "https://lh3.googleusercontent.com/a/default-user=s64",
      "userId": "13266833213640265739"
     },
     "user_tz": -60
    },
    "id": "Pqay-eZreUSR",
    "outputId": "f88aab6a-6bcb-4333-adb6-6ee5deaf1a2d"
   },
   "outputs": [
    {
     "data": {
      "image/png": "[encoded data removed]",
      "text/plain": [
       "<Figure size 432x360 with 1 Axes>"
      ]
     },
     "metadata": {},
     "output_type": "display_data"
    },
    {
     "name": "stdout",
     "output_type": "stream",
     "text": [
      "0    1336\n",
      "1    1236\n",
      "Name: gender, dtype: int64\n"
     ]
    }
   ],
   "source": [
    "sns.set(font_scale=1.2)\n",
    "df_train['gender'].value_counts().plot(kind='bar', rot=0, figsize=(6,5))\n",
    "plt.xlabel(\"Author gender\")\n",
    "plt.ylabel(\"Count of texts\")\n",
    "plt.title(\"Counts of texts written by male / female authors\", y=1.05)\n",
    "plt.show()\n",
    "\n",
    "print(df_train['gender'].value_counts())"
   ]
  },
  {
   "cell_type": "code",
   "execution_count": 24,
   "metadata": {
    "colab": {
     "base_uri": "https://localhost:8080/"
    },
    "executionInfo": {
     "elapsed": 478,
     "status": "ok",
     "timestamp": 1645568810288,
     "user": {
      "displayName": "Lisa Spahn Lundgren",
      "photoUrl": "https://lh3.googleusercontent.com/a/default-user=s64",
      "userId": "13266833213640265739"
     },
     "user_tz": -60
    },
    "id": "cINSUyfGeXHu",
    "outputId": "664eb058-7cc5-4171-abdd-b000c419c83d"
   },
   "outputs": [
    {
     "data": {
      "image/png": "[encoded data removed]",
      "text/plain": [
       "<Figure size 432x360 with 1 Axes>"
      ]
     },
     "metadata": {},
     "output_type": "display_data"
    },
    {
     "name": "stdout",
     "output_type": "stream",
     "text": [
      "0    334\n",
      "1    310\n",
      "Name: gender, dtype: int64\n"
     ]
    }
   ],
   "source": [
    "sns.set(font_scale=1.2)\n",
    "df_test['gender'].value_counts().plot(kind='bar', rot=0, figsize=(6,5))\n",
    "plt.xlabel(\"Author gender\")\n",
    "plt.ylabel(\"Count of texts\")\n",
    "plt.title(\"Counts of texts written by male / female authors\", y=1.05)\n",
    "plt.show()\n",
    "\n",
    "print(df_test['gender'].value_counts())"
   ]
  },
  {
   "cell_type": "markdown",
   "metadata": {
    "id": "LLPsvVJVV3tk"
   },
   "source": [
    "Save to csv"
   ]
  },
  {
   "cell_type": "code",
   "execution_count": 25,
   "metadata": {
    "id": "iH0aLPVhgdaK"
   },
   "outputs": [],
   "source": [
    "from operator import index\n",
    "\n",
    "df_train.to_csv('../data/train_tokenized.csv', index=False)\n",
    "df_test.to_csv('../data/test_tokenized.csv', index=False)"
   ]
  }
 ],
 "metadata": {
  "colab": {
   "authorship_tag": "ABX9TyOSHOPFxucKTENnouGtUM/9",
   "collapsed_sections": [],
   "name": "preprocess.ipynb",
   "provenance": []
  },
  "kernelspec": {
   "display_name": "Python 3 (ipykernel)",
   "language": "python",
   "name": "python3"
  },
  "language_info": {
   "codemirror_mode": {
    "name": "ipython",
    "version": 3
   },
   "file_extension": ".py",
   "mimetype": "text/x-python",
   "name": "python",
   "nbconvert_exporter": "python",
   "pygments_lexer": "ipython3",
   "version": "3.9.7"
  }
 },
 "nbformat": 4,
 "nbformat_minor": 4
}
