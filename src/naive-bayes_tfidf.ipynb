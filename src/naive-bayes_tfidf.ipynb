{
 "cells": [
  {
   "cell_type": "code",
   "execution_count": 1,
   "metadata": {
    "colab": {
     "base_uri": "https://localhost:8080/"
    },
    "executionInfo": {
     "elapsed": 465,
     "status": "ok",
     "timestamp": 1645568849868,
     "user": {
      "displayName": "Lisa Spahn Lundgren",
      "photoUrl": "https://lh3.googleusercontent.com/a/default-user=s64",
      "userId": "13266833213640265739"
     },
     "user_tz": -60
    },
    "id": "AawEopyLSAmU",
    "outputId": "1cbde335-897f-4b35-cdf6-b8d6ab213f23"
   },
   "outputs": [
    {
     "data": {
      "text/html": [
       "<div>\n",
       "<style scoped>\n",
       "    .dataframe tbody tr th:only-of-type {\n",
       "        vertical-align: middle;\n",
       "    }\n",
       "\n",
       "    .dataframe tbody tr th {\n",
       "        vertical-align: top;\n",
       "    }\n",
       "\n",
       "    .dataframe thead th {\n",
       "        text-align: right;\n",
       "    }\n",
       "</style>\n",
       "<table border=\"1\" class=\"dataframe\">\n",
       "  <thead>\n",
       "    <tr style=\"text-align: right;\">\n",
       "      <th></th>\n",
       "      <th>post</th>\n",
       "      <th>gender</th>\n",
       "      <th>tokenized</th>\n",
       "      <th>cleaned</th>\n",
       "      <th>cluster</th>\n",
       "    </tr>\n",
       "  </thead>\n",
       "  <tbody>\n",
       "    <tr>\n",
       "      <th>0</th>\n",
       "      <td>What? No escape? I thought that I would be ab...</td>\n",
       "      <td>1</td>\n",
       "      <td>['escape', 'thought', 'would', 'able', 'get', ...</td>\n",
       "      <td>['escape', 'thought', 'able', 'need', 'hear', ...</td>\n",
       "      <td>7</td>\n",
       "    </tr>\n",
       "    <tr>\n",
       "      <th>1</th>\n",
       "      <td>And all I can say is Thank You, Thank You!!!  ...</td>\n",
       "      <td>1</td>\n",
       "      <td>['say', 'thank', 'thank', 'think', 'look', 'an...</td>\n",
       "      <td>['thank', 'thank', 'think', 'look', 'surgical'...</td>\n",
       "      <td>7</td>\n",
       "    </tr>\n",
       "    <tr>\n",
       "      <th>2</th>\n",
       "      <td>She is a very very sweet girl :)\\n\\nIts hardly...</td>\n",
       "      <td>1</td>\n",
       "      <td>['sweet', 'girl', 'hardly', '2', 'month', 'sin...</td>\n",
       "      <td>['sweet', 'girl', 'hardly', 'month', 'start', ...</td>\n",
       "      <td>5</td>\n",
       "    </tr>\n",
       "    <tr>\n",
       "      <th>3</th>\n",
       "      <td>I love what Brooke had to say about the event,...</td>\n",
       "      <td>1</td>\n",
       "      <td>['love', 'brooke', 'say', 'event', 'also', 'ti...</td>\n",
       "      <td>['love', 'brooke', 'event', 'tidbit', 'advice'...</td>\n",
       "      <td>2</td>\n",
       "    </tr>\n",
       "    <tr>\n",
       "      <th>4</th>\n",
       "      <td>I have some photos I've been meaning to post f...</td>\n",
       "      <td>1</td>\n",
       "      <td>['photo', 'ive', 'mean', 'post', 'david', 'rei...</td>\n",
       "      <td>['photo', 'mean', 'post', 'david', 'reid', 'lo...</td>\n",
       "      <td>2</td>\n",
       "    </tr>\n",
       "    <tr>\n",
       "      <th>...</th>\n",
       "      <td>...</td>\n",
       "      <td>...</td>\n",
       "      <td>...</td>\n",
       "      <td>...</td>\n",
       "      <td>...</td>\n",
       "    </tr>\n",
       "    <tr>\n",
       "      <th>2569</th>\n",
       "      <td>So, on my long run of the week I like to conte...</td>\n",
       "      <td>1</td>\n",
       "      <td>['long', 'run', 'week', 'like', 'contemplate',...</td>\n",
       "      <td>['long', 'run', 'week', 'like', 'contemplate',...</td>\n",
       "      <td>7</td>\n",
       "    </tr>\n",
       "    <tr>\n",
       "      <th>2570</th>\n",
       "      <td>Contact lenses require a certain degree of car...</td>\n",
       "      <td>0</td>\n",
       "      <td>['contact', 'lenses', 'require', 'certain', 'd...</td>\n",
       "      <td>['contact', 'lense', 'require', 'certain', 'de...</td>\n",
       "      <td>2</td>\n",
       "    </tr>\n",
       "    <tr>\n",
       "      <th>2571</th>\n",
       "      <td>I didn't start watching AD until way after the...</td>\n",
       "      <td>1</td>\n",
       "      <td>['didnt', 'start', 'watch', 'ad', 'way', 'show...</td>\n",
       "      <td>['start', 'watch', 'way', 'late', 'know', 'beg...</td>\n",
       "      <td>2</td>\n",
       "    </tr>\n",
       "    <tr>\n",
       "      <th>2572</th>\n",
       "      <td>At Creation Moments, Ian Taylor starts by aski...</td>\n",
       "      <td>0</td>\n",
       "      <td>['creation', 'moment', 'ian', 'taylor', 'start...</td>\n",
       "      <td>['creation', 'moment', 'ian', 'taylor', 'start...</td>\n",
       "      <td>7</td>\n",
       "    </tr>\n",
       "    <tr>\n",
       "      <th>2573</th>\n",
       "      <td>In all my years of reading horror comics I've ...</td>\n",
       "      <td>0</td>\n",
       "      <td>['year', 'read', 'horror', 'comic', 'ive', 'le...</td>\n",
       "      <td>['year', 'read', 'horror', 'comic', 'learn', '...</td>\n",
       "      <td>2</td>\n",
       "    </tr>\n",
       "  </tbody>\n",
       "</table>\n",
       "<p>2574 rows × 5 columns</p>\n",
       "</div>"
      ],
      "text/plain": [
       "                                                   post  gender  \\\n",
       "0      What? No escape? I thought that I would be ab...       1   \n",
       "1     And all I can say is Thank You, Thank You!!!  ...       1   \n",
       "2     She is a very very sweet girl :)\\n\\nIts hardly...       1   \n",
       "3     I love what Brooke had to say about the event,...       1   \n",
       "4     I have some photos I've been meaning to post f...       1   \n",
       "...                                                 ...     ...   \n",
       "2569  So, on my long run of the week I like to conte...       1   \n",
       "2570  Contact lenses require a certain degree of car...       0   \n",
       "2571  I didn't start watching AD until way after the...       1   \n",
       "2572  At Creation Moments, Ian Taylor starts by aski...       0   \n",
       "2573  In all my years of reading horror comics I've ...       0   \n",
       "\n",
       "                                              tokenized  \\\n",
       "0     ['escape', 'thought', 'would', 'able', 'get', ...   \n",
       "1     ['say', 'thank', 'thank', 'think', 'look', 'an...   \n",
       "2     ['sweet', 'girl', 'hardly', '2', 'month', 'sin...   \n",
       "3     ['love', 'brooke', 'say', 'event', 'also', 'ti...   \n",
       "4     ['photo', 'ive', 'mean', 'post', 'david', 'rei...   \n",
       "...                                                 ...   \n",
       "2569  ['long', 'run', 'week', 'like', 'contemplate',...   \n",
       "2570  ['contact', 'lenses', 'require', 'certain', 'd...   \n",
       "2571  ['didnt', 'start', 'watch', 'ad', 'way', 'show...   \n",
       "2572  ['creation', 'moment', 'ian', 'taylor', 'start...   \n",
       "2573  ['year', 'read', 'horror', 'comic', 'ive', 'le...   \n",
       "\n",
       "                                                cleaned  cluster  \n",
       "0     ['escape', 'thought', 'able', 'need', 'hear', ...        7  \n",
       "1     ['thank', 'thank', 'think', 'look', 'surgical'...        7  \n",
       "2     ['sweet', 'girl', 'hardly', 'month', 'start', ...        5  \n",
       "3     ['love', 'brooke', 'event', 'tidbit', 'advice'...        2  \n",
       "4     ['photo', 'mean', 'post', 'david', 'reid', 'lo...        2  \n",
       "...                                                 ...      ...  \n",
       "2569  ['long', 'run', 'week', 'like', 'contemplate',...        7  \n",
       "2570  ['contact', 'lense', 'require', 'certain', 'de...        2  \n",
       "2571  ['start', 'watch', 'way', 'late', 'know', 'beg...        2  \n",
       "2572  ['creation', 'moment', 'ian', 'taylor', 'start...        7  \n",
       "2573  ['year', 'read', 'horror', 'comic', 'learn', '...        2  \n",
       "\n",
       "[2574 rows x 5 columns]"
      ]
     },
     "execution_count": 1,
     "metadata": {},
     "output_type": "execute_result"
    }
   ],
   "source": [
    "import numpy as np\n",
    "import pandas as pd\n",
    "\n",
    "df_train = pd.read_csv(r'../data/train_tokenized.csv')\n",
    "df_test = pd.read_csv(r'../data/test_tokenized.csv')\n",
    "\n",
    "df_train"
   ]
  },
  {
   "cell_type": "code",
   "execution_count": 2,
   "metadata": {
    "executionInfo": {
     "elapsed": 9,
     "status": "ok",
     "timestamp": 1645568849869,
     "user": {
      "displayName": "Lisa Spahn Lundgren",
      "photoUrl": "https://lh3.googleusercontent.com/a/default-user=s64",
      "userId": "13266833213640265739"
     },
     "user_tz": -60
    },
    "id": "fahA2ZrIXKIc"
   },
   "outputs": [],
   "source": [
    "from sklearn.pipeline import Pipeline\n",
    "from sklearn.feature_extraction.text import TfidfVectorizer\n",
    "from sklearn.naive_bayes import MultinomialNB\n",
    "from sklearn.metrics import classification_report, accuracy_score, f1_score"
   ]
  },
  {
   "cell_type": "markdown",
   "metadata": {
    "id": "4KrczCMvbrzS"
   },
   "source": [
    "### Unigrams"
   ]
  },
  {
   "cell_type": "code",
   "execution_count": 3,
   "metadata": {
    "colab": {
     "base_uri": "https://localhost:8080/"
    },
    "executionInfo": {
     "elapsed": 580,
     "status": "ok",
     "timestamp": 1645568851409,
     "user": {
      "displayName": "Lisa Spahn Lundgren",
      "photoUrl": "https://lh3.googleusercontent.com/a/default-user=s64",
      "userId": "13266833213640265739"
     },
     "user_tz": -60
    },
    "id": "oDLixL2cKUCQ",
    "outputId": "a66caab0-55d7-4dd3-c7ef-cb8ead266b89"
   },
   "outputs": [
    {
     "name": "stdout",
     "output_type": "stream",
     "text": [
      "Accuracy = 0.6832298136645962\n",
      "F1 score = 0.6833214761250743\n"
     ]
    }
   ],
   "source": [
    "pipe1 = Pipeline([('vectorizer', TfidfVectorizer(ngram_range=(1,1))), ('naive', MultinomialNB())])\n",
    "pipe1.fit(X=df_train['tokenized'], y=df_train['gender'])\n",
    "\n",
    "pred1 = pipe1.predict(df_test['tokenized'])\n",
    "#print(classification_report(y_true=df_test['gender'], y_pred=pred1))\n",
    "print(\"Accuracy = \" + str(accuracy_score(y_true=df_test['gender'], y_pred=pred1)))\n",
    "print(\"F1 score = \" + str(f1_score(y_true=df_test['gender'], y_pred=pred1, average='weighted')))"
   ]
  },
  {
   "cell_type": "markdown",
   "metadata": {
    "id": "ml_H8KLNbuki"
   },
   "source": [
    "### Unigrams + Bigrams"
   ]
  },
  {
   "cell_type": "code",
   "execution_count": 4,
   "metadata": {
    "colab": {
     "base_uri": "https://localhost:8080/"
    },
    "executionInfo": {
     "elapsed": 1236,
     "status": "ok",
     "timestamp": 1645569010894,
     "user": {
      "displayName": "Lisa Spahn Lundgren",
      "photoUrl": "https://lh3.googleusercontent.com/a/default-user=s64",
      "userId": "13266833213640265739"
     },
     "user_tz": -60
    },
    "id": "8dlOovEQLvEi",
    "outputId": "15330ce1-e864-419c-e330-6bb76267bc00"
   },
   "outputs": [
    {
     "name": "stdout",
     "output_type": "stream",
     "text": [
      "Accuracy = 0.703416149068323\n",
      "F1 score = 0.7032505226536138\n"
     ]
    }
   ],
   "source": [
    "pipe2 = Pipeline([('vectorizer', TfidfVectorizer(ngram_range=(1,2))), ('naive', MultinomialNB())])\n",
    "pipe2.fit(X=df_train['tokenized'], y=df_train['gender'])\n",
    "\n",
    "pred2 = pipe2.predict(df_test['tokenized'])\n",
    "#print(classification_report(y_true=df_test['gender'], y_pred=pred2))\n",
    "print(\"Accuracy = \" + str(accuracy_score(y_true=df_test['gender'], y_pred=pred2)))\n",
    "print(\"F1 score = \" + str(f1_score(y_true=df_test['gender'], y_pred=pred2, average='weighted')))"
   ]
  },
  {
   "cell_type": "markdown",
   "metadata": {
    "id": "CryyQROzbxI1"
   },
   "source": [
    "### Unigrams + Bigrams + Trigrams"
   ]
  },
  {
   "cell_type": "code",
   "execution_count": 5,
   "metadata": {
    "colab": {
     "base_uri": "https://localhost:8080/"
    },
    "executionInfo": {
     "elapsed": 937,
     "status": "ok",
     "timestamp": 1645568862011,
     "user": {
      "displayName": "Lisa Spahn Lundgren",
      "photoUrl": "https://lh3.googleusercontent.com/a/default-user=s64",
      "userId": "13266833213640265739"
     },
     "user_tz": -60
    },
    "id": "RBFF54t5Lyhj",
    "outputId": "1362347a-0ca4-4945-c0a8-c7676b2df5a1"
   },
   "outputs": [
    {
     "name": "stdout",
     "output_type": "stream",
     "text": [
      "Accuracy = 0.6925465838509317\n",
      "F1 score = 0.6917593733351294\n"
     ]
    }
   ],
   "source": [
    "pipe3 = Pipeline([('vectorizer', TfidfVectorizer(ngram_range=(1,3))), ('naive', MultinomialNB())])\n",
    "pipe3.fit(X=df_train['tokenized'], y=df_train['gender'])\n",
    "\n",
    "pred3 = pipe3.predict(df_test['tokenized'])\n",
    "#print(classification_report(y_true=df_test['gender'], y_pred=pred3))\n",
    "print(\"Accuracy = \" + str(accuracy_score(y_true=df_test['gender'], y_pred=pred3)))\n",
    "print(\"F1 score = \" + str(f1_score(y_true=df_test['gender'], y_pred=pred3, average='weighted')))"
   ]
  },
  {
   "cell_type": "markdown",
   "metadata": {},
   "source": [
    "Also trying 4-grams, 5-grams and 6-grams, but not really any improvement (gets worse if anything)"
   ]
  },
  {
   "cell_type": "code",
   "execution_count": 6,
   "metadata": {
    "colab": {
     "base_uri": "https://localhost:8080/"
    },
    "executionInfo": {
     "elapsed": 10563,
     "status": "ok",
     "timestamp": 1645568872571,
     "user": {
      "displayName": "Lisa Spahn Lundgren",
      "photoUrl": "https://lh3.googleusercontent.com/a/default-user=s64",
      "userId": "13266833213640265739"
     },
     "user_tz": -60
    },
    "id": "8f78m91KgzBW",
    "outputId": "c5ee1d68-31f5-40f4-c403-ac974a7e4482"
   },
   "outputs": [
    {
     "name": "stdout",
     "output_type": "stream",
     "text": [
      "Accuracy = 0.6972049689440993\n",
      "F1 score = 0.6959047120225544\n"
     ]
    }
   ],
   "source": [
    "pipe4 = Pipeline([('vectorizer', TfidfVectorizer(ngram_range=(1,4))), ('naive', MultinomialNB())])\n",
    "pipe4.fit(X=df_train['tokenized'], y=df_train['gender'])\n",
    "\n",
    "pred4 = pipe4.predict(df_test['tokenized'])\n",
    "#print(classification_report(y_true=df_test['gender'], y_pred=pred4))\n",
    "print(\"Accuracy = \" + str(accuracy_score(y_true=df_test['gender'], y_pred=pred4)))\n",
    "print(\"F1 score = \" + str(f1_score(y_true=df_test['gender'], y_pred=pred4, average='weighted')))"
   ]
  },
  {
   "cell_type": "code",
   "execution_count": 7,
   "metadata": {
    "colab": {
     "base_uri": "https://localhost:8080/"
    },
    "executionInfo": {
     "elapsed": 13950,
     "status": "ok",
     "timestamp": 1645568886510,
     "user": {
      "displayName": "Lisa Spahn Lundgren",
      "photoUrl": "https://lh3.googleusercontent.com/a/default-user=s64",
      "userId": "13266833213640265739"
     },
     "user_tz": -60
    },
    "id": "rRCfF2WUg_BH",
    "outputId": "7829dd6f-ffb6-45b3-a2f6-b55cbc1bb260"
   },
   "outputs": [
    {
     "name": "stdout",
     "output_type": "stream",
     "text": [
      "Accuracy = 0.6956521739130435\n",
      "F1 score = 0.6938496853268281\n"
     ]
    }
   ],
   "source": [
    "pipe5 = Pipeline([('vectorizer', TfidfVectorizer(ngram_range=(1,5))), ('naive', MultinomialNB())])\n",
    "pipe5.fit(X=df_train['tokenized'], y=df_train['gender'])\n",
    "\n",
    "pred5 = pipe5.predict(df_test['tokenized'])\n",
    "#print(classification_report(y_true=df_test['gender'], y_pred=pred5))\n",
    "print(\"Accuracy = \" + str(accuracy_score(y_true=df_test['gender'], y_pred=pred5)))\n",
    "print(\"F1 score = \" + str(f1_score(y_true=df_test['gender'], y_pred=pred5, average='weighted')))"
   ]
  },
  {
   "cell_type": "code",
   "execution_count": 8,
   "metadata": {
    "colab": {
     "base_uri": "https://localhost:8080/"
    },
    "executionInfo": {
     "elapsed": 16711,
     "status": "ok",
     "timestamp": 1645568903194,
     "user": {
      "displayName": "Lisa Spahn Lundgren",
      "photoUrl": "https://lh3.googleusercontent.com/a/default-user=s64",
      "userId": "13266833213640265739"
     },
     "user_tz": -60
    },
    "id": "NuIokMMLhnck",
    "outputId": "01ccbfb6-1884-4d96-9240-6f0f2a26488b"
   },
   "outputs": [
    {
     "name": "stdout",
     "output_type": "stream",
     "text": [
      "Accuracy = 0.6925465838509317\n",
      "F1 score = 0.6902360095681963\n"
     ]
    }
   ],
   "source": [
    "pipe6 = Pipeline([('vectorizer', TfidfVectorizer(ngram_range=(1,6))), ('naive', MultinomialNB())])\n",
    "pipe6.fit(X=df_train['tokenized'], y=df_train['gender'])\n",
    "\n",
    "pred6 = pipe6.predict(df_test['tokenized'])\n",
    "#print(classification_report(y_true=df_test['gender'], y_pred=pred6))\n",
    "print(\"Accuracy = \" + str(accuracy_score(y_true=df_test['gender'], y_pred=pred6)))\n",
    "print(\"F1 score = \" + str(f1_score(y_true=df_test['gender'], y_pred=pred6, average='weighted')))"
   ]
  },
  {
   "cell_type": "markdown",
   "metadata": {
    "id": "-A4L7ck8i0UR"
   },
   "source": [
    "## Tune Naive Bayes"
   ]
  },
  {
   "cell_type": "code",
   "execution_count": 12,
   "metadata": {
    "colab": {
     "base_uri": "https://localhost:8080/"
    },
    "executionInfo": {
     "elapsed": 369277,
     "status": "ok",
     "timestamp": 1645570233570,
     "user": {
      "displayName": "Lisa Spahn Lundgren",
      "photoUrl": "https://lh3.googleusercontent.com/a/default-user=s64",
      "userId": "13266833213640265739"
     },
     "user_tz": -60
    },
    "id": "tuYLnqEviztR",
    "outputId": "c0241bd4-af75-4eae-8d08-e4bd5b3cfca2"
   },
   "outputs": [
    {
     "name": "stdout",
     "output_type": "stream",
     "text": [
      "Best CV score = 0.719 with the following parameters:\n",
      "{'naive__alpha': 0.1, 'vectorizer__ngram_range': (1, 2)}\n"
     ]
    }
   ],
   "source": [
    "from sklearn.model_selection import GridSearchCV\n",
    "\n",
    "pipe = Pipeline([('vectorizer', TfidfVectorizer()), ('naive', MultinomialNB())])\n",
    "\n",
    "parameters = {'vectorizer__ngram_range': [(1,1), (1,2), (1,3), (1,4), (1,5)], 'naive__alpha':[0.1, 0.5, 1.0, 1.5, 2.0] }\n",
    "# by default 5-fold cross validation\n",
    "search = GridSearchCV(pipe, parameters)\n",
    "\n",
    "search.fit(df_train['tokenized'], df_train['gender'])\n",
    "\n",
    "print(\"Best CV score = %0.3f with the following parameters:\" % search.best_score_)\n",
    "print(search.best_params_)"
   ]
  },
  {
   "cell_type": "markdown",
   "metadata": {
    "id": "x4hcrzVLvehw"
   },
   "source": [
    "According to the cross-validation search, the optimal model\n",
    "\n",
    "*   uses unigrams and bigrams \n",
    "*   has naive bayes parameter alpha=0.1"
   ]
  },
  {
   "cell_type": "code",
   "execution_count": 13,
   "metadata": {
    "colab": {
     "base_uri": "https://localhost:8080/"
    },
    "executionInfo": {
     "elapsed": 4121,
     "status": "ok",
     "timestamp": 1645572340861,
     "user": {
      "displayName": "Lisa Spahn Lundgren",
      "photoUrl": "https://lh3.googleusercontent.com/a/default-user=s64",
      "userId": "13266833213640265739"
     },
     "user_tz": -60
    },
    "id": "2InDudFjrtVH",
    "outputId": "ea707f69-d803-4ab7-9f73-63560dffa365"
   },
   "outputs": [
    {
     "name": "stdout",
     "output_type": "stream",
     "text": [
      "              precision    recall  f1-score   support\n",
      "\n",
      "           0       0.73      0.69      0.71       335\n",
      "           1       0.68      0.73      0.71       309\n",
      "\n",
      "    accuracy                           0.71       644\n",
      "   macro avg       0.71      0.71      0.71       644\n",
      "weighted avg       0.71      0.71      0.71       644\n",
      "\n",
      "Accuracy  = 0.7080745341614907\n",
      "Precision = 0.7096100234728488\n",
      "Recall    = 0.7080745341614907\n",
      "F1 score  = 0.7081590074093822\n"
     ]
    }
   ],
   "source": [
    "from sklearn.metrics import accuracy_score, f1_score, recall_score, precision_score\n",
    "\n",
    "opt_pipe = Pipeline([('vectorizer', TfidfVectorizer(ngram_range=(1,2))), ('naive', MultinomialNB(alpha=0.1))])\n",
    "opt_pipe.fit(df_train['tokenized'], df_train['gender'])\n",
    "\n",
    "pred = opt_pipe.predict(df_test['tokenized']) # or search.predict(df_test['tokenized'])\n",
    "\n",
    "print(classification_report(df_test['gender'], pred))\n",
    "print(\"Accuracy  = \" + str(accuracy_score(y_true=df_test['gender'], y_pred=pred)))\n",
    "print(\"Precision = \" + str(precision_score(y_true=df_test['gender'], y_pred=pred, average='weighted')))\n",
    "print(\"Recall    = \" + str(recall_score(y_true=df_test['gender'], y_pred=pred, average='weighted')))\n",
    "print(\"F1 score  = \" + str(f1_score(y_true=df_test['gender'], y_pred=pred, average='weighted')))"
   ]
  },
  {
   "cell_type": "code",
   "execution_count": 14,
   "metadata": {
    "colab": {
     "base_uri": "https://localhost:8080/",
     "height": 279
    },
    "executionInfo": {
     "elapsed": 382,
     "status": "ok",
     "timestamp": 1645572342802,
     "user": {
      "displayName": "Lisa Spahn Lundgren",
      "photoUrl": "https://lh3.googleusercontent.com/a/default-user=s64",
      "userId": "13266833213640265739"
     },
     "user_tz": -60
    },
    "id": "oM5ceC_Komrv",
    "outputId": "80a8c6c0-9edf-434c-ee7a-30be91973489"
   },
   "outputs": [
    {
     "data": {
      "image/png": "[encoded data removed]",
      "text/plain": [
       "<Figure size 432x288 with 2 Axes>"
      ]
     },
     "metadata": {
      "needs_background": "light"
     },
     "output_type": "display_data"
    }
   ],
   "source": [
    "from sklearn.metrics import confusion_matrix, ConfusionMatrixDisplay\n",
    "import matplotlib.pyplot as plt\n",
    "\n",
    "cm = confusion_matrix(df_test['gender'], pred)\n",
    "disp = ConfusionMatrixDisplay(confusion_matrix=cm, display_labels=['male', 'female'])\n",
    "disp.plot()\n",
    "plt.grid(False)\n",
    "plt.show()"
   ]
  },
  {
   "cell_type": "markdown",
   "metadata": {
    "id": "nms-buuzn64u"
   },
   "source": [
    "### Save the optimal model to the drive"
   ]
  },
  {
   "cell_type": "code",
   "execution_count": 15,
   "metadata": {
    "executionInfo": {
     "elapsed": 631,
     "status": "ok",
     "timestamp": 1645572349253,
     "user": {
      "displayName": "Lisa Spahn Lundgren",
      "photoUrl": "https://lh3.googleusercontent.com/a/default-user=s64",
      "userId": "13266833213640265739"
     },
     "user_tz": -60
    },
    "id": "KrHpKDRFnXsr"
   },
   "outputs": [],
   "source": [
    "import pickle\n",
    "\n",
    "model = '../models/NB_tfIdf.sav'\n",
    "pickle.dump(opt_pipe, open(model, 'wb'))\n",
    "\n",
    "# load the model with pickle.load(open(filename, 'rb'))"
   ]
  }
 ],
 "metadata": {
  "colab": {
   "authorship_tag": "ABX9TyOKhY0oT2EiGaEG7lEOO5XF",
   "collapsed_sections": [],
   "name": "naive-bayes_tfidf.ipynb",
   "provenance": []
  },
  "kernelspec": {
   "display_name": "Python 3 (ipykernel)",
   "language": "python",
   "name": "python3"
  },
  "language_info": {
   "codemirror_mode": {
    "name": "ipython",
    "version": 3
   },
   "file_extension": ".py",
   "mimetype": "text/x-python",
   "name": "python",
   "nbconvert_exporter": "python",
   "pygments_lexer": "ipython3",
   "version": "3.9.7"
  }
 },
 "nbformat": 4,
 "nbformat_minor": 4
}
